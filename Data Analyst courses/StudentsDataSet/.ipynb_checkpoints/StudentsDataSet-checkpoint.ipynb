{
 "cells": [
  {
   "cell_type": "markdown",
   "id": "a5ce6283",
   "metadata": {},
   "source": [
    "Загружаем необходимые библиотеки"
   ]
  },
  {
   "cell_type": "code",
   "execution_count": 6,
   "id": "655d5644",
   "metadata": {},
   "outputs": [],
   "source": [
    "import pandas as pd\n",
    "import seaborn as sns"
   ]
  },
  {
   "cell_type": "markdown",
   "id": "a9d0909a",
   "metadata": {},
   "source": [
    "Подключаем датафрейм"
   ]
  },
  {
   "cell_type": "code",
   "execution_count": 7,
   "id": "bf59111b",
   "metadata": {},
   "outputs": [
    {
     "data": {
      "text/html": [
       "<div>\n",
       "<style scoped>\n",
       "    .dataframe tbody tr th:only-of-type {\n",
       "        vertical-align: middle;\n",
       "    }\n",
       "\n",
       "    .dataframe tbody tr th {\n",
       "        vertical-align: top;\n",
       "    }\n",
       "\n",
       "    .dataframe thead th {\n",
       "        text-align: right;\n",
       "    }\n",
       "</style>\n",
       "<table border=\"1\" class=\"dataframe\">\n",
       "  <thead>\n",
       "    <tr style=\"text-align: right;\">\n",
       "      <th></th>\n",
       "      <th>Age</th>\n",
       "      <th>Growth</th>\n",
       "      <th>Shoe size</th>\n",
       "      <th>Course number</th>\n",
       "      <th>Year of birth</th>\n",
       "      <th>Friend number</th>\n",
       "      <th>Russian rating</th>\n",
       "      <th>Maths rating</th>\n",
       "      <th>Physics rating</th>\n",
       "      <th>Computer science rating</th>\n",
       "      <th>...</th>\n",
       "      <th>Social network duration min</th>\n",
       "      <th>Chocolate</th>\n",
       "      <th>City population</th>\n",
       "      <th>Strange people</th>\n",
       "      <th>Your insitute</th>\n",
       "      <th>Brother-sister</th>\n",
       "      <th>Plane seat</th>\n",
       "      <th>MIddle and index finger</th>\n",
       "      <th>Middle and ring finger</th>\n",
       "      <th>Middle and little finger</th>\n",
       "    </tr>\n",
       "  </thead>\n",
       "  <tbody>\n",
       "    <tr>\n",
       "      <th>0</th>\n",
       "      <td>20</td>\n",
       "      <td>170</td>\n",
       "      <td>40</td>\n",
       "      <td>2</td>\n",
       "      <td>2002</td>\n",
       "      <td>100</td>\n",
       "      <td>85</td>\n",
       "      <td>86</td>\n",
       "      <td>0</td>\n",
       "      <td>84</td>\n",
       "      <td>...</td>\n",
       "      <td>45</td>\n",
       "      <td>Сникерс</td>\n",
       "      <td>800000.0</td>\n",
       "      <td>Экономический</td>\n",
       "      <td>Математический и ИТ</td>\n",
       "      <td>нет ни брата ни сестры</td>\n",
       "      <td>У окна (пардон: у иллюминатора)</td>\n",
       "      <td>20</td>\n",
       "      <td>10.0</td>\n",
       "      <td>40.0</td>\n",
       "    </tr>\n",
       "    <tr>\n",
       "      <th>1</th>\n",
       "      <td>22</td>\n",
       "      <td>191</td>\n",
       "      <td>43</td>\n",
       "      <td>7</td>\n",
       "      <td>2000</td>\n",
       "      <td>307</td>\n",
       "      <td>69</td>\n",
       "      <td>74</td>\n",
       "      <td>64</td>\n",
       "      <td>72</td>\n",
       "      <td>...</td>\n",
       "      <td>180</td>\n",
       "      <td>КитКат</td>\n",
       "      <td>800000.0</td>\n",
       "      <td>Математический и ИТ</td>\n",
       "      <td>Математический и ИТ</td>\n",
       "      <td>есть и брат и сестра</td>\n",
       "      <td>В середине</td>\n",
       "      <td>5</td>\n",
       "      <td>5.0</td>\n",
       "      <td>20.0</td>\n",
       "    </tr>\n",
       "    <tr>\n",
       "      <th>2</th>\n",
       "      <td>21</td>\n",
       "      <td>172</td>\n",
       "      <td>41</td>\n",
       "      <td>4</td>\n",
       "      <td>2000</td>\n",
       "      <td>186</td>\n",
       "      <td>78</td>\n",
       "      <td>62</td>\n",
       "      <td>0</td>\n",
       "      <td>0</td>\n",
       "      <td>...</td>\n",
       "      <td>90</td>\n",
       "      <td>КитКат</td>\n",
       "      <td>770000.0</td>\n",
       "      <td>Педагогический</td>\n",
       "      <td>Другое</td>\n",
       "      <td>есть брат</td>\n",
       "      <td>У окна (пардон: у иллюминатора)</td>\n",
       "      <td>13</td>\n",
       "      <td>10.0</td>\n",
       "      <td>26.0</td>\n",
       "    </tr>\n",
       "    <tr>\n",
       "      <th>3</th>\n",
       "      <td>19</td>\n",
       "      <td>168</td>\n",
       "      <td>38</td>\n",
       "      <td>2</td>\n",
       "      <td>2003</td>\n",
       "      <td>604</td>\n",
       "      <td>72</td>\n",
       "      <td>0</td>\n",
       "      <td>0</td>\n",
       "      <td>0</td>\n",
       "      <td>...</td>\n",
       "      <td>200</td>\n",
       "      <td>Баунти</td>\n",
       "      <td>900000.0</td>\n",
       "      <td>СоцГум</td>\n",
       "      <td>Юридический</td>\n",
       "      <td>есть сестра</td>\n",
       "      <td>У окна (пардон: у иллюминатора)</td>\n",
       "      <td>12</td>\n",
       "      <td>13.5</td>\n",
       "      <td>35.0</td>\n",
       "    </tr>\n",
       "    <tr>\n",
       "      <th>4</th>\n",
       "      <td>23</td>\n",
       "      <td>159</td>\n",
       "      <td>36</td>\n",
       "      <td>1</td>\n",
       "      <td>1998</td>\n",
       "      <td>144</td>\n",
       "      <td>0</td>\n",
       "      <td>0</td>\n",
       "      <td>0</td>\n",
       "      <td>0</td>\n",
       "      <td>...</td>\n",
       "      <td>400</td>\n",
       "      <td>Баунти</td>\n",
       "      <td>860000.0</td>\n",
       "      <td>Педагогический</td>\n",
       "      <td>Педагогический</td>\n",
       "      <td>есть сестра</td>\n",
       "      <td>У окна (пардон: у иллюминатора)</td>\n",
       "      <td>10</td>\n",
       "      <td>11.0</td>\n",
       "      <td>22.0</td>\n",
       "    </tr>\n",
       "  </tbody>\n",
       "</table>\n",
       "<p>5 rows × 48 columns</p>\n",
       "</div>"
      ],
      "text/plain": [
       "   Age  Growth  Shoe size  Course number  Year of birth  Friend number  \\\n",
       "0   20     170         40              2           2002            100   \n",
       "1   22     191         43              7           2000            307   \n",
       "2   21     172         41              4           2000            186   \n",
       "3   19     168         38              2           2003            604   \n",
       "4   23     159         36              1           1998            144   \n",
       "\n",
       "   Russian rating  Maths rating  Physics rating  Computer science rating  ...  \\\n",
       "0              85            86               0                       84  ...   \n",
       "1              69            74              64                       72  ...   \n",
       "2              78            62               0                        0  ...   \n",
       "3              72             0               0                        0  ...   \n",
       "4               0             0               0                        0  ...   \n",
       "\n",
       "   Social network duration min  Chocolate  City population  \\\n",
       "0                           45    Сникерс         800000.0   \n",
       "1                          180     КитКат         800000.0   \n",
       "2                           90     КитКат         770000.0   \n",
       "3                          200     Баунти         900000.0   \n",
       "4                          400     Баунти         860000.0   \n",
       "\n",
       "        Strange people        Your insitute          Brother-sister  \\\n",
       "0        Экономический  Математический и ИТ  нет ни брата ни сестры   \n",
       "1  Математический и ИТ  Математический и ИТ    есть и брат и сестра   \n",
       "2       Педагогический               Другое               есть брат   \n",
       "3               СоцГум          Юридический             есть сестра   \n",
       "4       Педагогический       Педагогический             есть сестра   \n",
       "\n",
       "                        Plane seat  MIddle and index finger  \\\n",
       "0  У окна (пардон: у иллюминатора)                       20   \n",
       "1                       В середине                        5   \n",
       "2  У окна (пардон: у иллюминатора)                       13   \n",
       "3  У окна (пардон: у иллюминатора)                       12   \n",
       "4  У окна (пардон: у иллюминатора)                       10   \n",
       "\n",
       "   Middle and ring finger  Middle and little finger  \n",
       "0                    10.0                      40.0  \n",
       "1                     5.0                      20.0  \n",
       "2                    10.0                      26.0  \n",
       "3                    13.5                      35.0  \n",
       "4                    11.0                      22.0  \n",
       "\n",
       "[5 rows x 48 columns]"
      ]
     },
     "execution_count": 7,
     "metadata": {},
     "output_type": "execute_result"
    }
   ],
   "source": [
    "df = pd.read_csv('C:/Users/POZI/Downloads/students.csv', delimiter = ',', skipinitialspace=True)\n",
    "df_test = pd.read_csv('C:/Users/POZI/Downloads/students_test.csv', delimiter = ',', skipinitialspace=True)\n",
    "df.head()"
   ]
  },
  {
   "cell_type": "code",
   "execution_count": 16,
   "id": "e39cf346",
   "metadata": {},
   "outputs": [
    {
     "name": "stdout",
     "output_type": "stream",
     "text": [
      "<class 'pandas.core.frame.DataFrame'>\n",
      "RangeIndex: 186 entries, 0 to 185\n",
      "Data columns (total 48 columns):\n",
      " #   Column                       Non-Null Count  Dtype  \n",
      "---  ------                       --------------  -----  \n",
      " 0   Age                          186 non-null    int64  \n",
      " 1   Growth                       186 non-null    int64  \n",
      " 2   Shoe size                    186 non-null    int64  \n",
      " 3   Course number                186 non-null    int64  \n",
      " 4   Year of birth                186 non-null    int64  \n",
      " 5   Friend number                186 non-null    int64  \n",
      " 6   Russian rating               186 non-null    int64  \n",
      " 7   Maths rating                 186 non-null    int64  \n",
      " 8   Physics rating               186 non-null    int64  \n",
      " 9   Computer science rating      186 non-null    int64  \n",
      " 10  Chemistry rating             186 non-null    int64  \n",
      " 11  Literature rating            186 non-null    int64  \n",
      " 12  History rating               186 non-null    int64  \n",
      " 13  Geography rating             186 non-null    int64  \n",
      " 14  Biology rating               186 non-null    int64  \n",
      " 15  Foreign language rating      186 non-null    int64  \n",
      " 16  Social science rating        186 non-null    int64  \n",
      " 17  Distance to home km          186 non-null    int64  \n",
      " 18  Minutes to first class       186 non-null    int64  \n",
      " 19  Children number              150 non-null    float64\n",
      " 20  Removed teeth                148 non-null    float64\n",
      " 21  Weight                       157 non-null    float64\n",
      " 22  Glasses                      184 non-null    object \n",
      " 23  Sex                          186 non-null    object \n",
      " 24  Problems in last semester    186 non-null    object \n",
      " 25  Coin                         186 non-null    object \n",
      " 26  Rock paper scissors          186 non-null    object \n",
      " 27  Animal                       186 non-null    object \n",
      " 28  Month of birthday            186 non-null    int64  \n",
      " 29  Your rating in university    186 non-null    object \n",
      " 30  Fastfood                     186 non-null    object \n",
      " 31  Height of 5000 mm            186 non-null    int64  \n",
      " 32  Width of 5000 mm             186 non-null    int64  \n",
      " 33  Putin age                    186 non-null    int64  \n",
      " 34  Army                         186 non-null    object \n",
      " 35  Hostel                       186 non-null    object \n",
      " 36  Hair length                  186 non-null    float64\n",
      " 37  Floor number                 186 non-null    int64  \n",
      " 38  Social network duration min  186 non-null    int64  \n",
      " 39  Chocolate                    186 non-null    object \n",
      " 40  City population              186 non-null    float64\n",
      " 41  Strange people               186 non-null    object \n",
      " 42  Your insitute                186 non-null    object \n",
      " 43  Brother-sister               186 non-null    object \n",
      " 44  Plane seat                   186 non-null    object \n",
      " 45  MIddle and index finger      186 non-null    int64  \n",
      " 46  Middle and ring finger       186 non-null    float64\n",
      " 47  Middle and little finger     186 non-null    float64\n",
      "dtypes: float64(7), int64(26), object(15)\n",
      "memory usage: 69.9+ KB\n"
     ]
    }
   ],
   "source": [
    "df.info()"
   ]
  },
  {
   "cell_type": "code",
   "execution_count": 27,
   "id": "57da420f",
   "metadata": {
    "scrolled": true
   },
   "outputs": [
    {
     "data": {
      "text/plain": [
       "Age                                                          22\n",
       "Growth                                                      161\n",
       "Shoe size                                                    38\n",
       "Course number                                                 7\n",
       "Year of birth                                              2000\n",
       "Friend number                                                50\n",
       "Russian rating                                               91\n",
       "Maths rating                                                 74\n",
       "Physics rating                                                0\n",
       "Computer science rating                                       0\n",
       "Chemistry rating                                              0\n",
       "Literature rating                                             0\n",
       "History rating                                                0\n",
       "Geography rating                                              0\n",
       "Biology rating                                               61\n",
       "Foreign language rating                                       0\n",
       "Social science rating                                         0\n",
       "Distance to home km                                           0\n",
       "Minutes to first class                                       45\n",
       "Children number                                             NaN\n",
       "Removed teeth                                               NaN\n",
       "Weight                                                     52.0\n",
       "Glasses                                                     нет\n",
       "Sex                                                     женский\n",
       "Problems in last semester                                   нет\n",
       "Coin                                                       Орел\n",
       "Rock paper scissors                                      Бумага\n",
       "Animal                                                    Кошек\n",
       "Month of birthday                                             5\n",
       "Your rating in university          выше средней по университету\n",
       "Fastfood                                                    KFC\n",
       "Height of 5000 mm                                            65\n",
       "Width of 5000 mm                                            200\n",
       "Putin age                                                    68\n",
       "Army                           не призовут (по разным причинам)\n",
       "Hostel                                                      нет\n",
       "Hair length                                                40.0\n",
       "Floor number                                                  6\n",
       "Social network duration min                                1800\n",
       "Chocolate                                                  Натс\n",
       "City population                                        850000.0\n",
       "Strange people                              Математический и ИТ\n",
       "Your insitute                                            Другое\n",
       "Brother-sister                                        есть брат\n",
       "Plane seat                      У окна (пардон: у иллюминатора)\n",
       "MIddle and index finger                                       5\n",
       "Middle and ring finger                                     13.0\n",
       "Middle and little finger                                   35.0\n",
       "Name: 168, dtype: object"
      ]
     },
     "execution_count": 27,
     "metadata": {},
     "output_type": "execute_result"
    }
   ],
   "source": [
    "df.loc[168]"
   ]
  },
  {
   "cell_type": "markdown",
   "id": "6813871c",
   "metadata": {},
   "source": [
    "Используем функции агрегации"
   ]
  },
  {
   "cell_type": "code",
   "execution_count": 31,
   "id": "69b3f5e7",
   "metadata": {},
   "outputs": [
    {
     "data": {
      "text/plain": [
       "(64.03184713375796, 60.0, 120.0, 3.0)"
      ]
     },
     "execution_count": 31,
     "metadata": {},
     "output_type": "execute_result"
    }
   ],
   "source": [
    "df['Weight'].mean(), df['Weight'].median(), df['Weight'].max(), df['Weight'].min()"
   ]
  },
  {
   "cell_type": "code",
   "execution_count": 8,
   "id": "d2a5137b",
   "metadata": {},
   "outputs": [
    {
     "data": {
      "text/plain": [
       "Ножницы    88\n",
       "Камень     60\n",
       "Бумага     38\n",
       "Name: Rock paper scissors, dtype: int64"
      ]
     },
     "execution_count": 8,
     "metadata": {},
     "output_type": "execute_result"
    }
   ],
   "source": [
    "df['Rock paper scissors'].value_counts()"
   ]
  },
  {
   "cell_type": "code",
   "execution_count": 26,
   "id": "67c2419d",
   "metadata": {},
   "outputs": [],
   "source": [
    "df = df.reset_index()"
   ]
  },
  {
   "cell_type": "code",
   "execution_count": 45,
   "id": "4e1df1ac",
   "metadata": {},
   "outputs": [
    {
     "data": {
      "text/plain": [
       "0      женский\n",
       "1      мужской\n",
       "2      мужской\n",
       "3      женский\n",
       "4      женский\n",
       "        ...   \n",
       "181    женский\n",
       "182    женский\n",
       "183    женский\n",
       "184    женский\n",
       "185    женский\n",
       "Name: Sex, Length: 186, dtype: object"
      ]
     },
     "execution_count": 45,
     "metadata": {},
     "output_type": "execute_result"
    }
   ],
   "source": [
    "df.get('Sex')"
   ]
  },
  {
   "cell_type": "code",
   "execution_count": 42,
   "id": "72664f16",
   "metadata": {},
   "outputs": [
    {
     "data": {
      "text/plain": [
       "(Index(['index', 'Age', 'Growth', 'Shoe size', 'Course number', 'Year of birth',\n",
       "        'Friend number', 'Russian rating', 'Maths rating', 'Physics rating',\n",
       "        'Computer science rating', 'Chemistry rating', 'Literature rating',\n",
       "        'History rating', 'Geography rating', 'Biology rating',\n",
       "        'Foreign language rating', 'Social science rating',\n",
       "        'Distance to home km', 'Minutes to first class', 'Children number',\n",
       "        'Removed teeth', 'Weight', 'Glasses', 'Sex',\n",
       "        'Problems in last semester', 'Coin', 'Rock paper scissors', 'Animal',\n",
       "        'Month of birthday', 'Your rating in university', 'Fastfood',\n",
       "        'Height of 5000 mm', 'Width of 5000 mm', 'Putin age', 'Army', 'Hostel',\n",
       "        'Hair length', 'Floor number', 'Social network duration min',\n",
       "        'Chocolate', 'City population', 'Strange people', 'Your insitute',\n",
       "        'Brother-sister', 'Plane seat', 'MIddle and index finger',\n",
       "        'Middle and ring finger', 'Middle and little finger'],\n",
       "       dtype='object'),\n",
       " RangeIndex(start=0, stop=186, step=1))"
      ]
     },
     "execution_count": 42,
     "metadata": {},
     "output_type": "execute_result"
    }
   ],
   "source": [
    "df.columns, df.index"
   ]
  },
  {
   "cell_type": "code",
   "execution_count": 58,
   "id": "3f397941",
   "metadata": {},
   "outputs": [
    {
     "data": {
      "text/html": [
       "<div>\n",
       "<style scoped>\n",
       "    .dataframe tbody tr th:only-of-type {\n",
       "        vertical-align: middle;\n",
       "    }\n",
       "\n",
       "    .dataframe tbody tr th {\n",
       "        vertical-align: top;\n",
       "    }\n",
       "\n",
       "    .dataframe thead th {\n",
       "        text-align: right;\n",
       "    }\n",
       "</style>\n",
       "<table border=\"1\" class=\"dataframe\">\n",
       "  <thead>\n",
       "    <tr style=\"text-align: right;\">\n",
       "      <th></th>\n",
       "      <th>Weight</th>\n",
       "      <th>Sex</th>\n",
       "    </tr>\n",
       "  </thead>\n",
       "  <tbody>\n",
       "    <tr>\n",
       "      <th>0</th>\n",
       "      <td>64.0</td>\n",
       "      <td>женский</td>\n",
       "    </tr>\n",
       "    <tr>\n",
       "      <th>1</th>\n",
       "      <td>73.0</td>\n",
       "      <td>мужской</td>\n",
       "    </tr>\n",
       "    <tr>\n",
       "      <th>2</th>\n",
       "      <td>60.0</td>\n",
       "      <td>мужской</td>\n",
       "    </tr>\n",
       "    <tr>\n",
       "      <th>3</th>\n",
       "      <td>59.0</td>\n",
       "      <td>женский</td>\n",
       "    </tr>\n",
       "    <tr>\n",
       "      <th>4</th>\n",
       "      <td>57.0</td>\n",
       "      <td>женский</td>\n",
       "    </tr>\n",
       "    <tr>\n",
       "      <th>5</th>\n",
       "      <td>50.0</td>\n",
       "      <td>мужской</td>\n",
       "    </tr>\n",
       "    <tr>\n",
       "      <th>6</th>\n",
       "      <td>55.0</td>\n",
       "      <td>мужской</td>\n",
       "    </tr>\n",
       "    <tr>\n",
       "      <th>7</th>\n",
       "      <td>120.0</td>\n",
       "      <td>мужской</td>\n",
       "    </tr>\n",
       "    <tr>\n",
       "      <th>8</th>\n",
       "      <td>69.0</td>\n",
       "      <td>мужской</td>\n",
       "    </tr>\n",
       "    <tr>\n",
       "      <th>9</th>\n",
       "      <td>58.0</td>\n",
       "      <td>женский</td>\n",
       "    </tr>\n",
       "    <tr>\n",
       "      <th>10</th>\n",
       "      <td>47.0</td>\n",
       "      <td>женский</td>\n",
       "    </tr>\n",
       "    <tr>\n",
       "      <th>11</th>\n",
       "      <td>98.0</td>\n",
       "      <td>мужской</td>\n",
       "    </tr>\n",
       "    <tr>\n",
       "      <th>12</th>\n",
       "      <td>NaN</td>\n",
       "      <td>женский</td>\n",
       "    </tr>\n",
       "  </tbody>\n",
       "</table>\n",
       "</div>"
      ],
      "text/plain": [
       "    Weight      Sex\n",
       "0     64.0  женский\n",
       "1     73.0  мужской\n",
       "2     60.0  мужской\n",
       "3     59.0  женский\n",
       "4     57.0  женский\n",
       "5     50.0  мужской\n",
       "6     55.0  мужской\n",
       "7    120.0  мужской\n",
       "8     69.0  мужской\n",
       "9     58.0  женский\n",
       "10    47.0  женский\n",
       "11    98.0  мужской\n",
       "12     NaN  женский"
      ]
     },
     "execution_count": 58,
     "metadata": {},
     "output_type": "execute_result"
    }
   ],
   "source": [
    "df.loc[0:12, ['Weight', 'Sex']]"
   ]
  },
  {
   "cell_type": "markdown",
   "id": "3172f0b9",
   "metadata": {},
   "source": [
    "Делаем выборку всех данный по условию пол = женский"
   ]
  },
  {
   "cell_type": "code",
   "execution_count": 62,
   "id": "4edb5462",
   "metadata": {},
   "outputs": [
    {
     "data": {
      "text/html": [
       "<div>\n",
       "<style scoped>\n",
       "    .dataframe tbody tr th:only-of-type {\n",
       "        vertical-align: middle;\n",
       "    }\n",
       "\n",
       "    .dataframe tbody tr th {\n",
       "        vertical-align: top;\n",
       "    }\n",
       "\n",
       "    .dataframe thead th {\n",
       "        text-align: right;\n",
       "    }\n",
       "</style>\n",
       "<table border=\"1\" class=\"dataframe\">\n",
       "  <thead>\n",
       "    <tr style=\"text-align: right;\">\n",
       "      <th></th>\n",
       "      <th>index</th>\n",
       "      <th>Age</th>\n",
       "      <th>Growth</th>\n",
       "      <th>Shoe size</th>\n",
       "      <th>Course number</th>\n",
       "      <th>Year of birth</th>\n",
       "      <th>Friend number</th>\n",
       "      <th>Russian rating</th>\n",
       "      <th>Maths rating</th>\n",
       "      <th>Physics rating</th>\n",
       "      <th>...</th>\n",
       "      <th>Social network duration min</th>\n",
       "      <th>Chocolate</th>\n",
       "      <th>City population</th>\n",
       "      <th>Strange people</th>\n",
       "      <th>Your insitute</th>\n",
       "      <th>Brother-sister</th>\n",
       "      <th>Plane seat</th>\n",
       "      <th>MIddle and index finger</th>\n",
       "      <th>Middle and ring finger</th>\n",
       "      <th>Middle and little finger</th>\n",
       "    </tr>\n",
       "  </thead>\n",
       "  <tbody>\n",
       "    <tr>\n",
       "      <th>0</th>\n",
       "      <td>0</td>\n",
       "      <td>20</td>\n",
       "      <td>170</td>\n",
       "      <td>40</td>\n",
       "      <td>2</td>\n",
       "      <td>2002</td>\n",
       "      <td>100</td>\n",
       "      <td>85</td>\n",
       "      <td>86</td>\n",
       "      <td>0</td>\n",
       "      <td>...</td>\n",
       "      <td>45</td>\n",
       "      <td>Сникерс</td>\n",
       "      <td>800000.0</td>\n",
       "      <td>Экономический</td>\n",
       "      <td>Математический и ИТ</td>\n",
       "      <td>нет ни брата ни сестры</td>\n",
       "      <td>У окна (пардон: у иллюминатора)</td>\n",
       "      <td>20</td>\n",
       "      <td>10.0</td>\n",
       "      <td>40.0</td>\n",
       "    </tr>\n",
       "    <tr>\n",
       "      <th>3</th>\n",
       "      <td>3</td>\n",
       "      <td>19</td>\n",
       "      <td>168</td>\n",
       "      <td>38</td>\n",
       "      <td>2</td>\n",
       "      <td>2003</td>\n",
       "      <td>604</td>\n",
       "      <td>72</td>\n",
       "      <td>0</td>\n",
       "      <td>0</td>\n",
       "      <td>...</td>\n",
       "      <td>200</td>\n",
       "      <td>Баунти</td>\n",
       "      <td>900000.0</td>\n",
       "      <td>СоцГум</td>\n",
       "      <td>Юридический</td>\n",
       "      <td>есть сестра</td>\n",
       "      <td>У окна (пардон: у иллюминатора)</td>\n",
       "      <td>12</td>\n",
       "      <td>13.5</td>\n",
       "      <td>35.0</td>\n",
       "    </tr>\n",
       "    <tr>\n",
       "      <th>4</th>\n",
       "      <td>4</td>\n",
       "      <td>23</td>\n",
       "      <td>159</td>\n",
       "      <td>36</td>\n",
       "      <td>1</td>\n",
       "      <td>1998</td>\n",
       "      <td>144</td>\n",
       "      <td>0</td>\n",
       "      <td>0</td>\n",
       "      <td>0</td>\n",
       "      <td>...</td>\n",
       "      <td>400</td>\n",
       "      <td>Баунти</td>\n",
       "      <td>860000.0</td>\n",
       "      <td>Педагогический</td>\n",
       "      <td>Педагогический</td>\n",
       "      <td>есть сестра</td>\n",
       "      <td>У окна (пардон: у иллюминатора)</td>\n",
       "      <td>10</td>\n",
       "      <td>11.0</td>\n",
       "      <td>22.0</td>\n",
       "    </tr>\n",
       "    <tr>\n",
       "      <th>9</th>\n",
       "      <td>9</td>\n",
       "      <td>22</td>\n",
       "      <td>168</td>\n",
       "      <td>38</td>\n",
       "      <td>6</td>\n",
       "      <td>2000</td>\n",
       "      <td>297</td>\n",
       "      <td>71</td>\n",
       "      <td>5</td>\n",
       "      <td>0</td>\n",
       "      <td>...</td>\n",
       "      <td>40</td>\n",
       "      <td>Милки Вей</td>\n",
       "      <td>860.0</td>\n",
       "      <td>Математический и ИТ</td>\n",
       "      <td>СоцГум</td>\n",
       "      <td>есть брат</td>\n",
       "      <td>У окна (пардон: у иллюминатора)</td>\n",
       "      <td>15</td>\n",
       "      <td>10.0</td>\n",
       "      <td>40.0</td>\n",
       "    </tr>\n",
       "    <tr>\n",
       "      <th>10</th>\n",
       "      <td>10</td>\n",
       "      <td>20</td>\n",
       "      <td>158</td>\n",
       "      <td>35</td>\n",
       "      <td>4</td>\n",
       "      <td>2001</td>\n",
       "      <td>1000</td>\n",
       "      <td>85</td>\n",
       "      <td>72</td>\n",
       "      <td>0</td>\n",
       "      <td>...</td>\n",
       "      <td>600</td>\n",
       "      <td>КитКат</td>\n",
       "      <td>800000.0</td>\n",
       "      <td>Педагогический</td>\n",
       "      <td>Естественный (биология-химия-физика-технари)</td>\n",
       "      <td>есть и брат и сестра</td>\n",
       "      <td>У прохода</td>\n",
       "      <td>10</td>\n",
       "      <td>9.0</td>\n",
       "      <td>15.0</td>\n",
       "    </tr>\n",
       "    <tr>\n",
       "      <th>...</th>\n",
       "      <td>...</td>\n",
       "      <td>...</td>\n",
       "      <td>...</td>\n",
       "      <td>...</td>\n",
       "      <td>...</td>\n",
       "      <td>...</td>\n",
       "      <td>...</td>\n",
       "      <td>...</td>\n",
       "      <td>...</td>\n",
       "      <td>...</td>\n",
       "      <td>...</td>\n",
       "      <td>...</td>\n",
       "      <td>...</td>\n",
       "      <td>...</td>\n",
       "      <td>...</td>\n",
       "      <td>...</td>\n",
       "      <td>...</td>\n",
       "      <td>...</td>\n",
       "      <td>...</td>\n",
       "      <td>...</td>\n",
       "      <td>...</td>\n",
       "    </tr>\n",
       "    <tr>\n",
       "      <th>181</th>\n",
       "      <td>181</td>\n",
       "      <td>23</td>\n",
       "      <td>168</td>\n",
       "      <td>39</td>\n",
       "      <td>7</td>\n",
       "      <td>1999</td>\n",
       "      <td>228</td>\n",
       "      <td>93</td>\n",
       "      <td>68</td>\n",
       "      <td>0</td>\n",
       "      <td>...</td>\n",
       "      <td>300</td>\n",
       "      <td>Твикс</td>\n",
       "      <td>770000.0</td>\n",
       "      <td>Естественный (биология-химия-физика-технари)</td>\n",
       "      <td>Естественный (биология-химия-физика-технари)</td>\n",
       "      <td>нет ни брата ни сестры</td>\n",
       "      <td>У окна (пардон: у иллюминатора)</td>\n",
       "      <td>13</td>\n",
       "      <td>23.0</td>\n",
       "      <td>45.0</td>\n",
       "    </tr>\n",
       "    <tr>\n",
       "      <th>182</th>\n",
       "      <td>182</td>\n",
       "      <td>19</td>\n",
       "      <td>169</td>\n",
       "      <td>38</td>\n",
       "      <td>1</td>\n",
       "      <td>2003</td>\n",
       "      <td>0</td>\n",
       "      <td>73</td>\n",
       "      <td>5</td>\n",
       "      <td>0</td>\n",
       "      <td>...</td>\n",
       "      <td>75</td>\n",
       "      <td>M&amp;Ms</td>\n",
       "      <td>1250000.0</td>\n",
       "      <td>Педагогический</td>\n",
       "      <td>СоцГум</td>\n",
       "      <td>есть сестра</td>\n",
       "      <td>У окна (пардон: у иллюминатора)</td>\n",
       "      <td>8</td>\n",
       "      <td>9.0</td>\n",
       "      <td>15.0</td>\n",
       "    </tr>\n",
       "    <tr>\n",
       "      <th>183</th>\n",
       "      <td>183</td>\n",
       "      <td>18</td>\n",
       "      <td>161</td>\n",
       "      <td>37</td>\n",
       "      <td>2</td>\n",
       "      <td>2003</td>\n",
       "      <td>11</td>\n",
       "      <td>98</td>\n",
       "      <td>0</td>\n",
       "      <td>0</td>\n",
       "      <td>...</td>\n",
       "      <td>460</td>\n",
       "      <td>Твикс</td>\n",
       "      <td>1000000.0</td>\n",
       "      <td>Естественный (биология-химия-физика-технари)</td>\n",
       "      <td>Другое</td>\n",
       "      <td>есть и брат и сестра</td>\n",
       "      <td>У окна (пардон: у иллюминатора)</td>\n",
       "      <td>9</td>\n",
       "      <td>16.0</td>\n",
       "      <td>35.0</td>\n",
       "    </tr>\n",
       "    <tr>\n",
       "      <th>184</th>\n",
       "      <td>184</td>\n",
       "      <td>19</td>\n",
       "      <td>169</td>\n",
       "      <td>41</td>\n",
       "      <td>1</td>\n",
       "      <td>2003</td>\n",
       "      <td>22</td>\n",
       "      <td>82</td>\n",
       "      <td>86</td>\n",
       "      <td>0</td>\n",
       "      <td>...</td>\n",
       "      <td>540</td>\n",
       "      <td>Твикс</td>\n",
       "      <td>850000.0</td>\n",
       "      <td>Естественный (биология-химия-физика-технари)</td>\n",
       "      <td>Математический и ИТ</td>\n",
       "      <td>есть брат</td>\n",
       "      <td>У окна (пардон: у иллюминатора)</td>\n",
       "      <td>9</td>\n",
       "      <td>15.0</td>\n",
       "      <td>25.0</td>\n",
       "    </tr>\n",
       "    <tr>\n",
       "      <th>185</th>\n",
       "      <td>185</td>\n",
       "      <td>18</td>\n",
       "      <td>164</td>\n",
       "      <td>39</td>\n",
       "      <td>2</td>\n",
       "      <td>2003</td>\n",
       "      <td>500</td>\n",
       "      <td>94</td>\n",
       "      <td>5</td>\n",
       "      <td>0</td>\n",
       "      <td>...</td>\n",
       "      <td>400</td>\n",
       "      <td>Твикс</td>\n",
       "      <td>800000.0</td>\n",
       "      <td>Юридический</td>\n",
       "      <td>СоцГум</td>\n",
       "      <td>нет ни брата ни сестры</td>\n",
       "      <td>У окна (пардон: у иллюминатора)</td>\n",
       "      <td>7</td>\n",
       "      <td>10.0</td>\n",
       "      <td>35.0</td>\n",
       "    </tr>\n",
       "  </tbody>\n",
       "</table>\n",
       "<p>120 rows × 49 columns</p>\n",
       "</div>"
      ],
      "text/plain": [
       "     index  Age  Growth  Shoe size  Course number  Year of birth  \\\n",
       "0        0   20     170         40              2           2002   \n",
       "3        3   19     168         38              2           2003   \n",
       "4        4   23     159         36              1           1998   \n",
       "9        9   22     168         38              6           2000   \n",
       "10      10   20     158         35              4           2001   \n",
       "..     ...  ...     ...        ...            ...            ...   \n",
       "181    181   23     168         39              7           1999   \n",
       "182    182   19     169         38              1           2003   \n",
       "183    183   18     161         37              2           2003   \n",
       "184    184   19     169         41              1           2003   \n",
       "185    185   18     164         39              2           2003   \n",
       "\n",
       "     Friend number  Russian rating  Maths rating  Physics rating  ...  \\\n",
       "0              100              85            86               0  ...   \n",
       "3              604              72             0               0  ...   \n",
       "4              144               0             0               0  ...   \n",
       "9              297              71             5               0  ...   \n",
       "10            1000              85            72               0  ...   \n",
       "..             ...             ...           ...             ...  ...   \n",
       "181            228              93            68               0  ...   \n",
       "182              0              73             5               0  ...   \n",
       "183             11              98             0               0  ...   \n",
       "184             22              82            86               0  ...   \n",
       "185            500              94             5               0  ...   \n",
       "\n",
       "     Social network duration min  Chocolate  City population  \\\n",
       "0                             45    Сникерс         800000.0   \n",
       "3                            200     Баунти         900000.0   \n",
       "4                            400     Баунти         860000.0   \n",
       "9                             40  Милки Вей            860.0   \n",
       "10                           600     КитКат         800000.0   \n",
       "..                           ...        ...              ...   \n",
       "181                          300      Твикс         770000.0   \n",
       "182                           75       M&Ms        1250000.0   \n",
       "183                          460      Твикс        1000000.0   \n",
       "184                          540      Твикс         850000.0   \n",
       "185                          400      Твикс         800000.0   \n",
       "\n",
       "                                   Strange people  \\\n",
       "0                                   Экономический   \n",
       "3                                          СоцГум   \n",
       "4                                  Педагогический   \n",
       "9                             Математический и ИТ   \n",
       "10                                 Педагогический   \n",
       "..                                            ...   \n",
       "181  Естественный (биология-химия-физика-технари)   \n",
       "182                                Педагогический   \n",
       "183  Естественный (биология-химия-физика-технари)   \n",
       "184  Естественный (биология-химия-физика-технари)   \n",
       "185                                   Юридический   \n",
       "\n",
       "                                    Your insitute          Brother-sister  \\\n",
       "0                             Математический и ИТ  нет ни брата ни сестры   \n",
       "3                                     Юридический             есть сестра   \n",
       "4                                  Педагогический             есть сестра   \n",
       "9                                          СоцГум               есть брат   \n",
       "10   Естественный (биология-химия-физика-технари)    есть и брат и сестра   \n",
       "..                                            ...                     ...   \n",
       "181  Естественный (биология-химия-физика-технари)  нет ни брата ни сестры   \n",
       "182                                        СоцГум             есть сестра   \n",
       "183                                        Другое    есть и брат и сестра   \n",
       "184                           Математический и ИТ               есть брат   \n",
       "185                                        СоцГум  нет ни брата ни сестры   \n",
       "\n",
       "                          Plane seat  MIddle and index finger  \\\n",
       "0    У окна (пардон: у иллюминатора)                       20   \n",
       "3    У окна (пардон: у иллюминатора)                       12   \n",
       "4    У окна (пардон: у иллюминатора)                       10   \n",
       "9    У окна (пардон: у иллюминатора)                       15   \n",
       "10                         У прохода                       10   \n",
       "..                               ...                      ...   \n",
       "181  У окна (пардон: у иллюминатора)                       13   \n",
       "182  У окна (пардон: у иллюминатора)                        8   \n",
       "183  У окна (пардон: у иллюминатора)                        9   \n",
       "184  У окна (пардон: у иллюминатора)                        9   \n",
       "185  У окна (пардон: у иллюминатора)                        7   \n",
       "\n",
       "     Middle and ring finger  Middle and little finger  \n",
       "0                      10.0                      40.0  \n",
       "3                      13.5                      35.0  \n",
       "4                      11.0                      22.0  \n",
       "9                      10.0                      40.0  \n",
       "10                      9.0                      15.0  \n",
       "..                      ...                       ...  \n",
       "181                    23.0                      45.0  \n",
       "182                     9.0                      15.0  \n",
       "183                    16.0                      35.0  \n",
       "184                    15.0                      25.0  \n",
       "185                    10.0                      35.0  \n",
       "\n",
       "[120 rows x 49 columns]"
      ]
     },
     "execution_count": 62,
     "metadata": {},
     "output_type": "execute_result"
    }
   ],
   "source": [
    "df_female = df[df['Sex'] == 'женский']\n",
    "df_female"
   ]
  },
  {
   "cell_type": "markdown",
   "id": "51a8f761",
   "metadata": {},
   "source": [
    "Выбираем всех студентов с минимальным значением возраста "
   ]
  },
  {
   "cell_type": "code",
   "execution_count": 68,
   "id": "1084d2c0",
   "metadata": {
    "scrolled": true
   },
   "outputs": [
    {
     "data": {
      "text/html": [
       "<div>\n",
       "<style scoped>\n",
       "    .dataframe tbody tr th:only-of-type {\n",
       "        vertical-align: middle;\n",
       "    }\n",
       "\n",
       "    .dataframe tbody tr th {\n",
       "        vertical-align: top;\n",
       "    }\n",
       "\n",
       "    .dataframe thead th {\n",
       "        text-align: right;\n",
       "    }\n",
       "</style>\n",
       "<table border=\"1\" class=\"dataframe\">\n",
       "  <thead>\n",
       "    <tr style=\"text-align: right;\">\n",
       "      <th></th>\n",
       "      <th>index</th>\n",
       "      <th>Age</th>\n",
       "      <th>Growth</th>\n",
       "      <th>Shoe size</th>\n",
       "      <th>Course number</th>\n",
       "      <th>Year of birth</th>\n",
       "      <th>Friend number</th>\n",
       "      <th>Russian rating</th>\n",
       "      <th>Maths rating</th>\n",
       "      <th>Physics rating</th>\n",
       "      <th>...</th>\n",
       "      <th>Social network duration min</th>\n",
       "      <th>Chocolate</th>\n",
       "      <th>City population</th>\n",
       "      <th>Strange people</th>\n",
       "      <th>Your insitute</th>\n",
       "      <th>Brother-sister</th>\n",
       "      <th>Plane seat</th>\n",
       "      <th>MIddle and index finger</th>\n",
       "      <th>Middle and ring finger</th>\n",
       "      <th>Middle and little finger</th>\n",
       "    </tr>\n",
       "  </thead>\n",
       "  <tbody>\n",
       "    <tr>\n",
       "      <th>115</th>\n",
       "      <td>115</td>\n",
       "      <td>17</td>\n",
       "      <td>175</td>\n",
       "      <td>41</td>\n",
       "      <td>0</td>\n",
       "      <td>2004</td>\n",
       "      <td>152</td>\n",
       "      <td>96</td>\n",
       "      <td>80</td>\n",
       "      <td>0</td>\n",
       "      <td>...</td>\n",
       "      <td>1000</td>\n",
       "      <td>КитКат</td>\n",
       "      <td>1.0</td>\n",
       "      <td>СоцГум</td>\n",
       "      <td>Математический и ИТ</td>\n",
       "      <td>нет ни брата ни сестры</td>\n",
       "      <td>У окна (пардон: у иллюминатора)</td>\n",
       "      <td>3</td>\n",
       "      <td>2.0</td>\n",
       "      <td>5.0</td>\n",
       "    </tr>\n",
       "    <tr>\n",
       "      <th>126</th>\n",
       "      <td>126</td>\n",
       "      <td>17</td>\n",
       "      <td>168</td>\n",
       "      <td>39</td>\n",
       "      <td>0</td>\n",
       "      <td>2004</td>\n",
       "      <td>110</td>\n",
       "      <td>91</td>\n",
       "      <td>72</td>\n",
       "      <td>0</td>\n",
       "      <td>...</td>\n",
       "      <td>1000</td>\n",
       "      <td>Марс</td>\n",
       "      <td>800000.0</td>\n",
       "      <td>Экономический</td>\n",
       "      <td>Математический и ИТ</td>\n",
       "      <td>есть брат</td>\n",
       "      <td>У окна (пардон: у иллюминатора)</td>\n",
       "      <td>5</td>\n",
       "      <td>7.0</td>\n",
       "      <td>15.0</td>\n",
       "    </tr>\n",
       "  </tbody>\n",
       "</table>\n",
       "<p>2 rows × 49 columns</p>\n",
       "</div>"
      ],
      "text/plain": [
       "     index  Age  Growth  Shoe size  Course number  Year of birth  \\\n",
       "115    115   17     175         41              0           2004   \n",
       "126    126   17     168         39              0           2004   \n",
       "\n",
       "     Friend number  Russian rating  Maths rating  Physics rating  ...  \\\n",
       "115            152              96            80               0  ...   \n",
       "126            110              91            72               0  ...   \n",
       "\n",
       "     Social network duration min  Chocolate  City population  Strange people  \\\n",
       "115                         1000     КитКат              1.0          СоцГум   \n",
       "126                         1000       Марс         800000.0   Экономический   \n",
       "\n",
       "           Your insitute          Brother-sister  \\\n",
       "115  Математический и ИТ  нет ни брата ни сестры   \n",
       "126  Математический и ИТ               есть брат   \n",
       "\n",
       "                          Plane seat  MIddle and index finger  \\\n",
       "115  У окна (пардон: у иллюминатора)                        3   \n",
       "126  У окна (пардон: у иллюминатора)                        5   \n",
       "\n",
       "     Middle and ring finger  Middle and little finger  \n",
       "115                     2.0                       5.0  \n",
       "126                     7.0                      15.0  \n",
       "\n",
       "[2 rows x 49 columns]"
      ]
     },
     "execution_count": 68,
     "metadata": {},
     "output_type": "execute_result"
    }
   ],
   "source": [
    "df[df['Age'] == df['Age'].min()]"
   ]
  },
  {
   "cell_type": "markdown",
   "id": "4708431c",
   "metadata": {},
   "source": [
    "Выбираем всех студентов с максимальным значением веса "
   ]
  },
  {
   "cell_type": "code",
   "execution_count": 70,
   "id": "1a5c8416",
   "metadata": {
    "scrolled": true
   },
   "outputs": [
    {
     "data": {
      "text/html": [
       "<div>\n",
       "<style scoped>\n",
       "    .dataframe tbody tr th:only-of-type {\n",
       "        vertical-align: middle;\n",
       "    }\n",
       "\n",
       "    .dataframe tbody tr th {\n",
       "        vertical-align: top;\n",
       "    }\n",
       "\n",
       "    .dataframe thead th {\n",
       "        text-align: right;\n",
       "    }\n",
       "</style>\n",
       "<table border=\"1\" class=\"dataframe\">\n",
       "  <thead>\n",
       "    <tr style=\"text-align: right;\">\n",
       "      <th></th>\n",
       "      <th>index</th>\n",
       "      <th>Age</th>\n",
       "      <th>Growth</th>\n",
       "      <th>Shoe size</th>\n",
       "      <th>Course number</th>\n",
       "      <th>Year of birth</th>\n",
       "      <th>Friend number</th>\n",
       "      <th>Russian rating</th>\n",
       "      <th>Maths rating</th>\n",
       "      <th>Physics rating</th>\n",
       "      <th>...</th>\n",
       "      <th>Social network duration min</th>\n",
       "      <th>Chocolate</th>\n",
       "      <th>City population</th>\n",
       "      <th>Strange people</th>\n",
       "      <th>Your insitute</th>\n",
       "      <th>Brother-sister</th>\n",
       "      <th>Plane seat</th>\n",
       "      <th>MIddle and index finger</th>\n",
       "      <th>Middle and ring finger</th>\n",
       "      <th>Middle and little finger</th>\n",
       "    </tr>\n",
       "  </thead>\n",
       "  <tbody>\n",
       "    <tr>\n",
       "      <th>7</th>\n",
       "      <td>7</td>\n",
       "      <td>19</td>\n",
       "      <td>180</td>\n",
       "      <td>48</td>\n",
       "      <td>1</td>\n",
       "      <td>2003</td>\n",
       "      <td>5</td>\n",
       "      <td>72</td>\n",
       "      <td>0</td>\n",
       "      <td>0</td>\n",
       "      <td>...</td>\n",
       "      <td>240</td>\n",
       "      <td>Баунти</td>\n",
       "      <td>880000.0</td>\n",
       "      <td>Естественный (биология-химия-физика-технари)</td>\n",
       "      <td>Юридический</td>\n",
       "      <td>есть брат</td>\n",
       "      <td>У окна (пардон: у иллюминатора)</td>\n",
       "      <td>7</td>\n",
       "      <td>5.0</td>\n",
       "      <td>25.0</td>\n",
       "    </tr>\n",
       "  </tbody>\n",
       "</table>\n",
       "<p>1 rows × 49 columns</p>\n",
       "</div>"
      ],
      "text/plain": [
       "   index  Age  Growth  Shoe size  Course number  Year of birth  Friend number  \\\n",
       "7      7   19     180         48              1           2003              5   \n",
       "\n",
       "   Russian rating  Maths rating  Physics rating  ...  \\\n",
       "7              72             0               0  ...   \n",
       "\n",
       "   Social network duration min  Chocolate  City population  \\\n",
       "7                          240     Баунти         880000.0   \n",
       "\n",
       "                                 Strange people  Your insitute  \\\n",
       "7  Естественный (биология-химия-физика-технари)    Юридический   \n",
       "\n",
       "   Brother-sister                       Plane seat  MIddle and index finger  \\\n",
       "7       есть брат  У окна (пардон: у иллюминатора)                        7   \n",
       "\n",
       "   Middle and ring finger  Middle and little finger  \n",
       "7                     5.0                      25.0  \n",
       "\n",
       "[1 rows x 49 columns]"
      ]
     },
     "execution_count": 70,
     "metadata": {},
     "output_type": "execute_result"
    }
   ],
   "source": [
    "df[df['Weight'] == df['Weight'].max()]"
   ]
  },
  {
   "cell_type": "markdown",
   "id": "2ceaa1e3",
   "metadata": {},
   "source": [
    "Выбираем всех студентов с максимальным значением веса и выводим их рост "
   ]
  },
  {
   "cell_type": "code",
   "execution_count": 32,
   "id": "e0df2bc9",
   "metadata": {},
   "outputs": [
    {
     "data": {
      "text/plain": [
       "7    180\n",
       "Name: Growth, dtype: int64"
      ]
     },
     "execution_count": 32,
     "metadata": {},
     "output_type": "execute_result"
    }
   ],
   "source": [
    "df.loc[df['Weight'] == df['Weight'].max(), 'Growth']"
   ]
  },
  {
   "cell_type": "code",
   "execution_count": 95,
   "id": "c96839a5",
   "metadata": {},
   "outputs": [
    {
     "name": "stdout",
     "output_type": "stream",
     "text": [
      "<class 'pandas.core.frame.DataFrame'>\n",
      "RangeIndex: 186 entries, 0 to 185\n",
      "Data columns (total 49 columns):\n",
      " #   Column                       Non-Null Count  Dtype  \n",
      "---  ------                       --------------  -----  \n",
      " 0   index                        186 non-null    int64  \n",
      " 1   Age                          186 non-null    int64  \n",
      " 2   Growth                       186 non-null    int64  \n",
      " 3   Shoe size                    186 non-null    int64  \n",
      " 4   Course number                186 non-null    int64  \n",
      " 5   Year of birth                186 non-null    int64  \n",
      " 6   Friend number                186 non-null    int64  \n",
      " 7   Russian rating               186 non-null    int64  \n",
      " 8   Maths rating                 186 non-null    int64  \n",
      " 9   Physics rating               186 non-null    int64  \n",
      " 10  Computer science rating      186 non-null    int64  \n",
      " 11  Chemistry rating             186 non-null    int64  \n",
      " 12  Literature rating            186 non-null    int64  \n",
      " 13  History rating               186 non-null    int64  \n",
      " 14  Geography rating             186 non-null    int64  \n",
      " 15  Biology rating               186 non-null    int64  \n",
      " 16  Foreign language rating      186 non-null    int64  \n",
      " 17  Social science rating        186 non-null    int64  \n",
      " 18  Distance to home km          186 non-null    int64  \n",
      " 19  Minutes to first class       186 non-null    int64  \n",
      " 20  Children number              150 non-null    float64\n",
      " 21  Removed teeth                148 non-null    float64\n",
      " 22  Weight                       157 non-null    float64\n",
      " 23  Glasses                      184 non-null    object \n",
      " 24  Sex                          186 non-null    object \n",
      " 25  Problems in last semester    186 non-null    object \n",
      " 26  Coin                         186 non-null    object \n",
      " 27  Rock paper scissors          186 non-null    object \n",
      " 28  Animal                       186 non-null    object \n",
      " 29  Month of birthday            186 non-null    int64  \n",
      " 30  Your rating in university    186 non-null    object \n",
      " 31  Fastfood                     186 non-null    object \n",
      " 32  Height of 5000 mm            186 non-null    int64  \n",
      " 33  Width of 5000 mm             186 non-null    int64  \n",
      " 34  Putin age                    186 non-null    int64  \n",
      " 35  Army                         186 non-null    object \n",
      " 36  Hostel                       186 non-null    object \n",
      " 37  Hair length                  186 non-null    float64\n",
      " 38  Floor number                 186 non-null    int64  \n",
      " 39  Social network duration min  186 non-null    int64  \n",
      " 40  Chocolate                    186 non-null    object \n",
      " 41  City population              186 non-null    float64\n",
      " 42  Strange people               186 non-null    object \n",
      " 43  Your insitute                186 non-null    object \n",
      " 44  Brother-sister               186 non-null    object \n",
      " 45  Plane seat                   186 non-null    object \n",
      " 46  MIddle and index finger      186 non-null    int64  \n",
      " 47  Middle and ring finger       186 non-null    float64\n",
      " 48  Middle and little finger     186 non-null    float64\n",
      "dtypes: float64(7), int64(27), object(15)\n",
      "memory usage: 71.3+ KB\n"
     ]
    }
   ],
   "source": [
    "df.info()"
   ]
  },
  {
   "cell_type": "code",
   "execution_count": 101,
   "id": "1d36e35b",
   "metadata": {},
   "outputs": [
    {
     "data": {
      "text/plain": [
       "0      не призовут (по разным причинам)\n",
       "1      не призовут (по разным причинам)\n",
       "2                        могут призвать\n",
       "3      не призовут (по разным причинам)\n",
       "4      не призовут (по разным причинам)\n",
       "                     ...               \n",
       "181    не призовут (по разным причинам)\n",
       "182    не призовут (по разным причинам)\n",
       "183    не призовут (по разным причинам)\n",
       "184    не призовут (по разным причинам)\n",
       "185    не призовут (по разным причинам)\n",
       "Name: Army, Length: 186, dtype: object"
      ]
     },
     "execution_count": 101,
     "metadata": {},
     "output_type": "execute_result"
    }
   ],
   "source": [
    "df.Army"
   ]
  },
  {
   "cell_type": "markdown",
   "id": "6b244091",
   "metadata": {},
   "source": [
    "Делаем выборкм по условиям и обрабатываем их"
   ]
  },
  {
   "cell_type": "code",
   "execution_count": 123,
   "id": "88fbdcbb",
   "metadata": {},
   "outputs": [
    {
     "data": {
      "text/plain": [
       "(могут призвать    36\n",
       " Name: Army, dtype: int64,\n",
       " не призовут (по разным причинам)    30\n",
       " Name: Army, dtype: int64)"
      ]
     },
     "execution_count": 123,
     "metadata": {},
     "output_type": "execute_result"
    }
   ],
   "source": [
    "army_person = df[(df['Army'] == 'могут призвать') & (df['Sex'] == 'мужской')]\n",
    "free_person = df[(df['Army'] != 'могут призвать') & (df['Sex'] == 'мужской')]\n",
    "army_person.Army.value_counts(), free_person.Army.value_counts()"
   ]
  },
  {
   "cell_type": "code",
   "execution_count": 124,
   "id": "88852026",
   "metadata": {},
   "outputs": [
    {
     "data": {
      "text/plain": [
       "(11.075, 11.94)"
      ]
     },
     "execution_count": 124,
     "metadata": {},
     "output_type": "execute_result"
    }
   ],
   "source": [
    "army_person['Hair length'].mean(), free_person['Hair length'].mean()"
   ]
  },
  {
   "cell_type": "code",
   "execution_count": 115,
   "id": "05158333",
   "metadata": {},
   "outputs": [
    {
     "data": {
      "text/plain": [
       "мужской    1\n",
       "женский    1\n",
       "Name: Sex, dtype: int64"
      ]
     },
     "execution_count": 115,
     "metadata": {},
     "output_type": "execute_result"
    }
   ],
   "source": [
    "df.loc[df['Friend number'] == 0, 'Sex'].value_counts()"
   ]
  },
  {
   "cell_type": "code",
   "execution_count": 178,
   "id": "128e2445",
   "metadata": {},
   "outputs": [
    {
     "data": {
      "text/plain": [
       "Animal  Floor number\n",
       "Собак   1               11.666667\n",
       "dtype: float64"
      ]
     },
     "execution_count": 178,
     "metadata": {},
     "output_type": "execute_result"
    }
   ],
   "source": [
    "dog_lovers = df.loc[df['Animal'] == 'Собак',['Animal', 'Floor number']]\n",
    "dog_lovers[dog_lovers['Floor number'] == 1].value_counts() / len(dog_lovers) * 100"
   ]
  },
  {
   "cell_type": "code",
   "execution_count": 183,
   "id": "5d45e429",
   "metadata": {},
   "outputs": [
    {
     "data": {
      "text/plain": [
       "60.0"
      ]
     },
     "execution_count": 183,
     "metadata": {},
     "output_type": "execute_result"
    }
   ],
   "source": [
    "single_child = df[df['Brother-sister'] == 'нет ни брата ни сестры']\n",
    "not_single_child = df[df['Brother-sister'] != 'нет ни брата ни сестры']\n",
    "single_child['Social network duration min'].median() - not_single_child['Social network duration min'].median()"
   ]
  },
  {
   "cell_type": "code",
   "execution_count": 186,
   "id": "ec143a3f",
   "metadata": {},
   "outputs": [
    {
     "data": {
      "text/plain": [
       "(66.85915492957747, 64.21739130434783, 58.8)"
      ]
     },
     "execution_count": 186,
     "metadata": {},
     "output_type": "execute_result"
    }
   ],
   "source": [
    "KFC = df[df['Fastfood'] == 'KFC']\n",
    "BK = df[df['Fastfood'] == 'Бургер кинг']\n",
    "Mac = df[df['Fastfood'] == 'Макдональдс (или как он там сейчас называется?)']\n",
    "KFC.Weight.mean(), BK.Weight.mean(), Mac.Weight.mean()"
   ]
  },
  {
   "cell_type": "code",
   "execution_count": 187,
   "id": "62e778d7",
   "metadata": {},
   "outputs": [
    {
     "data": {
      "text/plain": [
       "8.059154929577474"
      ]
     },
     "execution_count": 187,
     "metadata": {},
     "output_type": "execute_result"
    }
   ],
   "source": [
    "KFC.Weight.mean() - Mac.Weight.mean()"
   ]
  },
  {
   "cell_type": "code",
   "execution_count": 189,
   "id": "14b6c994",
   "metadata": {},
   "outputs": [
    {
     "data": {
      "text/html": [
       "<div>\n",
       "<style scoped>\n",
       "    .dataframe tbody tr th:only-of-type {\n",
       "        vertical-align: middle;\n",
       "    }\n",
       "\n",
       "    .dataframe tbody tr th {\n",
       "        vertical-align: top;\n",
       "    }\n",
       "\n",
       "    .dataframe thead th {\n",
       "        text-align: right;\n",
       "    }\n",
       "</style>\n",
       "<table border=\"1\" class=\"dataframe\">\n",
       "  <thead>\n",
       "    <tr style=\"text-align: right;\">\n",
       "      <th></th>\n",
       "      <th>Year of birth</th>\n",
       "      <th>Growth</th>\n",
       "      <th>Weight</th>\n",
       "      <th>Hair length</th>\n",
       "      <th>Shoe size</th>\n",
       "    </tr>\n",
       "  </thead>\n",
       "  <tbody>\n",
       "    <tr>\n",
       "      <th>0</th>\n",
       "      <td>2002</td>\n",
       "      <td>170</td>\n",
       "      <td>64.0</td>\n",
       "      <td>50.0</td>\n",
       "      <td>40</td>\n",
       "    </tr>\n",
       "    <tr>\n",
       "      <th>1</th>\n",
       "      <td>2000</td>\n",
       "      <td>191</td>\n",
       "      <td>73.0</td>\n",
       "      <td>7.0</td>\n",
       "      <td>43</td>\n",
       "    </tr>\n",
       "    <tr>\n",
       "      <th>2</th>\n",
       "      <td>2000</td>\n",
       "      <td>172</td>\n",
       "      <td>60.0</td>\n",
       "      <td>4.0</td>\n",
       "      <td>41</td>\n",
       "    </tr>\n",
       "    <tr>\n",
       "      <th>3</th>\n",
       "      <td>2003</td>\n",
       "      <td>168</td>\n",
       "      <td>59.0</td>\n",
       "      <td>20.0</td>\n",
       "      <td>38</td>\n",
       "    </tr>\n",
       "    <tr>\n",
       "      <th>4</th>\n",
       "      <td>1998</td>\n",
       "      <td>159</td>\n",
       "      <td>57.0</td>\n",
       "      <td>55.0</td>\n",
       "      <td>36</td>\n",
       "    </tr>\n",
       "  </tbody>\n",
       "</table>\n",
       "</div>"
      ],
      "text/plain": [
       "   Year of birth  Growth  Weight  Hair length  Shoe size\n",
       "0           2002     170    64.0         50.0         40\n",
       "1           2000     191    73.0          7.0         43\n",
       "2           2000     172    60.0          4.0         41\n",
       "3           2003     168    59.0         20.0         38\n",
       "4           1998     159    57.0         55.0         36"
      ]
     },
     "execution_count": 189,
     "metadata": {},
     "output_type": "execute_result"
    }
   ],
   "source": [
    "df_cut = df[['Year of birth', 'Growth', 'Weight', 'Hair length', 'Shoe size']]\n",
    "df_cut.head()"
   ]
  },
  {
   "cell_type": "markdown",
   "id": "ae33e618",
   "metadata": {},
   "source": [
    "Сортируем таблицы"
   ]
  },
  {
   "cell_type": "code",
   "execution_count": 196,
   "id": "f4635010",
   "metadata": {},
   "outputs": [
    {
     "data": {
      "text/html": [
       "<div>\n",
       "<style scoped>\n",
       "    .dataframe tbody tr th:only-of-type {\n",
       "        vertical-align: middle;\n",
       "    }\n",
       "\n",
       "    .dataframe tbody tr th {\n",
       "        vertical-align: top;\n",
       "    }\n",
       "\n",
       "    .dataframe thead th {\n",
       "        text-align: right;\n",
       "    }\n",
       "</style>\n",
       "<table border=\"1\" class=\"dataframe\">\n",
       "  <thead>\n",
       "    <tr style=\"text-align: right;\">\n",
       "      <th></th>\n",
       "      <th>Year of birth</th>\n",
       "      <th>Growth</th>\n",
       "      <th>Weight</th>\n",
       "      <th>Hair length</th>\n",
       "      <th>Shoe size</th>\n",
       "    </tr>\n",
       "  </thead>\n",
       "  <tbody>\n",
       "    <tr>\n",
       "      <th>7</th>\n",
       "      <td>2003</td>\n",
       "      <td>180</td>\n",
       "      <td>120.0</td>\n",
       "      <td>20.0</td>\n",
       "      <td>48</td>\n",
       "    </tr>\n",
       "    <tr>\n",
       "      <th>27</th>\n",
       "      <td>2003</td>\n",
       "      <td>193</td>\n",
       "      <td>61.0</td>\n",
       "      <td>3.0</td>\n",
       "      <td>48</td>\n",
       "    </tr>\n",
       "    <tr>\n",
       "      <th>8</th>\n",
       "      <td>2002</td>\n",
       "      <td>185</td>\n",
       "      <td>69.0</td>\n",
       "      <td>25.0</td>\n",
       "      <td>46</td>\n",
       "    </tr>\n",
       "    <tr>\n",
       "      <th>103</th>\n",
       "      <td>2002</td>\n",
       "      <td>197</td>\n",
       "      <td>100.0</td>\n",
       "      <td>23.0</td>\n",
       "      <td>46</td>\n",
       "    </tr>\n",
       "    <tr>\n",
       "      <th>55</th>\n",
       "      <td>1999</td>\n",
       "      <td>180</td>\n",
       "      <td>92.0</td>\n",
       "      <td>0.2</td>\n",
       "      <td>45</td>\n",
       "    </tr>\n",
       "    <tr>\n",
       "      <th>76</th>\n",
       "      <td>2002</td>\n",
       "      <td>184</td>\n",
       "      <td>NaN</td>\n",
       "      <td>20.0</td>\n",
       "      <td>45</td>\n",
       "    </tr>\n",
       "    <tr>\n",
       "      <th>145</th>\n",
       "      <td>1999</td>\n",
       "      <td>184</td>\n",
       "      <td>92.0</td>\n",
       "      <td>45.0</td>\n",
       "      <td>45</td>\n",
       "    </tr>\n",
       "    <tr>\n",
       "      <th>16</th>\n",
       "      <td>2003</td>\n",
       "      <td>185</td>\n",
       "      <td>64.0</td>\n",
       "      <td>4.0</td>\n",
       "      <td>45</td>\n",
       "    </tr>\n",
       "    <tr>\n",
       "      <th>20</th>\n",
       "      <td>2001</td>\n",
       "      <td>186</td>\n",
       "      <td>93.0</td>\n",
       "      <td>20.0</td>\n",
       "      <td>45</td>\n",
       "    </tr>\n",
       "    <tr>\n",
       "      <th>24</th>\n",
       "      <td>2002</td>\n",
       "      <td>177</td>\n",
       "      <td>65.0</td>\n",
       "      <td>12.0</td>\n",
       "      <td>44</td>\n",
       "    </tr>\n",
       "  </tbody>\n",
       "</table>\n",
       "</div>"
      ],
      "text/plain": [
       "     Year of birth  Growth  Weight  Hair length  Shoe size\n",
       "7             2003     180   120.0         20.0         48\n",
       "27            2003     193    61.0          3.0         48\n",
       "8             2002     185    69.0         25.0         46\n",
       "103           2002     197   100.0         23.0         46\n",
       "55            1999     180    92.0          0.2         45\n",
       "76            2002     184     NaN         20.0         45\n",
       "145           1999     184    92.0         45.0         45\n",
       "16            2003     185    64.0          4.0         45\n",
       "20            2001     186    93.0         20.0         45\n",
       "24            2002     177    65.0         12.0         44"
      ]
     },
     "execution_count": 196,
     "metadata": {},
     "output_type": "execute_result"
    }
   ],
   "source": [
    "df_cut.sort_values(['Shoe size','Growth'], ascending=[False, True]).head(10)"
   ]
  },
  {
   "cell_type": "code",
   "execution_count": null,
   "id": "f0de2e33",
   "metadata": {},
   "outputs": [],
   "source": [
    "Добавление новой колонки в таблицу"
   ]
  },
  {
   "cell_type": "code",
   "execution_count": 197,
   "id": "422ad7ba",
   "metadata": {},
   "outputs": [
    {
     "name": "stderr",
     "output_type": "stream",
     "text": [
      "C:\\Users\\POZI\\AppData\\Local\\Temp\\ipykernel_9596\\3935945701.py:1: SettingWithCopyWarning: \n",
      "A value is trying to be set on a copy of a slice from a DataFrame.\n",
      "Try using .loc[row_indexer,col_indexer] = value instead\n",
      "\n",
      "See the caveats in the documentation: https://pandas.pydata.org/pandas-docs/stable/user_guide/indexing.html#returning-a-view-versus-a-copy\n",
      "  df_cut['Full lenght'] = df_cut['Growth'] + df_cut['Hair length']\n"
     ]
    }
   ],
   "source": [
    "df_cut['Full lenght'] = df_cut['Growth'] + df_cut['Hair length']"
   ]
  },
  {
   "cell_type": "code",
   "execution_count": 201,
   "id": "5d3e1f98",
   "metadata": {},
   "outputs": [
    {
     "data": {
      "text/plain": [
       "319.0"
      ]
     },
     "execution_count": 201,
     "metadata": {},
     "output_type": "execute_result"
    }
   ],
   "source": [
    "df_cut['Full lenght'].max()"
   ]
  },
  {
   "cell_type": "markdown",
   "id": "530b192e",
   "metadata": {},
   "source": [
    "Функия корреляции"
   ]
  },
  {
   "cell_type": "code",
   "execution_count": 202,
   "id": "e8632511",
   "metadata": {},
   "outputs": [
    {
     "data": {
      "text/html": [
       "<div>\n",
       "<style scoped>\n",
       "    .dataframe tbody tr th:only-of-type {\n",
       "        vertical-align: middle;\n",
       "    }\n",
       "\n",
       "    .dataframe tbody tr th {\n",
       "        vertical-align: top;\n",
       "    }\n",
       "\n",
       "    .dataframe thead th {\n",
       "        text-align: right;\n",
       "    }\n",
       "</style>\n",
       "<table border=\"1\" class=\"dataframe\">\n",
       "  <thead>\n",
       "    <tr style=\"text-align: right;\">\n",
       "      <th></th>\n",
       "      <th>Year of birth</th>\n",
       "      <th>Growth</th>\n",
       "      <th>Weight</th>\n",
       "      <th>Hair length</th>\n",
       "      <th>Shoe size</th>\n",
       "      <th>Full lenght</th>\n",
       "    </tr>\n",
       "  </thead>\n",
       "  <tbody>\n",
       "    <tr>\n",
       "      <th>Year of birth</th>\n",
       "      <td>1.000000</td>\n",
       "      <td>-0.113357</td>\n",
       "      <td>0.006042</td>\n",
       "      <td>0.095402</td>\n",
       "      <td>-0.108360</td>\n",
       "      <td>0.064713</td>\n",
       "    </tr>\n",
       "    <tr>\n",
       "      <th>Growth</th>\n",
       "      <td>-0.113357</td>\n",
       "      <td>1.000000</td>\n",
       "      <td>0.544528</td>\n",
       "      <td>-0.554408</td>\n",
       "      <td>0.863252</td>\n",
       "      <td>-0.235492</td>\n",
       "    </tr>\n",
       "    <tr>\n",
       "      <th>Weight</th>\n",
       "      <td>0.006042</td>\n",
       "      <td>0.544528</td>\n",
       "      <td>1.000000</td>\n",
       "      <td>-0.319416</td>\n",
       "      <td>0.591149</td>\n",
       "      <td>-0.145316</td>\n",
       "    </tr>\n",
       "    <tr>\n",
       "      <th>Hair length</th>\n",
       "      <td>0.095402</td>\n",
       "      <td>-0.554408</td>\n",
       "      <td>-0.319416</td>\n",
       "      <td>1.000000</td>\n",
       "      <td>-0.567568</td>\n",
       "      <td>0.939398</td>\n",
       "    </tr>\n",
       "    <tr>\n",
       "      <th>Shoe size</th>\n",
       "      <td>-0.108360</td>\n",
       "      <td>0.863252</td>\n",
       "      <td>0.591149</td>\n",
       "      <td>-0.567568</td>\n",
       "      <td>1.000000</td>\n",
       "      <td>-0.307190</td>\n",
       "    </tr>\n",
       "    <tr>\n",
       "      <th>Full lenght</th>\n",
       "      <td>0.064713</td>\n",
       "      <td>-0.235492</td>\n",
       "      <td>-0.145316</td>\n",
       "      <td>0.939398</td>\n",
       "      <td>-0.307190</td>\n",
       "      <td>1.000000</td>\n",
       "    </tr>\n",
       "  </tbody>\n",
       "</table>\n",
       "</div>"
      ],
      "text/plain": [
       "               Year of birth    Growth    Weight  Hair length  Shoe size  \\\n",
       "Year of birth       1.000000 -0.113357  0.006042     0.095402  -0.108360   \n",
       "Growth             -0.113357  1.000000  0.544528    -0.554408   0.863252   \n",
       "Weight              0.006042  0.544528  1.000000    -0.319416   0.591149   \n",
       "Hair length         0.095402 -0.554408 -0.319416     1.000000  -0.567568   \n",
       "Shoe size          -0.108360  0.863252  0.591149    -0.567568   1.000000   \n",
       "Full lenght         0.064713 -0.235492 -0.145316     0.939398  -0.307190   \n",
       "\n",
       "               Full lenght  \n",
       "Year of birth     0.064713  \n",
       "Growth           -0.235492  \n",
       "Weight           -0.145316  \n",
       "Hair length       0.939398  \n",
       "Shoe size        -0.307190  \n",
       "Full lenght       1.000000  "
      ]
     },
     "execution_count": 202,
     "metadata": {},
     "output_type": "execute_result"
    }
   ],
   "source": [
    "df_cut.corr()"
   ]
  },
  {
   "cell_type": "markdown",
   "id": "670ba140",
   "metadata": {},
   "source": [
    "Группировка по признакам и среднему значению"
   ]
  },
  {
   "cell_type": "code",
   "execution_count": 5,
   "id": "b4f99b6d",
   "metadata": {},
   "outputs": [
    {
     "data": {
      "text/html": [
       "<div>\n",
       "<style scoped>\n",
       "    .dataframe tbody tr th:only-of-type {\n",
       "        vertical-align: middle;\n",
       "    }\n",
       "\n",
       "    .dataframe tbody tr th {\n",
       "        vertical-align: top;\n",
       "    }\n",
       "\n",
       "    .dataframe thead th {\n",
       "        text-align: right;\n",
       "    }\n",
       "</style>\n",
       "<table border=\"1\" class=\"dataframe\">\n",
       "  <thead>\n",
       "    <tr style=\"text-align: right;\">\n",
       "      <th></th>\n",
       "      <th>Russian rating</th>\n",
       "      <th>Maths rating</th>\n",
       "    </tr>\n",
       "    <tr>\n",
       "      <th>Rock paper scissors</th>\n",
       "      <th></th>\n",
       "      <th></th>\n",
       "    </tr>\n",
       "  </thead>\n",
       "  <tbody>\n",
       "    <tr>\n",
       "      <th>Бумага</th>\n",
       "      <td>76.473684</td>\n",
       "      <td>52.894737</td>\n",
       "    </tr>\n",
       "    <tr>\n",
       "      <th>Камень</th>\n",
       "      <td>81.450000</td>\n",
       "      <td>62.166667</td>\n",
       "    </tr>\n",
       "    <tr>\n",
       "      <th>Ножницы</th>\n",
       "      <td>83.988636</td>\n",
       "      <td>57.738636</td>\n",
       "    </tr>\n",
       "  </tbody>\n",
       "</table>\n",
       "</div>"
      ],
      "text/plain": [
       "                     Russian rating  Maths rating\n",
       "Rock paper scissors                              \n",
       "Бумага                    76.473684     52.894737\n",
       "Камень                    81.450000     62.166667\n",
       "Ножницы                   83.988636     57.738636"
      ]
     },
     "execution_count": 5,
     "metadata": {},
     "output_type": "execute_result"
    }
   ],
   "source": [
    "df.groupby('Rock paper scissors')[['Russian rating', 'Maths rating']].mean()"
   ]
  },
  {
   "cell_type": "code",
   "execution_count": 13,
   "id": "0d63f93a",
   "metadata": {},
   "outputs": [
    {
     "data": {
      "text/plain": [
       "36"
      ]
     },
     "execution_count": 13,
     "metadata": {},
     "output_type": "execute_result"
    }
   ],
   "source": [
    "186 - df['Children number'].count()"
   ]
  },
  {
   "cell_type": "code",
   "execution_count": 17,
   "id": "3257ced5",
   "metadata": {},
   "outputs": [
    {
     "name": "stdout",
     "output_type": "stream",
     "text": [
      "<class 'pandas.core.frame.DataFrame'>\n",
      "Int64Index: 66 entries, 1 to 179\n",
      "Data columns (total 2 columns):\n",
      " #   Column  Non-Null Count  Dtype  \n",
      "---  ------  --------------  -----  \n",
      " 0   Sex     66 non-null     object \n",
      " 1   Weight  62 non-null     float64\n",
      "dtypes: float64(1), object(1)\n",
      "memory usage: 1.5+ KB\n"
     ]
    }
   ],
   "source": [
    "df_male = df.loc[df['Sex'] == 'мужской', ['Sex', 'Weight']]\n",
    "df_male.info()"
   ]
  },
  {
   "cell_type": "code",
   "execution_count": 19,
   "id": "c9910f86",
   "metadata": {},
   "outputs": [
    {
     "name": "stdout",
     "output_type": "stream",
     "text": [
      "<class 'pandas.core.frame.DataFrame'>\n",
      "Int64Index: 120 entries, 0 to 185\n",
      "Data columns (total 2 columns):\n",
      " #   Column  Non-Null Count  Dtype  \n",
      "---  ------  --------------  -----  \n",
      " 0   Sex     120 non-null    object \n",
      " 1   Weight  95 non-null     float64\n",
      "dtypes: float64(1), object(1)\n",
      "memory usage: 2.8+ KB\n"
     ]
    }
   ],
   "source": [
    "df_female = df.loc[df['Sex'] == 'женский', ['Sex', 'Weight']]\n",
    "df_female.info()"
   ]
  },
  {
   "cell_type": "markdown",
   "id": "87907109",
   "metadata": {},
   "source": [
    "Заполнение пустых ячеек в таблице"
   ]
  },
  {
   "cell_type": "code",
   "execution_count": 22,
   "id": "c6e9f6ac",
   "metadata": {},
   "outputs": [
    {
     "name": "stdout",
     "output_type": "stream",
     "text": [
      "<class 'pandas.core.frame.DataFrame'>\n",
      "Int64Index: 66 entries, 1 to 179\n",
      "Data columns (total 2 columns):\n",
      " #   Column  Non-Null Count  Dtype  \n",
      "---  ------  --------------  -----  \n",
      " 0   Sex     66 non-null     object \n",
      " 1   Weight  66 non-null     float64\n",
      "dtypes: float64(1), object(1)\n",
      "memory usage: 1.5+ KB\n",
      "<class 'pandas.core.frame.DataFrame'>\n",
      "Int64Index: 120 entries, 0 to 185\n",
      "Data columns (total 2 columns):\n",
      " #   Column  Non-Null Count  Dtype  \n",
      "---  ------  --------------  -----  \n",
      " 0   Sex     120 non-null    object \n",
      " 1   Weight  120 non-null    float64\n",
      "dtypes: float64(1), object(1)\n",
      "memory usage: 2.8+ KB\n"
     ]
    },
    {
     "data": {
      "text/plain": [
       "(None, None)"
      ]
     },
     "execution_count": 22,
     "metadata": {},
     "output_type": "execute_result"
    }
   ],
   "source": [
    "df_male['Weight'] = df_male['Weight'].fillna(df_male['Weight'].mean())\n",
    "df_female['Weight'] = df_female['Weight'].fillna(df_female['Weight'].mean())\n",
    "df_male.info(), df_female.info()"
   ]
  },
  {
   "cell_type": "code",
   "execution_count": 26,
   "id": "219622b4",
   "metadata": {},
   "outputs": [
    {
     "name": "stdout",
     "output_type": "stream",
     "text": [
      "<class 'pandas.core.frame.DataFrame'>\n",
      "Int64Index: 186 entries, 1 to 185\n",
      "Data columns (total 2 columns):\n",
      " #   Column  Non-Null Count  Dtype  \n",
      "---  ------  --------------  -----  \n",
      " 0   Sex     186 non-null    object \n",
      " 1   Weight  186 non-null    float64\n",
      "dtypes: float64(1), object(1)\n",
      "memory usage: 4.4+ KB\n"
     ]
    },
    {
     "name": "stderr",
     "output_type": "stream",
     "text": [
      "C:\\Users\\POZI\\AppData\\Local\\Temp\\ipykernel_7680\\2883374450.py:1: FutureWarning: The frame.append method is deprecated and will be removed from pandas in a future version. Use pandas.concat instead.\n",
      "  df_sex = df_male.append(df_female)\n"
     ]
    }
   ],
   "source": [
    "df_sex = df_male.append(df_female)\n",
    "df_sex.info()"
   ]
  },
  {
   "cell_type": "code",
   "execution_count": 28,
   "id": "688857cc",
   "metadata": {},
   "outputs": [
    {
     "data": {
      "text/plain": [
       "63.53201161071252"
      ]
     },
     "execution_count": 28,
     "metadata": {},
     "output_type": "execute_result"
    }
   ],
   "source": [
    "df_sex['Weight'].mean()"
   ]
  },
  {
   "cell_type": "code",
   "execution_count": 41,
   "id": "1b5265d4",
   "metadata": {},
   "outputs": [
    {
     "data": {
      "text/plain": [
       "(            Brother-sister  Children number\n",
       " 0   нет ни брата ни сестры              4.0\n",
       " 11  нет ни брата ни сестры              6.0\n",
       " 13  нет ни брата ни сестры              1.0\n",
       " 25  нет ни брата ни сестры              0.0\n",
       " 28  нет ни брата ни сестры              0.0,\n",
       "          Brother-sister  Children number\n",
       " 1  есть и брат и сестра              NaN\n",
       " 2             есть брат              2.0\n",
       " 3           есть сестра              2.0\n",
       " 4           есть сестра              2.5\n",
       " 5             есть брат              NaN)"
      ]
     },
     "execution_count": 41,
     "metadata": {},
     "output_type": "execute_result"
    }
   ],
   "source": [
    "single = df.loc[df['Brother-sister'] == 'нет ни брата ни сестры', ['Brother-sister', 'Children number']]\n",
    "notsingle = df.loc[df['Brother-sister'] != 'нет ни брата ни сестры', ['Brother-sister', 'Children number']]\n",
    "single.head(), notsingle.head()"
   ]
  },
  {
   "cell_type": "code",
   "execution_count": 42,
   "id": "1f851599",
   "metadata": {},
   "outputs": [
    {
     "data": {
      "text/plain": [
       "(1.0, 2.0)"
      ]
     },
     "execution_count": 42,
     "metadata": {},
     "output_type": "execute_result"
    }
   ],
   "source": [
    "single['Children number'].median(), notsingle['Children number'].median()"
   ]
  },
  {
   "cell_type": "code",
   "execution_count": 43,
   "id": "e60ae448",
   "metadata": {},
   "outputs": [
    {
     "name": "stdout",
     "output_type": "stream",
     "text": [
      "<class 'pandas.core.frame.DataFrame'>\n",
      "Int64Index: 39 entries, 0 to 185\n",
      "Data columns (total 2 columns):\n",
      " #   Column           Non-Null Count  Dtype  \n",
      "---  ------           --------------  -----  \n",
      " 0   Brother-sister   39 non-null     object \n",
      " 1   Children number  39 non-null     float64\n",
      "dtypes: float64(1), object(1)\n",
      "memory usage: 936.0+ bytes\n",
      "<class 'pandas.core.frame.DataFrame'>\n",
      "Int64Index: 147 entries, 1 to 184\n",
      "Data columns (total 2 columns):\n",
      " #   Column           Non-Null Count  Dtype  \n",
      "---  ------           --------------  -----  \n",
      " 0   Brother-sister   147 non-null    object \n",
      " 1   Children number  147 non-null    float64\n",
      "dtypes: float64(1), object(1)\n",
      "memory usage: 3.4+ KB\n"
     ]
    },
    {
     "data": {
      "text/plain": [
       "(None, None)"
      ]
     },
     "execution_count": 43,
     "metadata": {},
     "output_type": "execute_result"
    }
   ],
   "source": [
    "single['Children number'] = single['Children number'].fillna(single['Children number'].median())\n",
    "notsingle['Children number'] = notsingle['Children number'].fillna(notsingle['Children number'].median())\n",
    "single.info(), notsingle.info()"
   ]
  },
  {
   "cell_type": "code",
   "execution_count": 46,
   "id": "e7bebb43",
   "metadata": {},
   "outputs": [
    {
     "name": "stderr",
     "output_type": "stream",
     "text": [
      "C:\\Users\\POZI\\AppData\\Local\\Temp\\ipykernel_7680\\2000618802.py:1: FutureWarning: The frame.append method is deprecated and will be removed from pandas in a future version. Use pandas.concat instead.\n",
      "  nssingle = single.append(notsingle)\n"
     ]
    }
   ],
   "source": [
    "nssingle = single.append(notsingle)"
   ]
  },
  {
   "cell_type": "code",
   "execution_count": 49,
   "id": "1119fb44",
   "metadata": {},
   "outputs": [
    {
     "data": {
      "text/plain": [
       "2.0"
      ]
     },
     "execution_count": 49,
     "metadata": {},
     "output_type": "execute_result"
    }
   ],
   "source": [
    "nssingle['Children number'].median()"
   ]
  },
  {
   "cell_type": "code",
   "execution_count": null,
   "id": "4960abeb",
   "metadata": {},
   "outputs": [],
   "source": [
    "Построение боксплота по квантилям"
   ]
  },
  {
   "cell_type": "code",
   "execution_count": 52,
   "id": "a50c6fda",
   "metadata": {},
   "outputs": [],
   "source": [
    "a = df['Putin age'].quantile(0.25)\n",
    "b = df['Putin age'].quantile(0.75)"
   ]
  },
  {
   "cell_type": "code",
   "execution_count": 55,
   "id": "3a1c0c42",
   "metadata": {},
   "outputs": [
    {
     "data": {
      "text/plain": [
       "<AxesSubplot: >"
      ]
     },
     "execution_count": 55,
     "metadata": {},
     "output_type": "execute_result"
    },
    {
     "data": {
      "image/png": "[encoded data removed]",
      "text/plain": [
       "<Figure size 640x480 with 1 Axes>"
      ]
     },
     "metadata": {},
     "output_type": "display_data"
    }
   ],
   "source": [
    "df = df[(df['Putin age'] > a - 1.5 * (b - a)) & (df['Putin age'] < b + 1.5 * (b - a))]\n",
    "sns.boxplot(df['Putin age'])"
   ]
  },
  {
   "cell_type": "code",
   "execution_count": 57,
   "id": "c9e0dfd7",
   "metadata": {},
   "outputs": [
    {
     "data": {
      "text/plain": [
       "69.0"
      ]
     },
     "execution_count": 57,
     "metadata": {},
     "output_type": "execute_result"
    }
   ],
   "source": [
    "df['Putin age'].median()"
   ]
  },
  {
   "cell_type": "markdown",
   "id": "1177eb2d",
   "metadata": {},
   "source": [
    "Обучение модели по предсказыванию целевого значения. Регрессия и классификация."
   ]
  },
  {
   "cell_type": "code",
   "execution_count": 10,
   "id": "7277e44e",
   "metadata": {},
   "outputs": [
    {
     "name": "stdout",
     "output_type": "stream",
     "text": [
      "<class 'pandas.core.frame.DataFrame'>\n",
      "Int64Index: 157 entries, 0 to 185\n",
      "Data columns (total 2 columns):\n",
      " #   Column     Non-Null Count  Dtype  \n",
      "---  ------     --------------  -----  \n",
      " 0   Weight     157 non-null    float64\n",
      " 1   Shoe size  157 non-null    int64  \n",
      "dtypes: float64(1), int64(1)\n",
      "memory usage: 3.7 KB\n"
     ]
    }
   ],
   "source": [
    "from sklearn.cluster import KMeans\n",
    "df_cut = df[['Weight', 'Shoe size']]\n",
    "df_cut = df_cut.dropna()\n",
    "df_cut.info()"
   ]
  },
  {
   "cell_type": "code",
   "execution_count": 13,
   "id": "0bf5cb3c",
   "metadata": {},
   "outputs": [
    {
     "name": "stderr",
     "output_type": "stream",
     "text": [
      "C:\\Users\\POZI\\anaconda3\\envs\\DataAnalytic\\lib\\site-packages\\sklearn\\cluster\\_kmeans.py:1334: UserWarning: KMeans is known to have a memory leak on Windows with MKL, when there are less chunks than available threads. You can avoid it by setting the environment variable OMP_NUM_THREADS=1.\n",
      "  warnings.warn(\n"
     ]
    }
   ],
   "source": [
    "kmeans = KMeans(n_clusters = 2, random_state = 1)\n",
    "kmeans.fit(df_cut)\n",
    "df_cut['Label'] = kmeans.labels_"
   ]
  },
  {
   "cell_type": "code",
   "execution_count": 16,
   "id": "6a834f86",
   "metadata": {},
   "outputs": [
    {
     "data": {
      "text/plain": [
       "0    118\n",
       "Name: Label, dtype: int64"
      ]
     },
     "execution_count": 16,
     "metadata": {},
     "output_type": "execute_result"
    }
   ],
   "source": [
    "df_cut.loc[df_cut['Label'] == 0, 'Label'].value_counts()"
   ]
  },
  {
   "cell_type": "code",
   "execution_count": null,
   "id": "d37b709b",
   "metadata": {},
   "outputs": [],
   "source": [
    "df_cut = df[['Age', 'Year of birth', 'Month of birthday']]\n",
    "df_test_cut = df_test[['Age', 'Year of birth', 'Month of birthday']]\n",
    "df_cut.head(), df_test_cut.head()"
   ]
  },
  {
   "cell_type": "code",
   "execution_count": 21,
   "id": "977b653f",
   "metadata": {},
   "outputs": [
    {
     "data": {
      "text/plain": [
       "(22.929930296699347, array([-0.00145442,  0.10005863]))"
      ]
     },
     "execution_count": 21,
     "metadata": {},
     "output_type": "execute_result"
    }
   ],
   "source": [
    "from sklearn.linear_model import LinearRegression\n",
    "reg = LinearRegression()\n",
    "result = reg.fit(df_cut[['Year of birth', 'Month of birthday']].values.reshape(-1, 2), y = df_cut['Age'].values)\n",
    "result.intercept_, result. coef_"
   ]
  },
  {
   "cell_type": "code",
   "execution_count": 24,
   "id": "10034a78",
   "metadata": {},
   "outputs": [
    {
     "name": "stderr",
     "output_type": "stream",
     "text": [
      "C:\\Users\\POZI\\AppData\\Local\\Temp\\ipykernel_1964\\3837535457.py:1: SettingWithCopyWarning: \n",
      "A value is trying to be set on a copy of a slice from a DataFrame.\n",
      "Try using .loc[row_indexer,col_indexer] = value instead\n",
      "\n",
      "See the caveats in the documentation: https://pandas.pydata.org/pandas-docs/stable/user_guide/indexing.html#returning-a-view-versus-a-copy\n",
      "  df_test_cut['Pridicted'] = result.predict(df_test_cut[['Year of birth', 'Month of birthday']].values.reshape(-1, 2))\n"
     ]
    }
   ],
   "source": [
    "df_test_cut['Pridicted'] = result.predict(df_test_cut[['Year of birth', 'Month of birthday']].values.reshape(-1, 2))"
   ]
  },
  {
   "cell_type": "code",
   "execution_count": 25,
   "id": "98cbec6c",
   "metadata": {},
   "outputs": [
    {
     "data": {
      "text/html": [
       "<div>\n",
       "<style scoped>\n",
       "    .dataframe tbody tr th:only-of-type {\n",
       "        vertical-align: middle;\n",
       "    }\n",
       "\n",
       "    .dataframe tbody tr th {\n",
       "        vertical-align: top;\n",
       "    }\n",
       "\n",
       "    .dataframe thead th {\n",
       "        text-align: right;\n",
       "    }\n",
       "</style>\n",
       "<table border=\"1\" class=\"dataframe\">\n",
       "  <thead>\n",
       "    <tr style=\"text-align: right;\">\n",
       "      <th></th>\n",
       "      <th>Age</th>\n",
       "      <th>Year of birth</th>\n",
       "      <th>Month of birthday</th>\n",
       "      <th>Pridicted</th>\n",
       "    </tr>\n",
       "  </thead>\n",
       "  <tbody>\n",
       "    <tr>\n",
       "      <th>0</th>\n",
       "      <td>22</td>\n",
       "      <td>2000</td>\n",
       "      <td>6</td>\n",
       "      <td>20.621444</td>\n",
       "    </tr>\n",
       "    <tr>\n",
       "      <th>1</th>\n",
       "      <td>20</td>\n",
       "      <td>2002</td>\n",
       "      <td>3</td>\n",
       "      <td>20.318359</td>\n",
       "    </tr>\n",
       "    <tr>\n",
       "      <th>2</th>\n",
       "      <td>21</td>\n",
       "      <td>2001</td>\n",
       "      <td>6</td>\n",
       "      <td>20.619989</td>\n",
       "    </tr>\n",
       "    <tr>\n",
       "      <th>3</th>\n",
       "      <td>21</td>\n",
       "      <td>2001</td>\n",
       "      <td>7</td>\n",
       "      <td>20.720048</td>\n",
       "    </tr>\n",
       "    <tr>\n",
       "      <th>4</th>\n",
       "      <td>22</td>\n",
       "      <td>2000</td>\n",
       "      <td>5</td>\n",
       "      <td>20.521385</td>\n",
       "    </tr>\n",
       "  </tbody>\n",
       "</table>\n",
       "</div>"
      ],
      "text/plain": [
       "   Age  Year of birth  Month of birthday  Pridicted\n",
       "0   22           2000                  6  20.621444\n",
       "1   20           2002                  3  20.318359\n",
       "2   21           2001                  6  20.619989\n",
       "3   21           2001                  7  20.720048\n",
       "4   22           2000                  5  20.521385"
      ]
     },
     "execution_count": 25,
     "metadata": {},
     "output_type": "execute_result"
    }
   ],
   "source": [
    "df_test_cut.head()"
   ]
  },
  {
   "cell_type": "code",
   "execution_count": 40,
   "id": "a9ada579",
   "metadata": {},
   "outputs": [
    {
     "data": {
      "text/plain": [
       "1.6054960000660923"
      ]
     },
     "execution_count": 40,
     "metadata": {},
     "output_type": "execute_result"
    }
   ],
   "source": [
    "from sklearn.metrics import mean_absolute_error\n",
    "mean_absolute_error(df_test_cut['Pridicted'], df_test_cut['Age'])"
   ]
  },
  {
   "cell_type": "markdown",
   "id": "80549335",
   "metadata": {},
   "source": [
    "Обучени модели по соседним точкам"
   ]
  },
  {
   "cell_type": "code",
   "execution_count": 7,
   "id": "79b4afd2",
   "metadata": {},
   "outputs": [],
   "source": [
    "from sklearn.preprocessing import StandardScaler\n",
    "from sklearn.neighbors import KNeighborsClassifier"
   ]
  },
  {
   "cell_type": "code",
   "execution_count": 6,
   "id": "749c2ead",
   "metadata": {},
   "outputs": [
    {
     "data": {
      "text/html": [
       "<div>\n",
       "<style scoped>\n",
       "    .dataframe tbody tr th:only-of-type {\n",
       "        vertical-align: middle;\n",
       "    }\n",
       "\n",
       "    .dataframe tbody tr th {\n",
       "        vertical-align: top;\n",
       "    }\n",
       "\n",
       "    .dataframe thead th {\n",
       "        text-align: right;\n",
       "    }\n",
       "</style>\n",
       "<table border=\"1\" class=\"dataframe\">\n",
       "  <thead>\n",
       "    <tr style=\"text-align: right;\">\n",
       "      <th></th>\n",
       "      <th>Hair length</th>\n",
       "      <th>Shoe size</th>\n",
       "      <th>Sex</th>\n",
       "    </tr>\n",
       "  </thead>\n",
       "  <tbody>\n",
       "    <tr>\n",
       "      <th>0</th>\n",
       "      <td>50.0</td>\n",
       "      <td>40</td>\n",
       "      <td>женский</td>\n",
       "    </tr>\n",
       "    <tr>\n",
       "      <th>1</th>\n",
       "      <td>7.0</td>\n",
       "      <td>43</td>\n",
       "      <td>мужской</td>\n",
       "    </tr>\n",
       "    <tr>\n",
       "      <th>2</th>\n",
       "      <td>4.0</td>\n",
       "      <td>41</td>\n",
       "      <td>мужской</td>\n",
       "    </tr>\n",
       "    <tr>\n",
       "      <th>3</th>\n",
       "      <td>20.0</td>\n",
       "      <td>38</td>\n",
       "      <td>женский</td>\n",
       "    </tr>\n",
       "    <tr>\n",
       "      <th>4</th>\n",
       "      <td>55.0</td>\n",
       "      <td>36</td>\n",
       "      <td>женский</td>\n",
       "    </tr>\n",
       "  </tbody>\n",
       "</table>\n",
       "</div>"
      ],
      "text/plain": [
       "   Hair length  Shoe size      Sex\n",
       "0         50.0         40  женский\n",
       "1          7.0         43  мужской\n",
       "2          4.0         41  мужской\n",
       "3         20.0         38  женский\n",
       "4         55.0         36  женский"
      ]
     },
     "execution_count": 6,
     "metadata": {},
     "output_type": "execute_result"
    }
   ],
   "source": [
    "df_cut = df[['Hair length', 'Shoe size', 'Sex']]\n",
    "df_cut.head()"
   ]
  },
  {
   "cell_type": "code",
   "execution_count": 13,
   "id": "70e6f165",
   "metadata": {},
   "outputs": [],
   "source": [
    "norm = StandardScaler()\n",
    "norm.fit(df_cut[['Hair length', 'Shoe size']].values.reshape(-1, 2))\n",
    "arr = norm.transform(df_cut[['Hair length', 'Shoe size']].values.reshape(-1, 2))"
   ]
  },
  {
   "cell_type": "code",
   "execution_count": 14,
   "id": "ae3b97af",
   "metadata": {},
   "outputs": [
    {
     "data": {
      "text/html": [
       "<style>#sk-container-id-1 {color: black;background-color: white;}#sk-container-id-1 pre{padding: 0;}#sk-container-id-1 div.sk-toggleable {background-color: white;}#sk-container-id-1 label.sk-toggleable__label {cursor: pointer;display: block;width: 100%;margin-bottom: 0;padding: 0.3em;box-sizing: border-box;text-align: center;}#sk-container-id-1 label.sk-toggleable__label-arrow:before {content: \"▸\";float: left;margin-right: 0.25em;color: #696969;}#sk-container-id-1 label.sk-toggleable__label-arrow:hover:before {color: black;}#sk-container-id-1 div.sk-estimator:hover label.sk-toggleable__label-arrow:before {color: black;}#sk-container-id-1 div.sk-toggleable__content {max-height: 0;max-width: 0;overflow: hidden;text-align: left;background-color: #f0f8ff;}#sk-container-id-1 div.sk-toggleable__content pre {margin: 0.2em;color: black;border-radius: 0.25em;background-color: #f0f8ff;}#sk-container-id-1 input.sk-toggleable__control:checked~div.sk-toggleable__content {max-height: 200px;max-width: 100%;overflow: auto;}#sk-container-id-1 input.sk-toggleable__control:checked~label.sk-toggleable__label-arrow:before {content: \"▾\";}#sk-container-id-1 div.sk-estimator input.sk-toggleable__control:checked~label.sk-toggleable__label {background-color: #d4ebff;}#sk-container-id-1 div.sk-label input.sk-toggleable__control:checked~label.sk-toggleable__label {background-color: #d4ebff;}#sk-container-id-1 input.sk-hidden--visually {border: 0;clip: rect(1px 1px 1px 1px);clip: rect(1px, 1px, 1px, 1px);height: 1px;margin: -1px;overflow: hidden;padding: 0;position: absolute;width: 1px;}#sk-container-id-1 div.sk-estimator {font-family: monospace;background-color: #f0f8ff;border: 1px dotted black;border-radius: 0.25em;box-sizing: border-box;margin-bottom: 0.5em;}#sk-container-id-1 div.sk-estimator:hover {background-color: #d4ebff;}#sk-container-id-1 div.sk-parallel-item::after {content: \"\";width: 100%;border-bottom: 1px solid gray;flex-grow: 1;}#sk-container-id-1 div.sk-label:hover label.sk-toggleable__label {background-color: #d4ebff;}#sk-container-id-1 div.sk-serial::before {content: \"\";position: absolute;border-left: 1px solid gray;box-sizing: border-box;top: 0;bottom: 0;left: 50%;z-index: 0;}#sk-container-id-1 div.sk-serial {display: flex;flex-direction: column;align-items: center;background-color: white;padding-right: 0.2em;padding-left: 0.2em;position: relative;}#sk-container-id-1 div.sk-item {position: relative;z-index: 1;}#sk-container-id-1 div.sk-parallel {display: flex;align-items: stretch;justify-content: center;background-color: white;position: relative;}#sk-container-id-1 div.sk-item::before, #sk-container-id-1 div.sk-parallel-item::before {content: \"\";position: absolute;border-left: 1px solid gray;box-sizing: border-box;top: 0;bottom: 0;left: 50%;z-index: -1;}#sk-container-id-1 div.sk-parallel-item {display: flex;flex-direction: column;z-index: 1;position: relative;background-color: white;}#sk-container-id-1 div.sk-parallel-item:first-child::after {align-self: flex-end;width: 50%;}#sk-container-id-1 div.sk-parallel-item:last-child::after {align-self: flex-start;width: 50%;}#sk-container-id-1 div.sk-parallel-item:only-child::after {width: 0;}#sk-container-id-1 div.sk-dashed-wrapped {border: 1px dashed gray;margin: 0 0.4em 0.5em 0.4em;box-sizing: border-box;padding-bottom: 0.4em;background-color: white;}#sk-container-id-1 div.sk-label label {font-family: monospace;font-weight: bold;display: inline-block;line-height: 1.2em;}#sk-container-id-1 div.sk-label-container {text-align: center;}#sk-container-id-1 div.sk-container {/* jupyter's `normalize.less` sets `[hidden] { display: none; }` but bootstrap.min.css set `[hidden] { display: none !important; }` so we also need the `!important` here to be able to override the default hidden behavior on the sphinx rendered scikit-learn.org. See: https://github.com/scikit-learn/scikit-learn/issues/21755 */display: inline-block !important;position: relative;}#sk-container-id-1 div.sk-text-repr-fallback {display: none;}</style><div id=\"sk-container-id-1\" class=\"sk-top-container\"><div class=\"sk-text-repr-fallback\"><pre>KNeighborsClassifier(n_neighbors=3)</pre><b>In a Jupyter environment, please rerun this cell to show the HTML representation or trust the notebook. <br />On GitHub, the HTML representation is unable to render, please try loading this page with nbviewer.org.</b></div><div class=\"sk-container\" hidden><div class=\"sk-item\"><div class=\"sk-estimator sk-toggleable\"><input class=\"sk-toggleable__control sk-hidden--visually\" id=\"sk-estimator-id-1\" type=\"checkbox\" checked><label for=\"sk-estimator-id-1\" class=\"sk-toggleable__label sk-toggleable__label-arrow\">KNeighborsClassifier</label><div class=\"sk-toggleable__content\"><pre>KNeighborsClassifier(n_neighbors=3)</pre></div></div></div></div></div>"
      ],
      "text/plain": [
       "KNeighborsClassifier(n_neighbors=3)"
      ]
     },
     "execution_count": 14,
     "metadata": {},
     "output_type": "execute_result"
    }
   ],
   "source": [
    "model = KNeighborsClassifier(n_neighbors=3)\n",
    "model.fit(arr, y = df_cut['Sex'].values)"
   ]
  },
  {
   "cell_type": "code",
   "execution_count": 17,
   "id": "d1c3a342",
   "metadata": {},
   "outputs": [],
   "source": [
    "df_test_cut = df_test[['Hair length', 'Shoe size', 'Sex']]\n",
    "df_test_cut = df_test_cut.dropna()"
   ]
  },
  {
   "cell_type": "code",
   "execution_count": 18,
   "id": "e4fe6e9a",
   "metadata": {},
   "outputs": [],
   "source": [
    "arr_test = norm.transform(df_test_cut[['Hair length', 'Shoe size']].values.reshape(-1, 2))\n",
    "df_test_cut['Predict'] = model.predict(arr_test)"
   ]
  },
  {
   "cell_type": "code",
   "execution_count": 19,
   "id": "da436a21",
   "metadata": {},
   "outputs": [
    {
     "data": {
      "text/html": [
       "<div>\n",
       "<style scoped>\n",
       "    .dataframe tbody tr th:only-of-type {\n",
       "        vertical-align: middle;\n",
       "    }\n",
       "\n",
       "    .dataframe tbody tr th {\n",
       "        vertical-align: top;\n",
       "    }\n",
       "\n",
       "    .dataframe thead th {\n",
       "        text-align: right;\n",
       "    }\n",
       "</style>\n",
       "<table border=\"1\" class=\"dataframe\">\n",
       "  <thead>\n",
       "    <tr style=\"text-align: right;\">\n",
       "      <th>Sex</th>\n",
       "      <th>женский</th>\n",
       "      <th>мужской</th>\n",
       "    </tr>\n",
       "    <tr>\n",
       "      <th>Predict</th>\n",
       "      <th></th>\n",
       "      <th></th>\n",
       "    </tr>\n",
       "  </thead>\n",
       "  <tbody>\n",
       "    <tr>\n",
       "      <th>женский</th>\n",
       "      <td>61</td>\n",
       "      <td>1</td>\n",
       "    </tr>\n",
       "    <tr>\n",
       "      <th>мужской</th>\n",
       "      <td>1</td>\n",
       "      <td>35</td>\n",
       "    </tr>\n",
       "  </tbody>\n",
       "</table>\n",
       "</div>"
      ],
      "text/plain": [
       "Sex      женский  мужской\n",
       "Predict                  \n",
       "женский       61        1\n",
       "мужской        1       35"
      ]
     },
     "execution_count": 19,
     "metadata": {},
     "output_type": "execute_result"
    }
   ],
   "source": [
    "pd.crosstab(df_test_cut['Predict'], df_test_cut['Sex'])"
   ]
  },
  {
   "cell_type": "code",
   "execution_count": 4,
   "id": "0147fcf7",
   "metadata": {},
   "outputs": [],
   "source": [
    "from sklearn.preprocessing import StandardScaler\n",
    "from sklearn.linear_model import SGDClassifier"
   ]
  },
  {
   "cell_type": "code",
   "execution_count": 5,
   "id": "19cbba13",
   "metadata": {},
   "outputs": [
    {
     "ename": "NameError",
     "evalue": "name 'df' is not defined",
     "output_type": "error",
     "traceback": [
      "\u001b[1;31m---------------------------------------------------------------------------\u001b[0m",
      "\u001b[1;31mNameError\u001b[0m                                 Traceback (most recent call last)",
      "Cell \u001b[1;32mIn[5], line 1\u001b[0m\n\u001b[1;32m----> 1\u001b[0m df_cut \u001b[38;5;241m=\u001b[39m \u001b[43mdf\u001b[49m[[\u001b[38;5;124m'\u001b[39m\u001b[38;5;124mHair length\u001b[39m\u001b[38;5;124m'\u001b[39m, \u001b[38;5;124m'\u001b[39m\u001b[38;5;124mShoe size\u001b[39m\u001b[38;5;124m'\u001b[39m, \u001b[38;5;124m'\u001b[39m\u001b[38;5;124mSex\u001b[39m\u001b[38;5;124m'\u001b[39m]]\n\u001b[0;32m      2\u001b[0m df_test_cut \u001b[38;5;241m=\u001b[39m df_test[[\u001b[38;5;124m'\u001b[39m\u001b[38;5;124mHair length\u001b[39m\u001b[38;5;124m'\u001b[39m, \u001b[38;5;124m'\u001b[39m\u001b[38;5;124mShoe size\u001b[39m\u001b[38;5;124m'\u001b[39m, \u001b[38;5;124m'\u001b[39m\u001b[38;5;124mSex\u001b[39m\u001b[38;5;124m'\u001b[39m]]\n\u001b[0;32m      3\u001b[0m df_test_cut \u001b[38;5;241m=\u001b[39m df_test_cut\u001b[38;5;241m.\u001b[39mdropna()\n",
      "\u001b[1;31mNameError\u001b[0m: name 'df' is not defined"
     ]
    }
   ],
   "source": [
    "df_cut = df[['Hair length', 'Shoe size', 'Sex']]\n",
    "df_test_cut = df_test[['Hair length', 'Shoe size', 'Sex']]\n",
    "df_test_cut = df_test_cut.dropna()"
   ]
  },
  {
   "cell_type": "code",
   "execution_count": 22,
   "id": "19945f55",
   "metadata": {},
   "outputs": [],
   "source": [
    "norm = StandardScaler()\n",
    "norm.fit(df_cut[['Hair length', 'Shoe size']].values.reshape(-1, 2))\n",
    "arr = norm.transform(df_cut[['Hair length', 'Shoe size']].values.reshape(-1, 2))\n",
    "arr_test = norm.transform(df_test_cut[['Hair length', 'Shoe size']].values.reshape(-1, 2))"
   ]
  },
  {
   "cell_type": "code",
   "execution_count": 23,
   "id": "73d72545",
   "metadata": {},
   "outputs": [
    {
     "data": {
      "text/html": [
       "<style>#sk-container-id-2 {color: black;background-color: white;}#sk-container-id-2 pre{padding: 0;}#sk-container-id-2 div.sk-toggleable {background-color: white;}#sk-container-id-2 label.sk-toggleable__label {cursor: pointer;display: block;width: 100%;margin-bottom: 0;padding: 0.3em;box-sizing: border-box;text-align: center;}#sk-container-id-2 label.sk-toggleable__label-arrow:before {content: \"▸\";float: left;margin-right: 0.25em;color: #696969;}#sk-container-id-2 label.sk-toggleable__label-arrow:hover:before {color: black;}#sk-container-id-2 div.sk-estimator:hover label.sk-toggleable__label-arrow:before {color: black;}#sk-container-id-2 div.sk-toggleable__content {max-height: 0;max-width: 0;overflow: hidden;text-align: left;background-color: #f0f8ff;}#sk-container-id-2 div.sk-toggleable__content pre {margin: 0.2em;color: black;border-radius: 0.25em;background-color: #f0f8ff;}#sk-container-id-2 input.sk-toggleable__control:checked~div.sk-toggleable__content {max-height: 200px;max-width: 100%;overflow: auto;}#sk-container-id-2 input.sk-toggleable__control:checked~label.sk-toggleable__label-arrow:before {content: \"▾\";}#sk-container-id-2 div.sk-estimator input.sk-toggleable__control:checked~label.sk-toggleable__label {background-color: #d4ebff;}#sk-container-id-2 div.sk-label input.sk-toggleable__control:checked~label.sk-toggleable__label {background-color: #d4ebff;}#sk-container-id-2 input.sk-hidden--visually {border: 0;clip: rect(1px 1px 1px 1px);clip: rect(1px, 1px, 1px, 1px);height: 1px;margin: -1px;overflow: hidden;padding: 0;position: absolute;width: 1px;}#sk-container-id-2 div.sk-estimator {font-family: monospace;background-color: #f0f8ff;border: 1px dotted black;border-radius: 0.25em;box-sizing: border-box;margin-bottom: 0.5em;}#sk-container-id-2 div.sk-estimator:hover {background-color: #d4ebff;}#sk-container-id-2 div.sk-parallel-item::after {content: \"\";width: 100%;border-bottom: 1px solid gray;flex-grow: 1;}#sk-container-id-2 div.sk-label:hover label.sk-toggleable__label {background-color: #d4ebff;}#sk-container-id-2 div.sk-serial::before {content: \"\";position: absolute;border-left: 1px solid gray;box-sizing: border-box;top: 0;bottom: 0;left: 50%;z-index: 0;}#sk-container-id-2 div.sk-serial {display: flex;flex-direction: column;align-items: center;background-color: white;padding-right: 0.2em;padding-left: 0.2em;position: relative;}#sk-container-id-2 div.sk-item {position: relative;z-index: 1;}#sk-container-id-2 div.sk-parallel {display: flex;align-items: stretch;justify-content: center;background-color: white;position: relative;}#sk-container-id-2 div.sk-item::before, #sk-container-id-2 div.sk-parallel-item::before {content: \"\";position: absolute;border-left: 1px solid gray;box-sizing: border-box;top: 0;bottom: 0;left: 50%;z-index: -1;}#sk-container-id-2 div.sk-parallel-item {display: flex;flex-direction: column;z-index: 1;position: relative;background-color: white;}#sk-container-id-2 div.sk-parallel-item:first-child::after {align-self: flex-end;width: 50%;}#sk-container-id-2 div.sk-parallel-item:last-child::after {align-self: flex-start;width: 50%;}#sk-container-id-2 div.sk-parallel-item:only-child::after {width: 0;}#sk-container-id-2 div.sk-dashed-wrapped {border: 1px dashed gray;margin: 0 0.4em 0.5em 0.4em;box-sizing: border-box;padding-bottom: 0.4em;background-color: white;}#sk-container-id-2 div.sk-label label {font-family: monospace;font-weight: bold;display: inline-block;line-height: 1.2em;}#sk-container-id-2 div.sk-label-container {text-align: center;}#sk-container-id-2 div.sk-container {/* jupyter's `normalize.less` sets `[hidden] { display: none; }` but bootstrap.min.css set `[hidden] { display: none !important; }` so we also need the `!important` here to be able to override the default hidden behavior on the sphinx rendered scikit-learn.org. See: https://github.com/scikit-learn/scikit-learn/issues/21755 */display: inline-block !important;position: relative;}#sk-container-id-2 div.sk-text-repr-fallback {display: none;}</style><div id=\"sk-container-id-2\" class=\"sk-top-container\"><div class=\"sk-text-repr-fallback\"><pre>SGDClassifier(random_state=0)</pre><b>In a Jupyter environment, please rerun this cell to show the HTML representation or trust the notebook. <br />On GitHub, the HTML representation is unable to render, please try loading this page with nbviewer.org.</b></div><div class=\"sk-container\" hidden><div class=\"sk-item\"><div class=\"sk-estimator sk-toggleable\"><input class=\"sk-toggleable__control sk-hidden--visually\" id=\"sk-estimator-id-2\" type=\"checkbox\" checked><label for=\"sk-estimator-id-2\" class=\"sk-toggleable__label sk-toggleable__label-arrow\">SGDClassifier</label><div class=\"sk-toggleable__content\"><pre>SGDClassifier(random_state=0)</pre></div></div></div></div></div>"
      ],
      "text/plain": [
       "SGDClassifier(random_state=0)"
      ]
     },
     "execution_count": 23,
     "metadata": {},
     "output_type": "execute_result"
    }
   ],
   "source": [
    "model = SGDClassifier(random_state=0)\n",
    "model.fit(arr, y = df_cut['Sex'].values)"
   ]
  },
  {
   "cell_type": "code",
   "execution_count": 24,
   "id": "b68d1e97",
   "metadata": {},
   "outputs": [
    {
     "data": {
      "text/html": [
       "<div>\n",
       "<style scoped>\n",
       "    .dataframe tbody tr th:only-of-type {\n",
       "        vertical-align: middle;\n",
       "    }\n",
       "\n",
       "    .dataframe tbody tr th {\n",
       "        vertical-align: top;\n",
       "    }\n",
       "\n",
       "    .dataframe thead th {\n",
       "        text-align: right;\n",
       "    }\n",
       "</style>\n",
       "<table border=\"1\" class=\"dataframe\">\n",
       "  <thead>\n",
       "    <tr style=\"text-align: right;\">\n",
       "      <th>Sex</th>\n",
       "      <th>женский</th>\n",
       "      <th>мужской</th>\n",
       "    </tr>\n",
       "    <tr>\n",
       "      <th>Predict</th>\n",
       "      <th></th>\n",
       "      <th></th>\n",
       "    </tr>\n",
       "  </thead>\n",
       "  <tbody>\n",
       "    <tr>\n",
       "      <th>женский</th>\n",
       "      <td>61</td>\n",
       "      <td>1</td>\n",
       "    </tr>\n",
       "    <tr>\n",
       "      <th>мужской</th>\n",
       "      <td>1</td>\n",
       "      <td>35</td>\n",
       "    </tr>\n",
       "  </tbody>\n",
       "</table>\n",
       "</div>"
      ],
      "text/plain": [
       "Sex      женский  мужской\n",
       "Predict                  \n",
       "женский       61        1\n",
       "мужской        1       35"
      ]
     },
     "execution_count": 24,
     "metadata": {},
     "output_type": "execute_result"
    }
   ],
   "source": [
    "df_test_cut['Predict'] = model.predict(arr_test)\n",
    "pd.crosstab(df_test_cut['Predict'], df_test_cut['Sex'])"
   ]
  },
  {
   "cell_type": "markdown",
   "id": "4edb8e28",
   "metadata": {},
   "source": [
    "Дерево решений"
   ]
  },
  {
   "cell_type": "code",
   "execution_count": 8,
   "id": "70e51d3a",
   "metadata": {},
   "outputs": [],
   "source": [
    "from sklearn import tree"
   ]
  },
  {
   "cell_type": "code",
   "execution_count": 9,
   "id": "237aa645",
   "metadata": {},
   "outputs": [],
   "source": [
    "df_cut = df[['Hair length', 'Shoe size', 'Sex']]\n",
    "df_test_cut = df_test[['Hair length', 'Shoe size', 'Sex']]\n",
    "df_test_cut = df_test_cut.dropna()"
   ]
  },
  {
   "cell_type": "code",
   "execution_count": 12,
   "id": "801f3a0d",
   "metadata": {},
   "outputs": [
    {
     "data": {
      "text/html": [
       "<style>#sk-container-id-2 {color: black;background-color: white;}#sk-container-id-2 pre{padding: 0;}#sk-container-id-2 div.sk-toggleable {background-color: white;}#sk-container-id-2 label.sk-toggleable__label {cursor: pointer;display: block;width: 100%;margin-bottom: 0;padding: 0.3em;box-sizing: border-box;text-align: center;}#sk-container-id-2 label.sk-toggleable__label-arrow:before {content: \"▸\";float: left;margin-right: 0.25em;color: #696969;}#sk-container-id-2 label.sk-toggleable__label-arrow:hover:before {color: black;}#sk-container-id-2 div.sk-estimator:hover label.sk-toggleable__label-arrow:before {color: black;}#sk-container-id-2 div.sk-toggleable__content {max-height: 0;max-width: 0;overflow: hidden;text-align: left;background-color: #f0f8ff;}#sk-container-id-2 div.sk-toggleable__content pre {margin: 0.2em;color: black;border-radius: 0.25em;background-color: #f0f8ff;}#sk-container-id-2 input.sk-toggleable__control:checked~div.sk-toggleable__content {max-height: 200px;max-width: 100%;overflow: auto;}#sk-container-id-2 input.sk-toggleable__control:checked~label.sk-toggleable__label-arrow:before {content: \"▾\";}#sk-container-id-2 div.sk-estimator input.sk-toggleable__control:checked~label.sk-toggleable__label {background-color: #d4ebff;}#sk-container-id-2 div.sk-label input.sk-toggleable__control:checked~label.sk-toggleable__label {background-color: #d4ebff;}#sk-container-id-2 input.sk-hidden--visually {border: 0;clip: rect(1px 1px 1px 1px);clip: rect(1px, 1px, 1px, 1px);height: 1px;margin: -1px;overflow: hidden;padding: 0;position: absolute;width: 1px;}#sk-container-id-2 div.sk-estimator {font-family: monospace;background-color: #f0f8ff;border: 1px dotted black;border-radius: 0.25em;box-sizing: border-box;margin-bottom: 0.5em;}#sk-container-id-2 div.sk-estimator:hover {background-color: #d4ebff;}#sk-container-id-2 div.sk-parallel-item::after {content: \"\";width: 100%;border-bottom: 1px solid gray;flex-grow: 1;}#sk-container-id-2 div.sk-label:hover label.sk-toggleable__label {background-color: #d4ebff;}#sk-container-id-2 div.sk-serial::before {content: \"\";position: absolute;border-left: 1px solid gray;box-sizing: border-box;top: 0;bottom: 0;left: 50%;z-index: 0;}#sk-container-id-2 div.sk-serial {display: flex;flex-direction: column;align-items: center;background-color: white;padding-right: 0.2em;padding-left: 0.2em;position: relative;}#sk-container-id-2 div.sk-item {position: relative;z-index: 1;}#sk-container-id-2 div.sk-parallel {display: flex;align-items: stretch;justify-content: center;background-color: white;position: relative;}#sk-container-id-2 div.sk-item::before, #sk-container-id-2 div.sk-parallel-item::before {content: \"\";position: absolute;border-left: 1px solid gray;box-sizing: border-box;top: 0;bottom: 0;left: 50%;z-index: -1;}#sk-container-id-2 div.sk-parallel-item {display: flex;flex-direction: column;z-index: 1;position: relative;background-color: white;}#sk-container-id-2 div.sk-parallel-item:first-child::after {align-self: flex-end;width: 50%;}#sk-container-id-2 div.sk-parallel-item:last-child::after {align-self: flex-start;width: 50%;}#sk-container-id-2 div.sk-parallel-item:only-child::after {width: 0;}#sk-container-id-2 div.sk-dashed-wrapped {border: 1px dashed gray;margin: 0 0.4em 0.5em 0.4em;box-sizing: border-box;padding-bottom: 0.4em;background-color: white;}#sk-container-id-2 div.sk-label label {font-family: monospace;font-weight: bold;display: inline-block;line-height: 1.2em;}#sk-container-id-2 div.sk-label-container {text-align: center;}#sk-container-id-2 div.sk-container {/* jupyter's `normalize.less` sets `[hidden] { display: none; }` but bootstrap.min.css set `[hidden] { display: none !important; }` so we also need the `!important` here to be able to override the default hidden behavior on the sphinx rendered scikit-learn.org. See: https://github.com/scikit-learn/scikit-learn/issues/21755 */display: inline-block !important;position: relative;}#sk-container-id-2 div.sk-text-repr-fallback {display: none;}</style><div id=\"sk-container-id-2\" class=\"sk-top-container\"><div class=\"sk-text-repr-fallback\"><pre>DecisionTreeClassifier(max_depth=5)</pre><b>In a Jupyter environment, please rerun this cell to show the HTML representation or trust the notebook. <br />On GitHub, the HTML representation is unable to render, please try loading this page with nbviewer.org.</b></div><div class=\"sk-container\" hidden><div class=\"sk-item\"><div class=\"sk-estimator sk-toggleable\"><input class=\"sk-toggleable__control sk-hidden--visually\" id=\"sk-estimator-id-2\" type=\"checkbox\" checked><label for=\"sk-estimator-id-2\" class=\"sk-toggleable__label sk-toggleable__label-arrow\">DecisionTreeClassifier</label><div class=\"sk-toggleable__content\"><pre>DecisionTreeClassifier(max_depth=5)</pre></div></div></div></div></div>"
      ],
      "text/plain": [
       "DecisionTreeClassifier(max_depth=5)"
      ]
     },
     "execution_count": 12,
     "metadata": {},
     "output_type": "execute_result"
    }
   ],
   "source": [
    "model = tree.DecisionTreeClassifier(max_depth=5)\n",
    "model.fit(df_cut[['Hair length', 'Shoe size']].values.reshape(-1, 2), y = df_cut['Sex'].values)"
   ]
  },
  {
   "cell_type": "code",
   "execution_count": 13,
   "id": "3e1d3dac",
   "metadata": {},
   "outputs": [
    {
     "data": {
      "image/svg+xml": [
       "<?xml version=\"1.0\" encoding=\"UTF-8\" standalone=\"no\"?>\n",
       "<!DOCTYPE svg PUBLIC \"-//W3C//DTD SVG 1.1//EN\"\n",
       " \"http://www.w3.org/Graphics/SVG/1.1/DTD/svg11.dtd\">\n",
       "<!-- Generated by graphviz version 2.50.0 (0)\n",
       " -->\n",
       "<!-- Title: Tree Pages: 1 -->\n",
       "<svg width=\"705pt\" height=\"671pt\"\n",
       " viewBox=\"0.00 0.00 704.50 671.00\" xmlns=\"http://www.w3.org/2000/svg\" xmlns:xlink=\"http://www.w3.org/1999/xlink\">\n",
       "<g id=\"graph0\" class=\"graph\" transform=\"scale(1 1) rotate(0) translate(4 667)\">\n",
       "<title>Tree</title>\n",
       "<polygon fill=\"white\" stroke=\"transparent\" points=\"-4,4 -4,-667 700.5,-667 700.5,4 -4,4\"/>\n",
       "<!-- 0 -->\n",
       "<g id=\"node1\" class=\"node\">\n",
       "<title>0</title>\n",
       "<path fill=\"#f3c6a6\" stroke=\"black\" d=\"M474,-663C474,-663 381,-663 381,-663 375,-663 369,-657 369,-651 369,-651 369,-592 369,-592 369,-586 375,-580 381,-580 381,-580 474,-580 474,-580 480,-580 486,-586 486,-592 486,-592 486,-651 486,-651 486,-657 480,-663 474,-663\"/>\n",
       "<text text-anchor=\"start\" x=\"377\" y=\"-647.8\" font-family=\"Helvetica,sans-Serif\" font-size=\"14.00\">Shoe size ≤ 41.5</text>\n",
       "<text text-anchor=\"start\" x=\"392\" y=\"-632.8\" font-family=\"Helvetica,sans-Serif\" font-size=\"14.00\">gini = 0.458</text>\n",
       "<text text-anchor=\"start\" x=\"382.5\" y=\"-617.8\" font-family=\"Helvetica,sans-Serif\" font-size=\"14.00\">samples = 186</text>\n",
       "<text text-anchor=\"start\" x=\"377\" y=\"-602.8\" font-family=\"Helvetica,sans-Serif\" font-size=\"14.00\">value = [120, 66]</text>\n",
       "<text text-anchor=\"start\" x=\"402\" y=\"-587.8\" font-family=\"Helvetica,sans-Serif\" font-size=\"14.00\">class = f</text>\n",
       "</g>\n",
       "<!-- 1 -->\n",
       "<g id=\"node2\" class=\"node\">\n",
       "<title>1</title>\n",
       "<path fill=\"#e88f4e\" stroke=\"black\" d=\"M410,-544C410,-544 317,-544 317,-544 311,-544 305,-538 305,-532 305,-532 305,-473 305,-473 305,-467 311,-461 317,-461 317,-461 410,-461 410,-461 416,-461 422,-467 422,-473 422,-473 422,-532 422,-532 422,-538 416,-544 410,-544\"/>\n",
       "<text text-anchor=\"start\" x=\"313.5\" y=\"-528.8\" font-family=\"Helvetica,sans-Serif\" font-size=\"14.00\">Hair length ≤ 8.5</text>\n",
       "<text text-anchor=\"start\" x=\"328\" y=\"-513.8\" font-family=\"Helvetica,sans-Serif\" font-size=\"14.00\">gini = 0.176</text>\n",
       "<text text-anchor=\"start\" x=\"318.5\" y=\"-498.8\" font-family=\"Helvetica,sans-Serif\" font-size=\"14.00\">samples = 133</text>\n",
       "<text text-anchor=\"start\" x=\"313\" y=\"-483.8\" font-family=\"Helvetica,sans-Serif\" font-size=\"14.00\">value = [120, 13]</text>\n",
       "<text text-anchor=\"start\" x=\"338\" y=\"-468.8\" font-family=\"Helvetica,sans-Serif\" font-size=\"14.00\">class = f</text>\n",
       "</g>\n",
       "<!-- 0&#45;&gt;1 -->\n",
       "<g id=\"edge1\" class=\"edge\">\n",
       "<title>0&#45;&gt;1</title>\n",
       "<path fill=\"none\" stroke=\"black\" d=\"M405.3,-579.91C400.53,-571.2 395.44,-561.9 390.52,-552.89\"/>\n",
       "<polygon fill=\"black\" stroke=\"black\" points=\"393.53,-551.11 385.67,-544.02 387.39,-554.47 393.53,-551.11\"/>\n",
       "<text text-anchor=\"middle\" x=\"378.64\" y=\"-564.31\" font-family=\"Helvetica,sans-Serif\" font-size=\"14.00\">True</text>\n",
       "</g>\n",
       "<!-- 16 -->\n",
       "<g id=\"node17\" class=\"node\">\n",
       "<title>16</title>\n",
       "<path fill=\"#399de5\" stroke=\"black\" d=\"M530.5,-536.5C530.5,-536.5 452.5,-536.5 452.5,-536.5 446.5,-536.5 440.5,-530.5 440.5,-524.5 440.5,-524.5 440.5,-480.5 440.5,-480.5 440.5,-474.5 446.5,-468.5 452.5,-468.5 452.5,-468.5 530.5,-468.5 530.5,-468.5 536.5,-468.5 542.5,-474.5 542.5,-480.5 542.5,-480.5 542.5,-524.5 542.5,-524.5 542.5,-530.5 536.5,-536.5 530.5,-536.5\"/>\n",
       "<text text-anchor=\"start\" x=\"463.5\" y=\"-521.3\" font-family=\"Helvetica,sans-Serif\" font-size=\"14.00\">gini = 0.0</text>\n",
       "<text text-anchor=\"start\" x=\"450.5\" y=\"-506.3\" font-family=\"Helvetica,sans-Serif\" font-size=\"14.00\">samples = 53</text>\n",
       "<text text-anchor=\"start\" x=\"448.5\" y=\"-491.3\" font-family=\"Helvetica,sans-Serif\" font-size=\"14.00\">value = [0, 53]</text>\n",
       "<text text-anchor=\"start\" x=\"462\" y=\"-476.3\" font-family=\"Helvetica,sans-Serif\" font-size=\"14.00\">class = m</text>\n",
       "</g>\n",
       "<!-- 0&#45;&gt;16 -->\n",
       "<g id=\"edge16\" class=\"edge\">\n",
       "<title>0&#45;&gt;16</title>\n",
       "<path fill=\"none\" stroke=\"black\" d=\"M449.7,-579.91C455.74,-568.87 462.29,-556.9 468.38,-545.77\"/>\n",
       "<polygon fill=\"black\" stroke=\"black\" points=\"471.63,-547.12 473.36,-536.67 465.49,-543.76 471.63,-547.12\"/>\n",
       "<text text-anchor=\"middle\" x=\"480.38\" y=\"-556.96\" font-family=\"Helvetica,sans-Serif\" font-size=\"14.00\">False</text>\n",
       "</g>\n",
       "<!-- 2 -->\n",
       "<g id=\"node3\" class=\"node\">\n",
       "<title>2</title>\n",
       "<path fill=\"#399de5\" stroke=\"black\" d=\"M337,-417.5C337,-417.5 266,-417.5 266,-417.5 260,-417.5 254,-411.5 254,-405.5 254,-405.5 254,-361.5 254,-361.5 254,-355.5 260,-349.5 266,-349.5 266,-349.5 337,-349.5 337,-349.5 343,-349.5 349,-355.5 349,-361.5 349,-361.5 349,-405.5 349,-405.5 349,-411.5 343,-417.5 337,-417.5\"/>\n",
       "<text text-anchor=\"start\" x=\"273.5\" y=\"-402.3\" font-family=\"Helvetica,sans-Serif\" font-size=\"14.00\">gini = 0.0</text>\n",
       "<text text-anchor=\"start\" x=\"264\" y=\"-387.3\" font-family=\"Helvetica,sans-Serif\" font-size=\"14.00\">samples = 6</text>\n",
       "<text text-anchor=\"start\" x=\"262\" y=\"-372.3\" font-family=\"Helvetica,sans-Serif\" font-size=\"14.00\">value = [0, 6]</text>\n",
       "<text text-anchor=\"start\" x=\"272\" y=\"-357.3\" font-family=\"Helvetica,sans-Serif\" font-size=\"14.00\">class = m</text>\n",
       "</g>\n",
       "<!-- 1&#45;&gt;2 -->\n",
       "<g id=\"edge2\" class=\"edge\">\n",
       "<title>1&#45;&gt;2</title>\n",
       "<path fill=\"none\" stroke=\"black\" d=\"M341.99,-460.91C336.14,-449.87 329.8,-437.9 323.9,-426.77\"/>\n",
       "<polygon fill=\"black\" stroke=\"black\" points=\"326.85,-424.86 319.08,-417.67 320.67,-428.14 326.85,-424.86\"/>\n",
       "</g>\n",
       "<!-- 3 -->\n",
       "<g id=\"node4\" class=\"node\">\n",
       "<title>3</title>\n",
       "<path fill=\"#e78845\" stroke=\"black\" d=\"M472,-425C472,-425 379,-425 379,-425 373,-425 367,-419 367,-413 367,-413 367,-354 367,-354 367,-348 373,-342 379,-342 379,-342 472,-342 472,-342 478,-342 484,-348 484,-354 484,-354 484,-413 484,-413 484,-419 478,-425 472,-425\"/>\n",
       "<text text-anchor=\"start\" x=\"375\" y=\"-409.8\" font-family=\"Helvetica,sans-Serif\" font-size=\"14.00\">Shoe size ≤ 39.5</text>\n",
       "<text text-anchor=\"start\" x=\"390\" y=\"-394.8\" font-family=\"Helvetica,sans-Serif\" font-size=\"14.00\">gini = 0.104</text>\n",
       "<text text-anchor=\"start\" x=\"380.5\" y=\"-379.8\" font-family=\"Helvetica,sans-Serif\" font-size=\"14.00\">samples = 127</text>\n",
       "<text text-anchor=\"start\" x=\"378.5\" y=\"-364.8\" font-family=\"Helvetica,sans-Serif\" font-size=\"14.00\">value = [120, 7]</text>\n",
       "<text text-anchor=\"start\" x=\"400\" y=\"-349.8\" font-family=\"Helvetica,sans-Serif\" font-size=\"14.00\">class = f</text>\n",
       "</g>\n",
       "<!-- 1&#45;&gt;3 -->\n",
       "<g id=\"edge3\" class=\"edge\">\n",
       "<title>1&#45;&gt;3</title>\n",
       "<path fill=\"none\" stroke=\"black\" d=\"M385.01,-460.91C389.63,-452.2 394.55,-442.9 399.33,-433.89\"/>\n",
       "<polygon fill=\"black\" stroke=\"black\" points=\"402.44,-435.5 404.03,-425.02 396.25,-432.22 402.44,-435.5\"/>\n",
       "</g>\n",
       "<!-- 4 -->\n",
       "<g id=\"node5\" class=\"node\">\n",
       "<title>4</title>\n",
       "<path fill=\"#e6843d\" stroke=\"black\" d=\"M384,-306C384,-306 291,-306 291,-306 285,-306 279,-300 279,-294 279,-294 279,-235 279,-235 279,-229 285,-223 291,-223 291,-223 384,-223 384,-223 390,-223 396,-229 396,-235 396,-235 396,-294 396,-294 396,-300 390,-306 384,-306\"/>\n",
       "<text text-anchor=\"start\" x=\"287\" y=\"-290.8\" font-family=\"Helvetica,sans-Serif\" font-size=\"14.00\">Shoe size ≤ 35.5</text>\n",
       "<text text-anchor=\"start\" x=\"302\" y=\"-275.8\" font-family=\"Helvetica,sans-Serif\" font-size=\"14.00\">gini = 0.039</text>\n",
       "<text text-anchor=\"start\" x=\"292.5\" y=\"-260.8\" font-family=\"Helvetica,sans-Serif\" font-size=\"14.00\">samples = 101</text>\n",
       "<text text-anchor=\"start\" x=\"294.5\" y=\"-245.8\" font-family=\"Helvetica,sans-Serif\" font-size=\"14.00\">value = [99, 2]</text>\n",
       "<text text-anchor=\"start\" x=\"312\" y=\"-230.8\" font-family=\"Helvetica,sans-Serif\" font-size=\"14.00\">class = f</text>\n",
       "</g>\n",
       "<!-- 3&#45;&gt;4 -->\n",
       "<g id=\"edge4\" class=\"edge\">\n",
       "<title>3&#45;&gt;4</title>\n",
       "<path fill=\"none\" stroke=\"black\" d=\"M394.97,-341.91C388.21,-332.92 380.98,-323.32 374.02,-314.05\"/>\n",
       "<polygon fill=\"black\" stroke=\"black\" points=\"376.79,-311.91 367.98,-306.02 371.19,-316.12 376.79,-311.91\"/>\n",
       "</g>\n",
       "<!-- 11 -->\n",
       "<g id=\"node12\" class=\"node\">\n",
       "<title>11</title>\n",
       "<path fill=\"#eb9f68\" stroke=\"black\" d=\"M564,-306C564,-306 465,-306 465,-306 459,-306 453,-300 453,-294 453,-294 453,-235 453,-235 453,-229 459,-223 465,-223 465,-223 564,-223 564,-223 570,-223 576,-229 576,-235 576,-235 576,-294 576,-294 576,-300 570,-306 564,-306\"/>\n",
       "<text text-anchor=\"start\" x=\"461\" y=\"-290.8\" font-family=\"Helvetica,sans-Serif\" font-size=\"14.00\">Hair length ≤ 33.5</text>\n",
       "<text text-anchor=\"start\" x=\"479.5\" y=\"-275.8\" font-family=\"Helvetica,sans-Serif\" font-size=\"14.00\">gini = 0.311</text>\n",
       "<text text-anchor=\"start\" x=\"473.5\" y=\"-260.8\" font-family=\"Helvetica,sans-Serif\" font-size=\"14.00\">samples = 26</text>\n",
       "<text text-anchor=\"start\" x=\"471.5\" y=\"-245.8\" font-family=\"Helvetica,sans-Serif\" font-size=\"14.00\">value = [21, 5]</text>\n",
       "<text text-anchor=\"start\" x=\"489\" y=\"-230.8\" font-family=\"Helvetica,sans-Serif\" font-size=\"14.00\">class = f</text>\n",
       "</g>\n",
       "<!-- 3&#45;&gt;11 -->\n",
       "<g id=\"edge11\" class=\"edge\">\n",
       "<title>3&#45;&gt;11</title>\n",
       "<path fill=\"none\" stroke=\"black\" d=\"M456.38,-341.91C463.21,-332.92 470.52,-323.32 477.57,-314.05\"/>\n",
       "<polygon fill=\"black\" stroke=\"black\" points=\"480.41,-316.1 483.68,-306.02 474.84,-311.86 480.41,-316.1\"/>\n",
       "</g>\n",
       "<!-- 5 -->\n",
       "<g id=\"node6\" class=\"node\">\n",
       "<title>5</title>\n",
       "<path fill=\"#e99355\" stroke=\"black\" d=\"M210,-187C210,-187 111,-187 111,-187 105,-187 99,-181 99,-175 99,-175 99,-116 99,-116 99,-110 105,-104 111,-104 111,-104 210,-104 210,-104 216,-104 222,-110 222,-116 222,-116 222,-175 222,-175 222,-181 216,-187 210,-187\"/>\n",
       "<text text-anchor=\"start\" x=\"107\" y=\"-171.8\" font-family=\"Helvetica,sans-Serif\" font-size=\"14.00\">Hair length ≤ 52.5</text>\n",
       "<text text-anchor=\"start\" x=\"125\" y=\"-156.8\" font-family=\"Helvetica,sans-Serif\" font-size=\"14.00\">gini = 0.219</text>\n",
       "<text text-anchor=\"start\" x=\"123\" y=\"-141.8\" font-family=\"Helvetica,sans-Serif\" font-size=\"14.00\">samples = 8</text>\n",
       "<text text-anchor=\"start\" x=\"121\" y=\"-126.8\" font-family=\"Helvetica,sans-Serif\" font-size=\"14.00\">value = [7, 1]</text>\n",
       "<text text-anchor=\"start\" x=\"135\" y=\"-111.8\" font-family=\"Helvetica,sans-Serif\" font-size=\"14.00\">class = f</text>\n",
       "</g>\n",
       "<!-- 4&#45;&gt;5 -->\n",
       "<g id=\"edge5\" class=\"edge\">\n",
       "<title>4&#45;&gt;5</title>\n",
       "<path fill=\"none\" stroke=\"black\" d=\"M278.56,-224.54C263.2,-214.39 246.5,-203.35 230.63,-192.86\"/>\n",
       "<polygon fill=\"black\" stroke=\"black\" points=\"232.18,-189.69 221.91,-187.09 228.32,-195.53 232.18,-189.69\"/>\n",
       "</g>\n",
       "<!-- 8 -->\n",
       "<g id=\"node9\" class=\"node\">\n",
       "<title>8</title>\n",
       "<path fill=\"#e5823b\" stroke=\"black\" d=\"M387,-187C387,-187 288,-187 288,-187 282,-187 276,-181 276,-175 276,-175 276,-116 276,-116 276,-110 282,-104 288,-104 288,-104 387,-104 387,-104 393,-104 399,-110 399,-116 399,-116 399,-175 399,-175 399,-181 393,-187 387,-187\"/>\n",
       "<text text-anchor=\"start\" x=\"284\" y=\"-171.8\" font-family=\"Helvetica,sans-Serif\" font-size=\"14.00\">Hair length ≤ 36.0</text>\n",
       "<text text-anchor=\"start\" x=\"302\" y=\"-156.8\" font-family=\"Helvetica,sans-Serif\" font-size=\"14.00\">gini = 0.021</text>\n",
       "<text text-anchor=\"start\" x=\"296.5\" y=\"-141.8\" font-family=\"Helvetica,sans-Serif\" font-size=\"14.00\">samples = 93</text>\n",
       "<text text-anchor=\"start\" x=\"294.5\" y=\"-126.8\" font-family=\"Helvetica,sans-Serif\" font-size=\"14.00\">value = [92, 1]</text>\n",
       "<text text-anchor=\"start\" x=\"312\" y=\"-111.8\" font-family=\"Helvetica,sans-Serif\" font-size=\"14.00\">class = f</text>\n",
       "</g>\n",
       "<!-- 4&#45;&gt;8 -->\n",
       "<g id=\"edge8\" class=\"edge\">\n",
       "<title>4&#45;&gt;8</title>\n",
       "<path fill=\"none\" stroke=\"black\" d=\"M337.5,-222.91C337.5,-214.65 337.5,-205.86 337.5,-197.3\"/>\n",
       "<polygon fill=\"black\" stroke=\"black\" points=\"341,-197.02 337.5,-187.02 334,-197.02 341,-197.02\"/>\n",
       "</g>\n",
       "<!-- 6 -->\n",
       "<g id=\"node7\" class=\"node\">\n",
       "<title>6</title>\n",
       "<path fill=\"#e58139\" stroke=\"black\" d=\"M83,-68C83,-68 12,-68 12,-68 6,-68 0,-62 0,-56 0,-56 0,-12 0,-12 0,-6 6,0 12,0 12,0 83,0 83,0 89,0 95,-6 95,-12 95,-12 95,-56 95,-56 95,-62 89,-68 83,-68\"/>\n",
       "<text text-anchor=\"start\" x=\"19.5\" y=\"-52.8\" font-family=\"Helvetica,sans-Serif\" font-size=\"14.00\">gini = 0.0</text>\n",
       "<text text-anchor=\"start\" x=\"10\" y=\"-37.8\" font-family=\"Helvetica,sans-Serif\" font-size=\"14.00\">samples = 4</text>\n",
       "<text text-anchor=\"start\" x=\"8\" y=\"-22.8\" font-family=\"Helvetica,sans-Serif\" font-size=\"14.00\">value = [4, 0]</text>\n",
       "<text text-anchor=\"start\" x=\"22\" y=\"-7.8\" font-family=\"Helvetica,sans-Serif\" font-size=\"14.00\">class = f</text>\n",
       "</g>\n",
       "<!-- 5&#45;&gt;6 -->\n",
       "<g id=\"edge6\" class=\"edge\">\n",
       "<title>5&#45;&gt;6</title>\n",
       "<path fill=\"none\" stroke=\"black\" d=\"M118.42,-103.73C108.82,-94.42 98.63,-84.54 89.05,-75.26\"/>\n",
       "<polygon fill=\"black\" stroke=\"black\" points=\"91.48,-72.75 81.86,-68.3 86.61,-77.77 91.48,-72.75\"/>\n",
       "</g>\n",
       "<!-- 7 -->\n",
       "<g id=\"node8\" class=\"node\">\n",
       "<title>7</title>\n",
       "<path fill=\"#eeab7b\" stroke=\"black\" d=\"M196,-68C196,-68 125,-68 125,-68 119,-68 113,-62 113,-56 113,-56 113,-12 113,-12 113,-6 119,0 125,0 125,0 196,0 196,0 202,0 208,-6 208,-12 208,-12 208,-56 208,-56 208,-62 202,-68 196,-68\"/>\n",
       "<text text-anchor=\"start\" x=\"125\" y=\"-52.8\" font-family=\"Helvetica,sans-Serif\" font-size=\"14.00\">gini = 0.375</text>\n",
       "<text text-anchor=\"start\" x=\"123\" y=\"-37.8\" font-family=\"Helvetica,sans-Serif\" font-size=\"14.00\">samples = 4</text>\n",
       "<text text-anchor=\"start\" x=\"121\" y=\"-22.8\" font-family=\"Helvetica,sans-Serif\" font-size=\"14.00\">value = [3, 1]</text>\n",
       "<text text-anchor=\"start\" x=\"135\" y=\"-7.8\" font-family=\"Helvetica,sans-Serif\" font-size=\"14.00\">class = f</text>\n",
       "</g>\n",
       "<!-- 5&#45;&gt;7 -->\n",
       "<g id=\"edge7\" class=\"edge\">\n",
       "<title>5&#45;&gt;7</title>\n",
       "<path fill=\"none\" stroke=\"black\" d=\"M160.5,-103.73C160.5,-95.52 160.5,-86.86 160.5,-78.56\"/>\n",
       "<polygon fill=\"black\" stroke=\"black\" points=\"164,-78.3 160.5,-68.3 157,-78.3 164,-78.3\"/>\n",
       "</g>\n",
       "<!-- 9 -->\n",
       "<g id=\"node10\" class=\"node\">\n",
       "<title>9</title>\n",
       "<path fill=\"#e68640\" stroke=\"black\" d=\"M316.5,-68C316.5,-68 238.5,-68 238.5,-68 232.5,-68 226.5,-62 226.5,-56 226.5,-56 226.5,-12 226.5,-12 226.5,-6 232.5,0 238.5,0 238.5,0 316.5,0 316.5,0 322.5,0 328.5,-6 328.5,-12 328.5,-12 328.5,-56 328.5,-56 328.5,-62 322.5,-68 316.5,-68\"/>\n",
       "<text text-anchor=\"start\" x=\"242\" y=\"-52.8\" font-family=\"Helvetica,sans-Serif\" font-size=\"14.00\">gini = 0.067</text>\n",
       "<text text-anchor=\"start\" x=\"236.5\" y=\"-37.8\" font-family=\"Helvetica,sans-Serif\" font-size=\"14.00\">samples = 29</text>\n",
       "<text text-anchor=\"start\" x=\"234.5\" y=\"-22.8\" font-family=\"Helvetica,sans-Serif\" font-size=\"14.00\">value = [28, 1]</text>\n",
       "<text text-anchor=\"start\" x=\"252\" y=\"-7.8\" font-family=\"Helvetica,sans-Serif\" font-size=\"14.00\">class = f</text>\n",
       "</g>\n",
       "<!-- 8&#45;&gt;9 -->\n",
       "<g id=\"edge9\" class=\"edge\">\n",
       "<title>8&#45;&gt;9</title>\n",
       "<path fill=\"none\" stroke=\"black\" d=\"M315.16,-103.73C310.41,-95.06 305.39,-85.9 300.61,-77.18\"/>\n",
       "<polygon fill=\"black\" stroke=\"black\" points=\"303.62,-75.39 295.75,-68.3 297.48,-78.75 303.62,-75.39\"/>\n",
       "</g>\n",
       "<!-- 10 -->\n",
       "<g id=\"node11\" class=\"node\">\n",
       "<title>10</title>\n",
       "<path fill=\"#e58139\" stroke=\"black\" d=\"M436.5,-68C436.5,-68 358.5,-68 358.5,-68 352.5,-68 346.5,-62 346.5,-56 346.5,-56 346.5,-12 346.5,-12 346.5,-6 352.5,0 358.5,0 358.5,0 436.5,0 436.5,0 442.5,0 448.5,-6 448.5,-12 448.5,-12 448.5,-56 448.5,-56 448.5,-62 442.5,-68 436.5,-68\"/>\n",
       "<text text-anchor=\"start\" x=\"369.5\" y=\"-52.8\" font-family=\"Helvetica,sans-Serif\" font-size=\"14.00\">gini = 0.0</text>\n",
       "<text text-anchor=\"start\" x=\"356.5\" y=\"-37.8\" font-family=\"Helvetica,sans-Serif\" font-size=\"14.00\">samples = 64</text>\n",
       "<text text-anchor=\"start\" x=\"354.5\" y=\"-22.8\" font-family=\"Helvetica,sans-Serif\" font-size=\"14.00\">value = [64, 0]</text>\n",
       "<text text-anchor=\"start\" x=\"372\" y=\"-7.8\" font-family=\"Helvetica,sans-Serif\" font-size=\"14.00\">class = f</text>\n",
       "</g>\n",
       "<!-- 8&#45;&gt;10 -->\n",
       "<g id=\"edge10\" class=\"edge\">\n",
       "<title>8&#45;&gt;10</title>\n",
       "<path fill=\"none\" stroke=\"black\" d=\"M359.84,-103.73C364.59,-95.06 369.61,-85.9 374.39,-77.18\"/>\n",
       "<polygon fill=\"black\" stroke=\"black\" points=\"377.52,-78.75 379.25,-68.3 371.38,-75.39 377.52,-78.75\"/>\n",
       "</g>\n",
       "<!-- 12 -->\n",
       "<g id=\"node13\" class=\"node\">\n",
       "<title>12</title>\n",
       "<path fill=\"#fbeade\" stroke=\"black\" d=\"M564,-187C564,-187 465,-187 465,-187 459,-187 453,-181 453,-175 453,-175 453,-116 453,-116 453,-110 459,-104 465,-104 465,-104 564,-104 564,-104 570,-104 576,-110 576,-116 576,-116 576,-175 576,-175 576,-181 570,-187 564,-187\"/>\n",
       "<text text-anchor=\"start\" x=\"461\" y=\"-171.8\" font-family=\"Helvetica,sans-Serif\" font-size=\"14.00\">Hair length ≤ 12.5</text>\n",
       "<text text-anchor=\"start\" x=\"479\" y=\"-156.8\" font-family=\"Helvetica,sans-Serif\" font-size=\"14.00\">gini = 0.496</text>\n",
       "<text text-anchor=\"start\" x=\"473.5\" y=\"-141.8\" font-family=\"Helvetica,sans-Serif\" font-size=\"14.00\">samples = 11</text>\n",
       "<text text-anchor=\"start\" x=\"475\" y=\"-126.8\" font-family=\"Helvetica,sans-Serif\" font-size=\"14.00\">value = [6, 5]</text>\n",
       "<text text-anchor=\"start\" x=\"489\" y=\"-111.8\" font-family=\"Helvetica,sans-Serif\" font-size=\"14.00\">class = f</text>\n",
       "</g>\n",
       "<!-- 11&#45;&gt;12 -->\n",
       "<g id=\"edge12\" class=\"edge\">\n",
       "<title>11&#45;&gt;12</title>\n",
       "<path fill=\"none\" stroke=\"black\" d=\"M514.5,-222.91C514.5,-214.65 514.5,-205.86 514.5,-197.3\"/>\n",
       "<polygon fill=\"black\" stroke=\"black\" points=\"518,-197.02 514.5,-187.02 511,-197.02 518,-197.02\"/>\n",
       "</g>\n",
       "<!-- 15 -->\n",
       "<g id=\"node16\" class=\"node\">\n",
       "<title>15</title>\n",
       "<path fill=\"#e58139\" stroke=\"black\" d=\"M684.5,-179.5C684.5,-179.5 606.5,-179.5 606.5,-179.5 600.5,-179.5 594.5,-173.5 594.5,-167.5 594.5,-167.5 594.5,-123.5 594.5,-123.5 594.5,-117.5 600.5,-111.5 606.5,-111.5 606.5,-111.5 684.5,-111.5 684.5,-111.5 690.5,-111.5 696.5,-117.5 696.5,-123.5 696.5,-123.5 696.5,-167.5 696.5,-167.5 696.5,-173.5 690.5,-179.5 684.5,-179.5\"/>\n",
       "<text text-anchor=\"start\" x=\"617.5\" y=\"-164.3\" font-family=\"Helvetica,sans-Serif\" font-size=\"14.00\">gini = 0.0</text>\n",
       "<text text-anchor=\"start\" x=\"604.5\" y=\"-149.3\" font-family=\"Helvetica,sans-Serif\" font-size=\"14.00\">samples = 15</text>\n",
       "<text text-anchor=\"start\" x=\"602.5\" y=\"-134.3\" font-family=\"Helvetica,sans-Serif\" font-size=\"14.00\">value = [15, 0]</text>\n",
       "<text text-anchor=\"start\" x=\"620\" y=\"-119.3\" font-family=\"Helvetica,sans-Serif\" font-size=\"14.00\">class = f</text>\n",
       "</g>\n",
       "<!-- 11&#45;&gt;15 -->\n",
       "<g id=\"edge15\" class=\"edge\">\n",
       "<title>11&#45;&gt;15</title>\n",
       "<path fill=\"none\" stroke=\"black\" d=\"M559.95,-222.91C573.17,-211.1 587.6,-198.22 600.77,-186.45\"/>\n",
       "<polygon fill=\"black\" stroke=\"black\" points=\"603.24,-188.94 608.36,-179.67 598.57,-183.72 603.24,-188.94\"/>\n",
       "</g>\n",
       "<!-- 13 -->\n",
       "<g id=\"node14\" class=\"node\">\n",
       "<title>13</title>\n",
       "<path fill=\"#399de5\" stroke=\"black\" d=\"M550,-68C550,-68 479,-68 479,-68 473,-68 467,-62 467,-56 467,-56 467,-12 467,-12 467,-6 473,0 479,0 479,0 550,0 550,0 556,0 562,-6 562,-12 562,-12 562,-56 562,-56 562,-62 556,-68 550,-68\"/>\n",
       "<text text-anchor=\"start\" x=\"486.5\" y=\"-52.8\" font-family=\"Helvetica,sans-Serif\" font-size=\"14.00\">gini = 0.0</text>\n",
       "<text text-anchor=\"start\" x=\"477\" y=\"-37.8\" font-family=\"Helvetica,sans-Serif\" font-size=\"14.00\">samples = 1</text>\n",
       "<text text-anchor=\"start\" x=\"475\" y=\"-22.8\" font-family=\"Helvetica,sans-Serif\" font-size=\"14.00\">value = [0, 1]</text>\n",
       "<text text-anchor=\"start\" x=\"485\" y=\"-7.8\" font-family=\"Helvetica,sans-Serif\" font-size=\"14.00\">class = m</text>\n",
       "</g>\n",
       "<!-- 12&#45;&gt;13 -->\n",
       "<g id=\"edge13\" class=\"edge\">\n",
       "<title>12&#45;&gt;13</title>\n",
       "<path fill=\"none\" stroke=\"black\" d=\"M514.5,-103.73C514.5,-95.52 514.5,-86.86 514.5,-78.56\"/>\n",
       "<polygon fill=\"black\" stroke=\"black\" points=\"518,-78.3 514.5,-68.3 511,-78.3 518,-78.3\"/>\n",
       "</g>\n",
       "<!-- 14 -->\n",
       "<g id=\"node15\" class=\"node\">\n",
       "<title>14</title>\n",
       "<path fill=\"#f6d5bd\" stroke=\"black\" d=\"M666.5,-68C666.5,-68 592.5,-68 592.5,-68 586.5,-68 580.5,-62 580.5,-56 580.5,-56 580.5,-12 580.5,-12 580.5,-6 586.5,0 592.5,0 592.5,0 666.5,0 666.5,0 672.5,0 678.5,-6 678.5,-12 678.5,-12 678.5,-56 678.5,-56 678.5,-62 672.5,-68 666.5,-68\"/>\n",
       "<text text-anchor=\"start\" x=\"597.5\" y=\"-52.8\" font-family=\"Helvetica,sans-Serif\" font-size=\"14.00\">gini = 0.48</text>\n",
       "<text text-anchor=\"start\" x=\"588.5\" y=\"-37.8\" font-family=\"Helvetica,sans-Serif\" font-size=\"14.00\">samples = 10</text>\n",
       "<text text-anchor=\"start\" x=\"590\" y=\"-22.8\" font-family=\"Helvetica,sans-Serif\" font-size=\"14.00\">value = [6, 4]</text>\n",
       "<text text-anchor=\"start\" x=\"604\" y=\"-7.8\" font-family=\"Helvetica,sans-Serif\" font-size=\"14.00\">class = f</text>\n",
       "</g>\n",
       "<!-- 12&#45;&gt;14 -->\n",
       "<g id=\"edge14\" class=\"edge\">\n",
       "<title>12&#45;&gt;14</title>\n",
       "<path fill=\"none\" stroke=\"black\" d=\"M557.32,-103.73C567.09,-94.42 577.47,-84.54 587.22,-75.26\"/>\n",
       "<polygon fill=\"black\" stroke=\"black\" points=\"589.7,-77.73 594.53,-68.3 584.87,-72.66 589.7,-77.73\"/>\n",
       "</g>\n",
       "</g>\n",
       "</svg>\n"
      ],
      "text/plain": [
       "<graphviz.sources.Source at 0x1edcb0c8820>"
      ]
     },
     "execution_count": 13,
     "metadata": {},
     "output_type": "execute_result"
    }
   ],
   "source": [
    "import graphviz \n",
    "dot_data = tree.export_graphviz(model, out_file=None, \n",
    "                      feature_names=['Hair length', 'Shoe size'],  \n",
    "                      class_names=['f', 'm'],  \n",
    "                     filled=True, rounded=True,  \n",
    "                      special_characters=True)  \n",
    "graph = graphviz.Source(dot_data)  \n",
    "graph "
   ]
  },
  {
   "cell_type": "code",
   "execution_count": 14,
   "id": "59b6d507",
   "metadata": {},
   "outputs": [],
   "source": [
    "df_test_cut['Predict'] = model.predict(df_test_cut[['Hair length', 'Shoe size']].values.reshape(-1, 2))"
   ]
  },
  {
   "cell_type": "code",
   "execution_count": 15,
   "id": "6d3b941b",
   "metadata": {},
   "outputs": [
    {
     "data": {
      "text/plain": [
       "(array([0.96825397, 0.97142857]),\n",
       " array([0.98387097, 0.94444444]),\n",
       " array([0.976     , 0.95774648]),\n",
       " array([62, 36], dtype=int64))"
      ]
     },
     "execution_count": 15,
     "metadata": {},
     "output_type": "execute_result"
    }
   ],
   "source": [
    "from sklearn.metrics import precision_recall_fscore_support\n",
    "precision_recall_fscore_support(df_test_cut['Sex'], df_test_cut['Predict'])"
   ]
  },
  {
   "cell_type": "markdown",
   "id": "e904898c",
   "metadata": {},
   "source": [
    "2 задание"
   ]
  },
  {
   "cell_type": "code",
   "execution_count": 16,
   "id": "a6790cc2",
   "metadata": {},
   "outputs": [],
   "source": [
    "df_cut = df[['Year of birth', 'Month of birthday', 'Age']]\n",
    "df_test_cut = df_test[['Year of birth', 'Month of birthday', 'Age']]\n",
    "df_cut = df_cut.dropna()\n",
    "df_test_cut = df_test_cut.dropna()"
   ]
  },
  {
   "cell_type": "code",
   "execution_count": 17,
   "id": "78ff16f2",
   "metadata": {},
   "outputs": [
    {
     "data": {
      "text/html": [
       "<style>#sk-container-id-2 {color: black;background-color: white;}#sk-container-id-2 pre{padding: 0;}#sk-container-id-2 div.sk-toggleable {background-color: white;}#sk-container-id-2 label.sk-toggleable__label {cursor: pointer;display: block;width: 100%;margin-bottom: 0;padding: 0.3em;box-sizing: border-box;text-align: center;}#sk-container-id-2 label.sk-toggleable__label-arrow:before {content: \"▸\";float: left;margin-right: 0.25em;color: #696969;}#sk-container-id-2 label.sk-toggleable__label-arrow:hover:before {color: black;}#sk-container-id-2 div.sk-estimator:hover label.sk-toggleable__label-arrow:before {color: black;}#sk-container-id-2 div.sk-toggleable__content {max-height: 0;max-width: 0;overflow: hidden;text-align: left;background-color: #f0f8ff;}#sk-container-id-2 div.sk-toggleable__content pre {margin: 0.2em;color: black;border-radius: 0.25em;background-color: #f0f8ff;}#sk-container-id-2 input.sk-toggleable__control:checked~div.sk-toggleable__content {max-height: 200px;max-width: 100%;overflow: auto;}#sk-container-id-2 input.sk-toggleable__control:checked~label.sk-toggleable__label-arrow:before {content: \"▾\";}#sk-container-id-2 div.sk-estimator input.sk-toggleable__control:checked~label.sk-toggleable__label {background-color: #d4ebff;}#sk-container-id-2 div.sk-label input.sk-toggleable__control:checked~label.sk-toggleable__label {background-color: #d4ebff;}#sk-container-id-2 input.sk-hidden--visually {border: 0;clip: rect(1px 1px 1px 1px);clip: rect(1px, 1px, 1px, 1px);height: 1px;margin: -1px;overflow: hidden;padding: 0;position: absolute;width: 1px;}#sk-container-id-2 div.sk-estimator {font-family: monospace;background-color: #f0f8ff;border: 1px dotted black;border-radius: 0.25em;box-sizing: border-box;margin-bottom: 0.5em;}#sk-container-id-2 div.sk-estimator:hover {background-color: #d4ebff;}#sk-container-id-2 div.sk-parallel-item::after {content: \"\";width: 100%;border-bottom: 1px solid gray;flex-grow: 1;}#sk-container-id-2 div.sk-label:hover label.sk-toggleable__label {background-color: #d4ebff;}#sk-container-id-2 div.sk-serial::before {content: \"\";position: absolute;border-left: 1px solid gray;box-sizing: border-box;top: 0;bottom: 0;left: 50%;z-index: 0;}#sk-container-id-2 div.sk-serial {display: flex;flex-direction: column;align-items: center;background-color: white;padding-right: 0.2em;padding-left: 0.2em;position: relative;}#sk-container-id-2 div.sk-item {position: relative;z-index: 1;}#sk-container-id-2 div.sk-parallel {display: flex;align-items: stretch;justify-content: center;background-color: white;position: relative;}#sk-container-id-2 div.sk-item::before, #sk-container-id-2 div.sk-parallel-item::before {content: \"\";position: absolute;border-left: 1px solid gray;box-sizing: border-box;top: 0;bottom: 0;left: 50%;z-index: -1;}#sk-container-id-2 div.sk-parallel-item {display: flex;flex-direction: column;z-index: 1;position: relative;background-color: white;}#sk-container-id-2 div.sk-parallel-item:first-child::after {align-self: flex-end;width: 50%;}#sk-container-id-2 div.sk-parallel-item:last-child::after {align-self: flex-start;width: 50%;}#sk-container-id-2 div.sk-parallel-item:only-child::after {width: 0;}#sk-container-id-2 div.sk-dashed-wrapped {border: 1px dashed gray;margin: 0 0.4em 0.5em 0.4em;box-sizing: border-box;padding-bottom: 0.4em;background-color: white;}#sk-container-id-2 div.sk-label label {font-family: monospace;font-weight: bold;display: inline-block;line-height: 1.2em;}#sk-container-id-2 div.sk-label-container {text-align: center;}#sk-container-id-2 div.sk-container {/* jupyter's `normalize.less` sets `[hidden] { display: none; }` but bootstrap.min.css set `[hidden] { display: none !important; }` so we also need the `!important` here to be able to override the default hidden behavior on the sphinx rendered scikit-learn.org. See: https://github.com/scikit-learn/scikit-learn/issues/21755 */display: inline-block !important;position: relative;}#sk-container-id-2 div.sk-text-repr-fallback {display: none;}</style><div id=\"sk-container-id-2\" class=\"sk-top-container\"><div class=\"sk-text-repr-fallback\"><pre>DecisionTreeRegressor(max_depth=3)</pre><b>In a Jupyter environment, please rerun this cell to show the HTML representation or trust the notebook. <br />On GitHub, the HTML representation is unable to render, please try loading this page with nbviewer.org.</b></div><div class=\"sk-container\" hidden><div class=\"sk-item\"><div class=\"sk-estimator sk-toggleable\"><input class=\"sk-toggleable__control sk-hidden--visually\" id=\"sk-estimator-id-2\" type=\"checkbox\" checked><label for=\"sk-estimator-id-2\" class=\"sk-toggleable__label sk-toggleable__label-arrow\">DecisionTreeRegressor</label><div class=\"sk-toggleable__content\"><pre>DecisionTreeRegressor(max_depth=3)</pre></div></div></div></div></div>"
      ],
      "text/plain": [
       "DecisionTreeRegressor(max_depth=3)"
      ]
     },
     "execution_count": 17,
     "metadata": {},
     "output_type": "execute_result"
    }
   ],
   "source": [
    "model = tree.DecisionTreeRegressor(max_depth=3)\n",
    "model.fit(df_cut[['Year of birth', 'Month of birthday']].values.reshape(-1, 2), y = df_cut['Age'].values)"
   ]
  },
  {
   "cell_type": "code",
   "execution_count": 18,
   "id": "09934c95",
   "metadata": {},
   "outputs": [
    {
     "data": {
      "image/svg+xml": [
       "<?xml version=\"1.0\" encoding=\"UTF-8\" standalone=\"no\"?>\n",
       "<!DOCTYPE svg PUBLIC \"-//W3C//DTD SVG 1.1//EN\"\n",
       " \"http://www.w3.org/Graphics/SVG/1.1/DTD/svg11.dtd\">\n",
       "<!-- Generated by graphviz version 2.50.0 (0)\n",
       " -->\n",
       "<!-- Title: Tree Pages: 1 -->\n",
       "<svg width=\"1298pt\" height=\"373pt\"\n",
       " viewBox=\"0.00 0.00 1297.50 373.00\" xmlns=\"http://www.w3.org/2000/svg\" xmlns:xlink=\"http://www.w3.org/1999/xlink\">\n",
       "<g id=\"graph0\" class=\"graph\" transform=\"scale(1 1) rotate(0) translate(4 369)\">\n",
       "<title>Tree</title>\n",
       "<polygon fill=\"white\" stroke=\"transparent\" points=\"-4,4 -4,-369 1293.5,-369 1293.5,4 -4,4\"/>\n",
       "<!-- 0 -->\n",
       "<g id=\"node1\" class=\"node\">\n",
       "<title>0</title>\n",
       "<path fill=\"#fdf7f3\" stroke=\"black\" d=\"M686,-365C686,-365 552,-365 552,-365 546,-365 540,-359 540,-353 540,-353 540,-309 540,-309 540,-303 546,-297 552,-297 552,-297 686,-297 686,-297 692,-297 698,-303 698,-309 698,-309 698,-353 698,-353 698,-359 692,-365 686,-365\"/>\n",
       "<text text-anchor=\"start\" x=\"554\" y=\"-349.8\" font-family=\"Helvetica,sans-Serif\" font-size=\"14.00\">Year of birth ≤ 1996.5</text>\n",
       "<text text-anchor=\"start\" x=\"548\" y=\"-334.8\" font-family=\"Helvetica,sans-Serif\" font-size=\"14.00\">squared_error = 11.967</text>\n",
       "<text text-anchor=\"start\" x=\"574\" y=\"-319.8\" font-family=\"Helvetica,sans-Serif\" font-size=\"14.00\">samples = 186</text>\n",
       "<text text-anchor=\"start\" x=\"574\" y=\"-304.8\" font-family=\"Helvetica,sans-Serif\" font-size=\"14.00\">value = 20.688</text>\n",
       "</g>\n",
       "<!-- 1 -->\n",
       "<g id=\"node2\" class=\"node\">\n",
       "<title>1</title>\n",
       "<path fill=\"#f7d7c0\" stroke=\"black\" d=\"M535,-261C535,-261 397,-261 397,-261 391,-261 385,-255 385,-249 385,-249 385,-205 385,-205 385,-199 391,-193 397,-193 397,-193 535,-193 535,-193 541,-193 547,-199 547,-205 547,-205 547,-249 547,-249 547,-255 541,-261 535,-261\"/>\n",
       "<text text-anchor=\"start\" x=\"393\" y=\"-245.8\" font-family=\"Helvetica,sans-Serif\" font-size=\"14.00\">Month of birthday ≤ 11.0</text>\n",
       "<text text-anchor=\"start\" x=\"398.5\" y=\"-230.8\" font-family=\"Helvetica,sans-Serif\" font-size=\"14.00\">squared_error = 80.89</text>\n",
       "<text text-anchor=\"start\" x=\"425\" y=\"-215.8\" font-family=\"Helvetica,sans-Serif\" font-size=\"14.00\">samples = 10</text>\n",
       "<text text-anchor=\"start\" x=\"428.5\" y=\"-200.8\" font-family=\"Helvetica,sans-Serif\" font-size=\"14.00\">value = 30.1</text>\n",
       "</g>\n",
       "<!-- 0&#45;&gt;1 -->\n",
       "<g id=\"edge1\" class=\"edge\">\n",
       "<title>0&#45;&gt;1</title>\n",
       "<path fill=\"none\" stroke=\"black\" d=\"M569.33,-296.88C554.96,-287.3 539.14,-276.76 524.3,-266.86\"/>\n",
       "<polygon fill=\"black\" stroke=\"black\" points=\"525.95,-263.76 515.69,-261.12 522.07,-269.58 525.95,-263.76\"/>\n",
       "<text text-anchor=\"middle\" x=\"520.59\" y=\"-281.94\" font-family=\"Helvetica,sans-Serif\" font-size=\"14.00\">True</text>\n",
       "</g>\n",
       "<!-- 8 -->\n",
       "<g id=\"node9\" class=\"node\">\n",
       "<title>8</title>\n",
       "<path fill=\"#fef9f6\" stroke=\"black\" d=\"M854.5,-261C854.5,-261 727.5,-261 727.5,-261 721.5,-261 715.5,-255 715.5,-249 715.5,-249 715.5,-205 715.5,-205 715.5,-199 721.5,-193 727.5,-193 727.5,-193 854.5,-193 854.5,-193 860.5,-193 866.5,-199 866.5,-205 866.5,-205 866.5,-249 866.5,-249 866.5,-255 860.5,-261 854.5,-261\"/>\n",
       "<text text-anchor=\"start\" x=\"726\" y=\"-245.8\" font-family=\"Helvetica,sans-Serif\" font-size=\"14.00\">Year of birth ≤ 2001.5</text>\n",
       "<text text-anchor=\"start\" x=\"723.5\" y=\"-230.8\" font-family=\"Helvetica,sans-Serif\" font-size=\"14.00\">squared_error = 2.732</text>\n",
       "<text text-anchor=\"start\" x=\"746\" y=\"-215.8\" font-family=\"Helvetica,sans-Serif\" font-size=\"14.00\">samples = 176</text>\n",
       "<text text-anchor=\"start\" x=\"746\" y=\"-200.8\" font-family=\"Helvetica,sans-Serif\" font-size=\"14.00\">value = 20.153</text>\n",
       "</g>\n",
       "<!-- 0&#45;&gt;8 -->\n",
       "<g id=\"edge8\" class=\"edge\">\n",
       "<title>0&#45;&gt;8</title>\n",
       "<path fill=\"none\" stroke=\"black\" d=\"M674.84,-296.88C691.3,-287.12 709.44,-276.37 726.4,-266.31\"/>\n",
       "<polygon fill=\"black\" stroke=\"black\" points=\"728.33,-269.24 735.14,-261.12 724.76,-263.22 728.33,-269.24\"/>\n",
       "<text text-anchor=\"middle\" x=\"728.95\" y=\"-281.65\" font-family=\"Helvetica,sans-Serif\" font-size=\"14.00\">False</text>\n",
       "</g>\n",
       "<!-- 2 -->\n",
       "<g id=\"node3\" class=\"node\">\n",
       "<title>2</title>\n",
       "<path fill=\"#f9e4d4\" stroke=\"black\" d=\"M287.5,-157C287.5,-157 156.5,-157 156.5,-157 150.5,-157 144.5,-151 144.5,-145 144.5,-145 144.5,-101 144.5,-101 144.5,-95 150.5,-89 156.5,-89 156.5,-89 287.5,-89 287.5,-89 293.5,-89 299.5,-95 299.5,-101 299.5,-101 299.5,-145 299.5,-145 299.5,-151 293.5,-157 287.5,-157\"/>\n",
       "<text text-anchor=\"start\" x=\"152.5\" y=\"-141.8\" font-family=\"Helvetica,sans-Serif\" font-size=\"14.00\">Month of birthday ≤ 8.0</text>\n",
       "<text text-anchor=\"start\" x=\"154.5\" y=\"-126.8\" font-family=\"Helvetica,sans-Serif\" font-size=\"14.00\">squared_error = 7.673</text>\n",
       "<text text-anchor=\"start\" x=\"184.5\" y=\"-111.8\" font-family=\"Helvetica,sans-Serif\" font-size=\"14.00\">samples = 7</text>\n",
       "<text text-anchor=\"start\" x=\"177\" y=\"-96.8\" font-family=\"Helvetica,sans-Serif\" font-size=\"14.00\">value = 26.429</text>\n",
       "</g>\n",
       "<!-- 1&#45;&gt;2 -->\n",
       "<g id=\"edge2\" class=\"edge\">\n",
       "<title>1&#45;&gt;2</title>\n",
       "<path fill=\"none\" stroke=\"black\" d=\"M386.78,-192.88C361.87,-182.47 334.23,-170.92 308.83,-160.3\"/>\n",
       "<polygon fill=\"black\" stroke=\"black\" points=\"310.15,-157.06 299.57,-156.43 307.45,-163.51 310.15,-157.06\"/>\n",
       "</g>\n",
       "<!-- 5 -->\n",
       "<g id=\"node6\" class=\"node\">\n",
       "<title>5</title>\n",
       "<path fill=\"#f1b992\" stroke=\"black\" d=\"M537,-157C537,-157 395,-157 395,-157 389,-157 383,-151 383,-145 383,-145 383,-101 383,-101 383,-95 389,-89 395,-89 395,-89 537,-89 537,-89 543,-89 549,-95 549,-101 549,-101 549,-145 549,-145 549,-151 543,-157 537,-157\"/>\n",
       "<text text-anchor=\"start\" x=\"401\" y=\"-141.8\" font-family=\"Helvetica,sans-Serif\" font-size=\"14.00\">Year of birth ≤ 1973.0</text>\n",
       "<text text-anchor=\"start\" x=\"391\" y=\"-126.8\" font-family=\"Helvetica,sans-Serif\" font-size=\"14.00\">squared_error = 146.889</text>\n",
       "<text text-anchor=\"start\" x=\"428.5\" y=\"-111.8\" font-family=\"Helvetica,sans-Serif\" font-size=\"14.00\">samples = 3</text>\n",
       "<text text-anchor=\"start\" x=\"421\" y=\"-96.8\" font-family=\"Helvetica,sans-Serif\" font-size=\"14.00\">value = 38.667</text>\n",
       "</g>\n",
       "<!-- 1&#45;&gt;5 -->\n",
       "<g id=\"edge5\" class=\"edge\">\n",
       "<title>1&#45;&gt;5</title>\n",
       "<path fill=\"none\" stroke=\"black\" d=\"M466,-192.88C466,-184.78 466,-175.98 466,-167.47\"/>\n",
       "<polygon fill=\"black\" stroke=\"black\" points=\"469.5,-167.3 466,-157.3 462.5,-167.3 469.5,-167.3\"/>\n",
       "</g>\n",
       "<!-- 3 -->\n",
       "<g id=\"node4\" class=\"node\">\n",
       "<title>3</title>\n",
       "<path fill=\"#fae8dc\" stroke=\"black\" d=\"M124,-53C124,-53 12,-53 12,-53 6,-53 0,-47 0,-41 0,-41 0,-12 0,-12 0,-6 6,0 12,0 12,0 124,0 124,0 130,0 136,-6 136,-12 136,-12 136,-41 136,-41 136,-47 130,-53 124,-53\"/>\n",
       "<text text-anchor=\"start\" x=\"8\" y=\"-37.8\" font-family=\"Helvetica,sans-Serif\" font-size=\"14.00\">squared_error = 3.2</text>\n",
       "<text text-anchor=\"start\" x=\"30.5\" y=\"-22.8\" font-family=\"Helvetica,sans-Serif\" font-size=\"14.00\">samples = 5</text>\n",
       "<text text-anchor=\"start\" x=\"30.5\" y=\"-7.8\" font-family=\"Helvetica,sans-Serif\" font-size=\"14.00\">value = 25.0</text>\n",
       "</g>\n",
       "<!-- 2&#45;&gt;3 -->\n",
       "<g id=\"edge3\" class=\"edge\">\n",
       "<title>2&#45;&gt;3</title>\n",
       "<path fill=\"none\" stroke=\"black\" d=\"M168.14,-88.95C152.04,-79.07 134.45,-68.28 118.57,-58.53\"/>\n",
       "<polygon fill=\"black\" stroke=\"black\" points=\"120.3,-55.48 109.94,-53.24 116.63,-61.45 120.3,-55.48\"/>\n",
       "</g>\n",
       "<!-- 4 -->\n",
       "<g id=\"node5\" class=\"node\">\n",
       "<title>4</title>\n",
       "<path fill=\"#f7d7c0\" stroke=\"black\" d=\"M278,-53C278,-53 166,-53 166,-53 160,-53 154,-47 154,-41 154,-41 154,-12 154,-12 154,-6 160,0 166,0 166,0 278,0 278,0 284,0 290,-6 290,-12 290,-12 290,-41 290,-41 290,-47 284,-53 278,-53\"/>\n",
       "<text text-anchor=\"start\" x=\"162\" y=\"-37.8\" font-family=\"Helvetica,sans-Serif\" font-size=\"14.00\">squared_error = 1.0</text>\n",
       "<text text-anchor=\"start\" x=\"184.5\" y=\"-22.8\" font-family=\"Helvetica,sans-Serif\" font-size=\"14.00\">samples = 2</text>\n",
       "<text text-anchor=\"start\" x=\"184.5\" y=\"-7.8\" font-family=\"Helvetica,sans-Serif\" font-size=\"14.00\">value = 30.0</text>\n",
       "</g>\n",
       "<!-- 2&#45;&gt;4 -->\n",
       "<g id=\"edge4\" class=\"edge\">\n",
       "<title>2&#45;&gt;4</title>\n",
       "<path fill=\"none\" stroke=\"black\" d=\"M222,-88.95C222,-80.72 222,-71.85 222,-63.48\"/>\n",
       "<polygon fill=\"black\" stroke=\"black\" points=\"225.5,-63.24 222,-53.24 218.5,-63.24 225.5,-63.24\"/>\n",
       "</g>\n",
       "<!-- 6 -->\n",
       "<g id=\"node7\" class=\"node\">\n",
       "<title>6</title>\n",
       "<path fill=\"#e58139\" stroke=\"black\" d=\"M432,-53C432,-53 320,-53 320,-53 314,-53 308,-47 308,-41 308,-41 308,-12 308,-12 308,-6 314,0 320,0 320,0 432,0 432,0 438,0 444,-6 444,-12 444,-12 444,-41 444,-41 444,-47 438,-53 432,-53\"/>\n",
       "<text text-anchor=\"start\" x=\"316\" y=\"-37.8\" font-family=\"Helvetica,sans-Serif\" font-size=\"14.00\">squared_error = 0.0</text>\n",
       "<text text-anchor=\"start\" x=\"338.5\" y=\"-22.8\" font-family=\"Helvetica,sans-Serif\" font-size=\"14.00\">samples = 1</text>\n",
       "<text text-anchor=\"start\" x=\"338.5\" y=\"-7.8\" font-family=\"Helvetica,sans-Serif\" font-size=\"14.00\">value = 55.0</text>\n",
       "</g>\n",
       "<!-- 5&#45;&gt;6 -->\n",
       "<g id=\"edge6\" class=\"edge\">\n",
       "<title>5&#45;&gt;6</title>\n",
       "<path fill=\"none\" stroke=\"black\" d=\"M434.52,-88.95C425.81,-79.8 416.35,-69.87 407.63,-60.71\"/>\n",
       "<polygon fill=\"black\" stroke=\"black\" points=\"409.94,-58.06 400.51,-53.24 404.87,-62.89 409.94,-58.06\"/>\n",
       "</g>\n",
       "<!-- 7 -->\n",
       "<g id=\"node8\" class=\"node\">\n",
       "<title>7</title>\n",
       "<path fill=\"#f6d5be\" stroke=\"black\" d=\"M601.5,-53C601.5,-53 474.5,-53 474.5,-53 468.5,-53 462.5,-47 462.5,-41 462.5,-41 462.5,-12 462.5,-12 462.5,-6 468.5,0 474.5,0 474.5,0 601.5,0 601.5,0 607.5,0 613.5,-6 613.5,-12 613.5,-12 613.5,-41 613.5,-41 613.5,-47 607.5,-53 601.5,-53\"/>\n",
       "<text text-anchor=\"start\" x=\"470.5\" y=\"-37.8\" font-family=\"Helvetica,sans-Serif\" font-size=\"14.00\">squared_error = 20.25</text>\n",
       "<text text-anchor=\"start\" x=\"500.5\" y=\"-22.8\" font-family=\"Helvetica,sans-Serif\" font-size=\"14.00\">samples = 2</text>\n",
       "<text text-anchor=\"start\" x=\"500.5\" y=\"-7.8\" font-family=\"Helvetica,sans-Serif\" font-size=\"14.00\">value = 30.5</text>\n",
       "</g>\n",
       "<!-- 5&#45;&gt;7 -->\n",
       "<g id=\"edge7\" class=\"edge\">\n",
       "<title>5&#45;&gt;7</title>\n",
       "<path fill=\"none\" stroke=\"black\" d=\"M491.18,-88.95C498.01,-79.98 505.42,-70.27 512.28,-61.26\"/>\n",
       "<polygon fill=\"black\" stroke=\"black\" points=\"515.11,-63.31 518.39,-53.24 509.55,-59.07 515.11,-63.31\"/>\n",
       "</g>\n",
       "<!-- 9 -->\n",
       "<g id=\"node10\" class=\"node\">\n",
       "<title>9</title>\n",
       "<path fill=\"#fdf4ee\" stroke=\"black\" d=\"M852,-157C852,-157 730,-157 730,-157 724,-157 718,-151 718,-145 718,-145 718,-101 718,-101 718,-95 724,-89 730,-89 730,-89 852,-89 852,-89 858,-89 864,-95 864,-101 864,-101 864,-145 864,-145 864,-151 858,-157 852,-157\"/>\n",
       "<text text-anchor=\"start\" x=\"726\" y=\"-141.8\" font-family=\"Helvetica,sans-Serif\" font-size=\"14.00\">Year of birth ≤ 1999.5</text>\n",
       "<text text-anchor=\"start\" x=\"727.5\" y=\"-126.8\" font-family=\"Helvetica,sans-Serif\" font-size=\"14.00\">squared_error = 1.28</text>\n",
       "<text text-anchor=\"start\" x=\"750\" y=\"-111.8\" font-family=\"Helvetica,sans-Serif\" font-size=\"14.00\">samples = 83</text>\n",
       "<text text-anchor=\"start\" x=\"746\" y=\"-96.8\" font-family=\"Helvetica,sans-Serif\" font-size=\"14.00\">value = 21.578</text>\n",
       "</g>\n",
       "<!-- 8&#45;&gt;9 -->\n",
       "<g id=\"edge9\" class=\"edge\">\n",
       "<title>8&#45;&gt;9</title>\n",
       "<path fill=\"none\" stroke=\"black\" d=\"M791,-192.88C791,-184.78 791,-175.98 791,-167.47\"/>\n",
       "<polygon fill=\"black\" stroke=\"black\" points=\"794.5,-167.3 791,-157.3 787.5,-167.3 794.5,-167.3\"/>\n",
       "</g>\n",
       "<!-- 12 -->\n",
       "<g id=\"node13\" class=\"node\">\n",
       "<title>12</title>\n",
       "<path fill=\"#fffefd\" stroke=\"black\" d=\"M1108.5,-157C1108.5,-157 981.5,-157 981.5,-157 975.5,-157 969.5,-151 969.5,-145 969.5,-145 969.5,-101 969.5,-101 969.5,-95 975.5,-89 981.5,-89 981.5,-89 1108.5,-89 1108.5,-89 1114.5,-89 1120.5,-95 1120.5,-101 1120.5,-101 1120.5,-145 1120.5,-145 1120.5,-151 1114.5,-157 1108.5,-157\"/>\n",
       "<text text-anchor=\"start\" x=\"980\" y=\"-141.8\" font-family=\"Helvetica,sans-Serif\" font-size=\"14.00\">Year of birth ≤ 2002.5</text>\n",
       "<text text-anchor=\"start\" x=\"977.5\" y=\"-126.8\" font-family=\"Helvetica,sans-Serif\" font-size=\"14.00\">squared_error = 0.599</text>\n",
       "<text text-anchor=\"start\" x=\"1004\" y=\"-111.8\" font-family=\"Helvetica,sans-Serif\" font-size=\"14.00\">samples = 93</text>\n",
       "<text text-anchor=\"start\" x=\"1000\" y=\"-96.8\" font-family=\"Helvetica,sans-Serif\" font-size=\"14.00\">value = 18.882</text>\n",
       "</g>\n",
       "<!-- 8&#45;&gt;12 -->\n",
       "<g id=\"edge12\" class=\"edge\">\n",
       "<title>8&#45;&gt;12</title>\n",
       "<path fill=\"none\" stroke=\"black\" d=\"M866.52,-195.67C895.81,-183.91 929.51,-170.38 959.67,-158.27\"/>\n",
       "<polygon fill=\"black\" stroke=\"black\" points=\"961.36,-161.36 969.33,-154.39 958.75,-154.87 961.36,-161.36\"/>\n",
       "</g>\n",
       "<!-- 10 -->\n",
       "<g id=\"node11\" class=\"node\">\n",
       "<title>10</title>\n",
       "<path fill=\"#fcefe6\" stroke=\"black\" d=\"M770.5,-53C770.5,-53 643.5,-53 643.5,-53 637.5,-53 631.5,-47 631.5,-41 631.5,-41 631.5,-12 631.5,-12 631.5,-6 637.5,0 643.5,0 643.5,0 770.5,0 770.5,0 776.5,0 782.5,-6 782.5,-12 782.5,-12 782.5,-41 782.5,-41 782.5,-47 776.5,-53 770.5,-53\"/>\n",
       "<text text-anchor=\"start\" x=\"639.5\" y=\"-37.8\" font-family=\"Helvetica,sans-Serif\" font-size=\"14.00\">squared_error = 0.628</text>\n",
       "<text text-anchor=\"start\" x=\"666\" y=\"-22.8\" font-family=\"Helvetica,sans-Serif\" font-size=\"14.00\">samples = 22</text>\n",
       "<text text-anchor=\"start\" x=\"662\" y=\"-7.8\" font-family=\"Helvetica,sans-Serif\" font-size=\"14.00\">value = 23.091</text>\n",
       "</g>\n",
       "<!-- 9&#45;&gt;10 -->\n",
       "<g id=\"edge10\" class=\"edge\">\n",
       "<title>9&#45;&gt;10</title>\n",
       "<path fill=\"none\" stroke=\"black\" d=\"M761.62,-88.95C753.49,-79.8 744.66,-69.87 736.52,-60.71\"/>\n",
       "<polygon fill=\"black\" stroke=\"black\" points=\"739.14,-58.39 729.88,-53.24 733.9,-63.04 739.14,-58.39\"/>\n",
       "</g>\n",
       "<!-- 11 -->\n",
       "<g id=\"node12\" class=\"node\">\n",
       "<title>11</title>\n",
       "<path fill=\"#fdf6f1\" stroke=\"black\" d=\"M939.5,-53C939.5,-53 812.5,-53 812.5,-53 806.5,-53 800.5,-47 800.5,-41 800.5,-41 800.5,-12 800.5,-12 800.5,-6 806.5,0 812.5,0 812.5,0 939.5,0 939.5,0 945.5,0 951.5,-6 951.5,-12 951.5,-12 951.5,-41 951.5,-41 951.5,-47 945.5,-53 939.5,-53\"/>\n",
       "<text text-anchor=\"start\" x=\"808.5\" y=\"-37.8\" font-family=\"Helvetica,sans-Serif\" font-size=\"14.00\">squared_error = 0.392</text>\n",
       "<text text-anchor=\"start\" x=\"835\" y=\"-22.8\" font-family=\"Helvetica,sans-Serif\" font-size=\"14.00\">samples = 61</text>\n",
       "<text text-anchor=\"start\" x=\"831\" y=\"-7.8\" font-family=\"Helvetica,sans-Serif\" font-size=\"14.00\">value = 21.033</text>\n",
       "</g>\n",
       "<!-- 9&#45;&gt;11 -->\n",
       "<g id=\"edge11\" class=\"edge\">\n",
       "<title>9&#45;&gt;11</title>\n",
       "<path fill=\"none\" stroke=\"black\" d=\"M820.73,-88.95C828.96,-79.8 837.89,-69.87 846.13,-60.71\"/>\n",
       "<polygon fill=\"black\" stroke=\"black\" points=\"848.77,-63.01 852.85,-53.24 843.56,-58.33 848.77,-63.01\"/>\n",
       "</g>\n",
       "<!-- 13 -->\n",
       "<g id=\"node14\" class=\"node\">\n",
       "<title>13</title>\n",
       "<path fill=\"#fefbf9\" stroke=\"black\" d=\"M1108.5,-53C1108.5,-53 981.5,-53 981.5,-53 975.5,-53 969.5,-47 969.5,-41 969.5,-41 969.5,-12 969.5,-12 969.5,-6 975.5,0 981.5,0 981.5,0 1108.5,0 1108.5,0 1114.5,0 1120.5,-6 1120.5,-12 1120.5,-12 1120.5,-41 1120.5,-41 1120.5,-47 1114.5,-53 1108.5,-53\"/>\n",
       "<text text-anchor=\"start\" x=\"977.5\" y=\"-37.8\" font-family=\"Helvetica,sans-Serif\" font-size=\"14.00\">squared_error = 0.231</text>\n",
       "<text text-anchor=\"start\" x=\"1004\" y=\"-22.8\" font-family=\"Helvetica,sans-Serif\" font-size=\"14.00\">samples = 33</text>\n",
       "<text text-anchor=\"start\" x=\"1000\" y=\"-7.8\" font-family=\"Helvetica,sans-Serif\" font-size=\"14.00\">value = 19.636</text>\n",
       "</g>\n",
       "<!-- 12&#45;&gt;13 -->\n",
       "<g id=\"edge13\" class=\"edge\">\n",
       "<title>12&#45;&gt;13</title>\n",
       "<path fill=\"none\" stroke=\"black\" d=\"M1045,-88.95C1045,-80.72 1045,-71.85 1045,-63.48\"/>\n",
       "<polygon fill=\"black\" stroke=\"black\" points=\"1048.5,-63.24 1045,-53.24 1041.5,-63.24 1048.5,-63.24\"/>\n",
       "</g>\n",
       "<!-- 14 -->\n",
       "<g id=\"node15\" class=\"node\">\n",
       "<title>14</title>\n",
       "<path fill=\"#ffffff\" stroke=\"black\" d=\"M1277.5,-53C1277.5,-53 1150.5,-53 1150.5,-53 1144.5,-53 1138.5,-47 1138.5,-41 1138.5,-41 1138.5,-12 1138.5,-12 1138.5,-6 1144.5,0 1150.5,0 1150.5,0 1277.5,0 1277.5,0 1283.5,0 1289.5,-6 1289.5,-12 1289.5,-12 1289.5,-41 1289.5,-41 1289.5,-47 1283.5,-53 1277.5,-53\"/>\n",
       "<text text-anchor=\"start\" x=\"1146.5\" y=\"-37.8\" font-family=\"Helvetica,sans-Serif\" font-size=\"14.00\">squared_error = 0.316</text>\n",
       "<text text-anchor=\"start\" x=\"1173\" y=\"-22.8\" font-family=\"Helvetica,sans-Serif\" font-size=\"14.00\">samples = 60</text>\n",
       "<text text-anchor=\"start\" x=\"1169\" y=\"-7.8\" font-family=\"Helvetica,sans-Serif\" font-size=\"14.00\">value = 18.467</text>\n",
       "</g>\n",
       "<!-- 12&#45;&gt;14 -->\n",
       "<g id=\"edge14\" class=\"edge\">\n",
       "<title>12&#45;&gt;14</title>\n",
       "<path fill=\"none\" stroke=\"black\" d=\"M1104.11,-88.95C1122.02,-78.93 1141.61,-67.98 1159.23,-58.13\"/>\n",
       "<polygon fill=\"black\" stroke=\"black\" points=\"1161.22,-61.02 1168.24,-53.09 1157.81,-54.91 1161.22,-61.02\"/>\n",
       "</g>\n",
       "</g>\n",
       "</svg>\n"
      ],
      "text/plain": [
       "<graphviz.sources.Source at 0x2d6da8b1a00>"
      ]
     },
     "execution_count": 18,
     "metadata": {},
     "output_type": "execute_result"
    }
   ],
   "source": [
    "import graphviz \n",
    "dot_data = tree.export_graphviz(model, out_file=None, \n",
    "                      feature_names=['Year of birth', 'Month of birthday'],  \n",
    "                      class_names=['Age'],  \n",
    "                     filled=True, rounded=True,  \n",
    "                      special_characters=True)  \n",
    "graph = graphviz.Source(dot_data)  \n",
    "graph "
   ]
  },
  {
   "cell_type": "code",
   "execution_count": 20,
   "id": "3dfaec37",
   "metadata": {},
   "outputs": [],
   "source": [
    "df_test_cut['Predict'] = model.predict(df_test_cut[['Year of birth', 'Month of birthday']].values.reshape(-1, 2))"
   ]
  },
  {
   "cell_type": "code",
   "execution_count": 22,
   "id": "1d0ee8ea",
   "metadata": {},
   "outputs": [
    {
     "data": {
      "text/plain": [
       "0.7241329318612689"
      ]
     },
     "execution_count": 22,
     "metadata": {},
     "output_type": "execute_result"
    }
   ],
   "source": [
    "from sklearn.metrics import mean_absolute_error\n",
    "mean_absolute_error(df_test_cut['Age'], df_test_cut['Predict'])"
   ]
  },
  {
   "cell_type": "markdown",
   "id": "dfb88306",
   "metadata": {},
   "source": [
    "Тренируем ансамбль моделей "
   ]
  },
  {
   "cell_type": "code",
   "execution_count": 23,
   "id": "bfaf66d7",
   "metadata": {},
   "outputs": [],
   "source": [
    "from sklearn.ensemble import RandomForestClassifier"
   ]
  },
  {
   "cell_type": "code",
   "execution_count": 60,
   "id": "a2eb0c54",
   "metadata": {},
   "outputs": [],
   "source": [
    "df_cut = df.iloc[:, 6:17]\n",
    "df_cut['Your insitute'] = df['Your insitute']\n",
    "df_test_cut = df.iloc[:, 6:17]\n",
    "df_test_cut['Your insitute'] = df['Your insitute']"
   ]
  },
  {
   "cell_type": "code",
   "execution_count": 74,
   "id": "0c3fcf0a",
   "metadata": {},
   "outputs": [
    {
     "data": {
      "text/html": [
       "<style>#sk-container-id-3 {color: black;background-color: white;}#sk-container-id-3 pre{padding: 0;}#sk-container-id-3 div.sk-toggleable {background-color: white;}#sk-container-id-3 label.sk-toggleable__label {cursor: pointer;display: block;width: 100%;margin-bottom: 0;padding: 0.3em;box-sizing: border-box;text-align: center;}#sk-container-id-3 label.sk-toggleable__label-arrow:before {content: \"▸\";float: left;margin-right: 0.25em;color: #696969;}#sk-container-id-3 label.sk-toggleable__label-arrow:hover:before {color: black;}#sk-container-id-3 div.sk-estimator:hover label.sk-toggleable__label-arrow:before {color: black;}#sk-container-id-3 div.sk-toggleable__content {max-height: 0;max-width: 0;overflow: hidden;text-align: left;background-color: #f0f8ff;}#sk-container-id-3 div.sk-toggleable__content pre {margin: 0.2em;color: black;border-radius: 0.25em;background-color: #f0f8ff;}#sk-container-id-3 input.sk-toggleable__control:checked~div.sk-toggleable__content {max-height: 200px;max-width: 100%;overflow: auto;}#sk-container-id-3 input.sk-toggleable__control:checked~label.sk-toggleable__label-arrow:before {content: \"▾\";}#sk-container-id-3 div.sk-estimator input.sk-toggleable__control:checked~label.sk-toggleable__label {background-color: #d4ebff;}#sk-container-id-3 div.sk-label input.sk-toggleable__control:checked~label.sk-toggleable__label {background-color: #d4ebff;}#sk-container-id-3 input.sk-hidden--visually {border: 0;clip: rect(1px 1px 1px 1px);clip: rect(1px, 1px, 1px, 1px);height: 1px;margin: -1px;overflow: hidden;padding: 0;position: absolute;width: 1px;}#sk-container-id-3 div.sk-estimator {font-family: monospace;background-color: #f0f8ff;border: 1px dotted black;border-radius: 0.25em;box-sizing: border-box;margin-bottom: 0.5em;}#sk-container-id-3 div.sk-estimator:hover {background-color: #d4ebff;}#sk-container-id-3 div.sk-parallel-item::after {content: \"\";width: 100%;border-bottom: 1px solid gray;flex-grow: 1;}#sk-container-id-3 div.sk-label:hover label.sk-toggleable__label {background-color: #d4ebff;}#sk-container-id-3 div.sk-serial::before {content: \"\";position: absolute;border-left: 1px solid gray;box-sizing: border-box;top: 0;bottom: 0;left: 50%;z-index: 0;}#sk-container-id-3 div.sk-serial {display: flex;flex-direction: column;align-items: center;background-color: white;padding-right: 0.2em;padding-left: 0.2em;position: relative;}#sk-container-id-3 div.sk-item {position: relative;z-index: 1;}#sk-container-id-3 div.sk-parallel {display: flex;align-items: stretch;justify-content: center;background-color: white;position: relative;}#sk-container-id-3 div.sk-item::before, #sk-container-id-3 div.sk-parallel-item::before {content: \"\";position: absolute;border-left: 1px solid gray;box-sizing: border-box;top: 0;bottom: 0;left: 50%;z-index: -1;}#sk-container-id-3 div.sk-parallel-item {display: flex;flex-direction: column;z-index: 1;position: relative;background-color: white;}#sk-container-id-3 div.sk-parallel-item:first-child::after {align-self: flex-end;width: 50%;}#sk-container-id-3 div.sk-parallel-item:last-child::after {align-self: flex-start;width: 50%;}#sk-container-id-3 div.sk-parallel-item:only-child::after {width: 0;}#sk-container-id-3 div.sk-dashed-wrapped {border: 1px dashed gray;margin: 0 0.4em 0.5em 0.4em;box-sizing: border-box;padding-bottom: 0.4em;background-color: white;}#sk-container-id-3 div.sk-label label {font-family: monospace;font-weight: bold;display: inline-block;line-height: 1.2em;}#sk-container-id-3 div.sk-label-container {text-align: center;}#sk-container-id-3 div.sk-container {/* jupyter's `normalize.less` sets `[hidden] { display: none; }` but bootstrap.min.css set `[hidden] { display: none !important; }` so we also need the `!important` here to be able to override the default hidden behavior on the sphinx rendered scikit-learn.org. See: https://github.com/scikit-learn/scikit-learn/issues/21755 */display: inline-block !important;position: relative;}#sk-container-id-3 div.sk-text-repr-fallback {display: none;}</style><div id=\"sk-container-id-3\" class=\"sk-top-container\"><div class=\"sk-text-repr-fallback\"><pre>RandomForestClassifier(max_depth=4, random_state=0)</pre><b>In a Jupyter environment, please rerun this cell to show the HTML representation or trust the notebook. <br />On GitHub, the HTML representation is unable to render, please try loading this page with nbviewer.org.</b></div><div class=\"sk-container\" hidden><div class=\"sk-item\"><div class=\"sk-estimator sk-toggleable\"><input class=\"sk-toggleable__control sk-hidden--visually\" id=\"sk-estimator-id-3\" type=\"checkbox\" checked><label for=\"sk-estimator-id-3\" class=\"sk-toggleable__label sk-toggleable__label-arrow\">RandomForestClassifier</label><div class=\"sk-toggleable__content\"><pre>RandomForestClassifier(max_depth=4, random_state=0)</pre></div></div></div></div></div>"
      ],
      "text/plain": [
       "RandomForestClassifier(max_depth=4, random_state=0)"
      ]
     },
     "execution_count": 74,
     "metadata": {},
     "output_type": "execute_result"
    }
   ],
   "source": [
    "model = RandomForestClassifier(max_depth=4, random_state=0)\n",
    "model.fit(df_cut.iloc[:, 0:10].values.reshape(-1, 10), y = df_cut['Your insitute'].values)"
   ]
  },
  {
   "cell_type": "code",
   "execution_count": 75,
   "id": "f8d47bed",
   "metadata": {},
   "outputs": [],
   "source": [
    "df_test_cut['Predict'] = model.predict(df_test_cut.iloc[:, 0:10].values.reshape(-1, 10))"
   ]
  },
  {
   "cell_type": "code",
   "execution_count": 77,
   "id": "0e28c16b",
   "metadata": {},
   "outputs": [
    {
     "data": {
      "text/html": [
       "<div>\n",
       "<style scoped>\n",
       "    .dataframe tbody tr th:only-of-type {\n",
       "        vertical-align: middle;\n",
       "    }\n",
       "\n",
       "    .dataframe tbody tr th {\n",
       "        vertical-align: top;\n",
       "    }\n",
       "\n",
       "    .dataframe thead th {\n",
       "        text-align: right;\n",
       "    }\n",
       "</style>\n",
       "<table border=\"1\" class=\"dataframe\">\n",
       "  <thead>\n",
       "    <tr style=\"text-align: right;\">\n",
       "      <th>Your insitute</th>\n",
       "      <th>Другое</th>\n",
       "      <th>Естественный (биология-химия-физика-технари)</th>\n",
       "      <th>Математический и ИТ</th>\n",
       "      <th>Педагогический</th>\n",
       "      <th>СоцГум</th>\n",
       "      <th>Экономический</th>\n",
       "      <th>Юридический</th>\n",
       "    </tr>\n",
       "    <tr>\n",
       "      <th>Predict</th>\n",
       "      <th></th>\n",
       "      <th></th>\n",
       "      <th></th>\n",
       "      <th></th>\n",
       "      <th></th>\n",
       "      <th></th>\n",
       "      <th></th>\n",
       "    </tr>\n",
       "  </thead>\n",
       "  <tbody>\n",
       "    <tr>\n",
       "      <th>Другое</th>\n",
       "      <td>5</td>\n",
       "      <td>0</td>\n",
       "      <td>0</td>\n",
       "      <td>0</td>\n",
       "      <td>0</td>\n",
       "      <td>0</td>\n",
       "      <td>0</td>\n",
       "    </tr>\n",
       "    <tr>\n",
       "      <th>Естественный (биология-химия-физика-технари)</th>\n",
       "      <td>0</td>\n",
       "      <td>7</td>\n",
       "      <td>0</td>\n",
       "      <td>0</td>\n",
       "      <td>0</td>\n",
       "      <td>0</td>\n",
       "      <td>0</td>\n",
       "    </tr>\n",
       "    <tr>\n",
       "      <th>Математический и ИТ</th>\n",
       "      <td>6</td>\n",
       "      <td>5</td>\n",
       "      <td>105</td>\n",
       "      <td>7</td>\n",
       "      <td>0</td>\n",
       "      <td>10</td>\n",
       "      <td>2</td>\n",
       "    </tr>\n",
       "    <tr>\n",
       "      <th>Педагогический</th>\n",
       "      <td>0</td>\n",
       "      <td>0</td>\n",
       "      <td>0</td>\n",
       "      <td>3</td>\n",
       "      <td>0</td>\n",
       "      <td>0</td>\n",
       "      <td>0</td>\n",
       "    </tr>\n",
       "    <tr>\n",
       "      <th>СоцГум</th>\n",
       "      <td>0</td>\n",
       "      <td>0</td>\n",
       "      <td>0</td>\n",
       "      <td>0</td>\n",
       "      <td>17</td>\n",
       "      <td>1</td>\n",
       "      <td>1</td>\n",
       "    </tr>\n",
       "    <tr>\n",
       "      <th>Экономический</th>\n",
       "      <td>0</td>\n",
       "      <td>0</td>\n",
       "      <td>0</td>\n",
       "      <td>0</td>\n",
       "      <td>1</td>\n",
       "      <td>4</td>\n",
       "      <td>0</td>\n",
       "    </tr>\n",
       "    <tr>\n",
       "      <th>Юридический</th>\n",
       "      <td>0</td>\n",
       "      <td>0</td>\n",
       "      <td>0</td>\n",
       "      <td>0</td>\n",
       "      <td>1</td>\n",
       "      <td>1</td>\n",
       "      <td>10</td>\n",
       "    </tr>\n",
       "  </tbody>\n",
       "</table>\n",
       "</div>"
      ],
      "text/plain": [
       "Your insitute                                 Другое  \\\n",
       "Predict                                                \n",
       "Другое                                             5   \n",
       "Естественный (биология-химия-физика-технари)       0   \n",
       "Математический и ИТ                                6   \n",
       "Педагогический                                     0   \n",
       "СоцГум                                             0   \n",
       "Экономический                                      0   \n",
       "Юридический                                        0   \n",
       "\n",
       "Your insitute                                 Естественный (биология-химия-физика-технари)  \\\n",
       "Predict                                                                                      \n",
       "Другое                                                                                   0   \n",
       "Естественный (биология-химия-физика-технари)                                             7   \n",
       "Математический и ИТ                                                                      5   \n",
       "Педагогический                                                                           0   \n",
       "СоцГум                                                                                   0   \n",
       "Экономический                                                                            0   \n",
       "Юридический                                                                              0   \n",
       "\n",
       "Your insitute                                 Математический и ИТ  \\\n",
       "Predict                                                             \n",
       "Другое                                                          0   \n",
       "Естественный (биология-химия-физика-технари)                    0   \n",
       "Математический и ИТ                                           105   \n",
       "Педагогический                                                  0   \n",
       "СоцГум                                                          0   \n",
       "Экономический                                                   0   \n",
       "Юридический                                                     0   \n",
       "\n",
       "Your insitute                                 Педагогический  СоцГум  \\\n",
       "Predict                                                                \n",
       "Другое                                                     0       0   \n",
       "Естественный (биология-химия-физика-технари)               0       0   \n",
       "Математический и ИТ                                        7       0   \n",
       "Педагогический                                             3       0   \n",
       "СоцГум                                                     0      17   \n",
       "Экономический                                              0       1   \n",
       "Юридический                                                0       1   \n",
       "\n",
       "Your insitute                                 Экономический  Юридический  \n",
       "Predict                                                                   \n",
       "Другое                                                    0            0  \n",
       "Естественный (биология-химия-физика-технари)              0            0  \n",
       "Математический и ИТ                                      10            2  \n",
       "Педагогический                                            0            0  \n",
       "СоцГум                                                    1            1  \n",
       "Экономический                                             4            0  \n",
       "Юридический                                               1           10  "
      ]
     },
     "execution_count": 77,
     "metadata": {},
     "output_type": "execute_result"
    }
   ],
   "source": [
    "pd.crosstab(df_test_cut['Predict'], df_test_cut['Your insitute'])"
   ]
  },
  {
   "cell_type": "markdown",
   "id": "27a4487a",
   "metadata": {},
   "source": [
    "Методы бустинга"
   ]
  },
  {
   "cell_type": "code",
   "execution_count": 78,
   "id": "21786ed4",
   "metadata": {},
   "outputs": [],
   "source": [
    "from sklearn.ensemble import GradientBoostingClassifier"
   ]
  },
  {
   "cell_type": "code",
   "execution_count": 81,
   "id": "51567de3",
   "metadata": {},
   "outputs": [
    {
     "data": {
      "text/html": [
       "<style>#sk-container-id-4 {color: black;background-color: white;}#sk-container-id-4 pre{padding: 0;}#sk-container-id-4 div.sk-toggleable {background-color: white;}#sk-container-id-4 label.sk-toggleable__label {cursor: pointer;display: block;width: 100%;margin-bottom: 0;padding: 0.3em;box-sizing: border-box;text-align: center;}#sk-container-id-4 label.sk-toggleable__label-arrow:before {content: \"▸\";float: left;margin-right: 0.25em;color: #696969;}#sk-container-id-4 label.sk-toggleable__label-arrow:hover:before {color: black;}#sk-container-id-4 div.sk-estimator:hover label.sk-toggleable__label-arrow:before {color: black;}#sk-container-id-4 div.sk-toggleable__content {max-height: 0;max-width: 0;overflow: hidden;text-align: left;background-color: #f0f8ff;}#sk-container-id-4 div.sk-toggleable__content pre {margin: 0.2em;color: black;border-radius: 0.25em;background-color: #f0f8ff;}#sk-container-id-4 input.sk-toggleable__control:checked~div.sk-toggleable__content {max-height: 200px;max-width: 100%;overflow: auto;}#sk-container-id-4 input.sk-toggleable__control:checked~label.sk-toggleable__label-arrow:before {content: \"▾\";}#sk-container-id-4 div.sk-estimator input.sk-toggleable__control:checked~label.sk-toggleable__label {background-color: #d4ebff;}#sk-container-id-4 div.sk-label input.sk-toggleable__control:checked~label.sk-toggleable__label {background-color: #d4ebff;}#sk-container-id-4 input.sk-hidden--visually {border: 0;clip: rect(1px 1px 1px 1px);clip: rect(1px, 1px, 1px, 1px);height: 1px;margin: -1px;overflow: hidden;padding: 0;position: absolute;width: 1px;}#sk-container-id-4 div.sk-estimator {font-family: monospace;background-color: #f0f8ff;border: 1px dotted black;border-radius: 0.25em;box-sizing: border-box;margin-bottom: 0.5em;}#sk-container-id-4 div.sk-estimator:hover {background-color: #d4ebff;}#sk-container-id-4 div.sk-parallel-item::after {content: \"\";width: 100%;border-bottom: 1px solid gray;flex-grow: 1;}#sk-container-id-4 div.sk-label:hover label.sk-toggleable__label {background-color: #d4ebff;}#sk-container-id-4 div.sk-serial::before {content: \"\";position: absolute;border-left: 1px solid gray;box-sizing: border-box;top: 0;bottom: 0;left: 50%;z-index: 0;}#sk-container-id-4 div.sk-serial {display: flex;flex-direction: column;align-items: center;background-color: white;padding-right: 0.2em;padding-left: 0.2em;position: relative;}#sk-container-id-4 div.sk-item {position: relative;z-index: 1;}#sk-container-id-4 div.sk-parallel {display: flex;align-items: stretch;justify-content: center;background-color: white;position: relative;}#sk-container-id-4 div.sk-item::before, #sk-container-id-4 div.sk-parallel-item::before {content: \"\";position: absolute;border-left: 1px solid gray;box-sizing: border-box;top: 0;bottom: 0;left: 50%;z-index: -1;}#sk-container-id-4 div.sk-parallel-item {display: flex;flex-direction: column;z-index: 1;position: relative;background-color: white;}#sk-container-id-4 div.sk-parallel-item:first-child::after {align-self: flex-end;width: 50%;}#sk-container-id-4 div.sk-parallel-item:last-child::after {align-self: flex-start;width: 50%;}#sk-container-id-4 div.sk-parallel-item:only-child::after {width: 0;}#sk-container-id-4 div.sk-dashed-wrapped {border: 1px dashed gray;margin: 0 0.4em 0.5em 0.4em;box-sizing: border-box;padding-bottom: 0.4em;background-color: white;}#sk-container-id-4 div.sk-label label {font-family: monospace;font-weight: bold;display: inline-block;line-height: 1.2em;}#sk-container-id-4 div.sk-label-container {text-align: center;}#sk-container-id-4 div.sk-container {/* jupyter's `normalize.less` sets `[hidden] { display: none; }` but bootstrap.min.css set `[hidden] { display: none !important; }` so we also need the `!important` here to be able to override the default hidden behavior on the sphinx rendered scikit-learn.org. See: https://github.com/scikit-learn/scikit-learn/issues/21755 */display: inline-block !important;position: relative;}#sk-container-id-4 div.sk-text-repr-fallback {display: none;}</style><div id=\"sk-container-id-4\" class=\"sk-top-container\"><div class=\"sk-text-repr-fallback\"><pre>GradientBoostingClassifier(random_state=0)</pre><b>In a Jupyter environment, please rerun this cell to show the HTML representation or trust the notebook. <br />On GitHub, the HTML representation is unable to render, please try loading this page with nbviewer.org.</b></div><div class=\"sk-container\" hidden><div class=\"sk-item\"><div class=\"sk-estimator sk-toggleable\"><input class=\"sk-toggleable__control sk-hidden--visually\" id=\"sk-estimator-id-4\" type=\"checkbox\" checked><label for=\"sk-estimator-id-4\" class=\"sk-toggleable__label sk-toggleable__label-arrow\">GradientBoostingClassifier</label><div class=\"sk-toggleable__content\"><pre>GradientBoostingClassifier(random_state=0)</pre></div></div></div></div></div>"
      ],
      "text/plain": [
       "GradientBoostingClassifier(random_state=0)"
      ]
     },
     "execution_count": 81,
     "metadata": {},
     "output_type": "execute_result"
    }
   ],
   "source": [
    "model = GradientBoostingClassifier(random_state=0)\n",
    "model.fit(df.iloc[:, 6:17].values.reshape(-1, 11), y = df['Your insitute'].values)"
   ]
  },
  {
   "cell_type": "code",
   "execution_count": 82,
   "id": "56bfe286",
   "metadata": {},
   "outputs": [],
   "source": [
    "df_test['Predict'] = model.predict(df_test.iloc[:, 6:17].values.reshape(-1, 11))"
   ]
  },
  {
   "cell_type": "code",
   "execution_count": 83,
   "id": "3aac46be",
   "metadata": {
    "scrolled": true
   },
   "outputs": [
    {
     "data": {
      "text/html": [
       "<div>\n",
       "<style scoped>\n",
       "    .dataframe tbody tr th:only-of-type {\n",
       "        vertical-align: middle;\n",
       "    }\n",
       "\n",
       "    .dataframe tbody tr th {\n",
       "        vertical-align: top;\n",
       "    }\n",
       "\n",
       "    .dataframe thead th {\n",
       "        text-align: right;\n",
       "    }\n",
       "</style>\n",
       "<table border=\"1\" class=\"dataframe\">\n",
       "  <thead>\n",
       "    <tr style=\"text-align: right;\">\n",
       "      <th>Your insitute</th>\n",
       "      <th>Другое</th>\n",
       "      <th>Естественный (биология-химия-физика-технари)</th>\n",
       "      <th>Математический и ИТ</th>\n",
       "      <th>Педагогический</th>\n",
       "      <th>СоцГум</th>\n",
       "      <th>Экономический</th>\n",
       "      <th>Юридический</th>\n",
       "    </tr>\n",
       "    <tr>\n",
       "      <th>Predict</th>\n",
       "      <th></th>\n",
       "      <th></th>\n",
       "      <th></th>\n",
       "      <th></th>\n",
       "      <th></th>\n",
       "      <th></th>\n",
       "      <th></th>\n",
       "    </tr>\n",
       "  </thead>\n",
       "  <tbody>\n",
       "    <tr>\n",
       "      <th>Другое</th>\n",
       "      <td>1</td>\n",
       "      <td>3</td>\n",
       "      <td>0</td>\n",
       "      <td>2</td>\n",
       "      <td>1</td>\n",
       "      <td>0</td>\n",
       "      <td>0</td>\n",
       "    </tr>\n",
       "    <tr>\n",
       "      <th>Естественный (биология-химия-физика-технари)</th>\n",
       "      <td>3</td>\n",
       "      <td>10</td>\n",
       "      <td>0</td>\n",
       "      <td>2</td>\n",
       "      <td>0</td>\n",
       "      <td>0</td>\n",
       "      <td>0</td>\n",
       "    </tr>\n",
       "    <tr>\n",
       "      <th>Математический и ИТ</th>\n",
       "      <td>1</td>\n",
       "      <td>7</td>\n",
       "      <td>30</td>\n",
       "      <td>2</td>\n",
       "      <td>0</td>\n",
       "      <td>8</td>\n",
       "      <td>0</td>\n",
       "    </tr>\n",
       "    <tr>\n",
       "      <th>Педагогический</th>\n",
       "      <td>1</td>\n",
       "      <td>3</td>\n",
       "      <td>2</td>\n",
       "      <td>1</td>\n",
       "      <td>1</td>\n",
       "      <td>2</td>\n",
       "      <td>0</td>\n",
       "    </tr>\n",
       "    <tr>\n",
       "      <th>СоцГум</th>\n",
       "      <td>0</td>\n",
       "      <td>0</td>\n",
       "      <td>2</td>\n",
       "      <td>0</td>\n",
       "      <td>7</td>\n",
       "      <td>0</td>\n",
       "      <td>0</td>\n",
       "    </tr>\n",
       "    <tr>\n",
       "      <th>Экономический</th>\n",
       "      <td>1</td>\n",
       "      <td>0</td>\n",
       "      <td>2</td>\n",
       "      <td>1</td>\n",
       "      <td>0</td>\n",
       "      <td>3</td>\n",
       "      <td>1</td>\n",
       "    </tr>\n",
       "    <tr>\n",
       "      <th>Юридический</th>\n",
       "      <td>0</td>\n",
       "      <td>0</td>\n",
       "      <td>0</td>\n",
       "      <td>0</td>\n",
       "      <td>0</td>\n",
       "      <td>0</td>\n",
       "      <td>1</td>\n",
       "    </tr>\n",
       "  </tbody>\n",
       "</table>\n",
       "</div>"
      ],
      "text/plain": [
       "Your insitute                                 Другое  \\\n",
       "Predict                                                \n",
       "Другое                                             1   \n",
       "Естественный (биология-химия-физика-технари)       3   \n",
       "Математический и ИТ                                1   \n",
       "Педагогический                                     1   \n",
       "СоцГум                                             0   \n",
       "Экономический                                      1   \n",
       "Юридический                                        0   \n",
       "\n",
       "Your insitute                                 Естественный (биология-химия-физика-технари)  \\\n",
       "Predict                                                                                      \n",
       "Другое                                                                                   3   \n",
       "Естественный (биология-химия-физика-технари)                                            10   \n",
       "Математический и ИТ                                                                      7   \n",
       "Педагогический                                                                           3   \n",
       "СоцГум                                                                                   0   \n",
       "Экономический                                                                            0   \n",
       "Юридический                                                                              0   \n",
       "\n",
       "Your insitute                                 Математический и ИТ  \\\n",
       "Predict                                                             \n",
       "Другое                                                          0   \n",
       "Естественный (биология-химия-физика-технари)                    0   \n",
       "Математический и ИТ                                            30   \n",
       "Педагогический                                                  2   \n",
       "СоцГум                                                          2   \n",
       "Экономический                                                   2   \n",
       "Юридический                                                     0   \n",
       "\n",
       "Your insitute                                 Педагогический  СоцГум  \\\n",
       "Predict                                                                \n",
       "Другое                                                     2       1   \n",
       "Естественный (биология-химия-физика-технари)               2       0   \n",
       "Математический и ИТ                                        2       0   \n",
       "Педагогический                                             1       1   \n",
       "СоцГум                                                     0       7   \n",
       "Экономический                                              1       0   \n",
       "Юридический                                                0       0   \n",
       "\n",
       "Your insitute                                 Экономический  Юридический  \n",
       "Predict                                                                   \n",
       "Другое                                                    0            0  \n",
       "Естественный (биология-химия-физика-технари)              0            0  \n",
       "Математический и ИТ                                       8            0  \n",
       "Педагогический                                            2            0  \n",
       "СоцГум                                                    0            0  \n",
       "Экономический                                             3            1  \n",
       "Юридический                                               0            1  "
      ]
     },
     "execution_count": 83,
     "metadata": {},
     "output_type": "execute_result"
    }
   ],
   "source": [
    "pd.crosstab(df_test['Predict'], df_test['Your insitute'])"
   ]
  },
  {
   "cell_type": "markdown",
   "id": "37779eda",
   "metadata": {},
   "source": [
    "Обучение с вероятностными выходными данными"
   ]
  },
  {
   "cell_type": "code",
   "execution_count": 88,
   "id": "16d4a4a3",
   "metadata": {},
   "outputs": [],
   "source": [
    "df_cut = df[['Growth','Weight','Sex']]\n",
    "df_cut = df_cut.dropna()\n",
    "df_test_cut = df_test[['Growth','Weight','Sex']]\n",
    "df_test_cut = df_cut.dropna()"
   ]
  },
  {
   "cell_type": "code",
   "execution_count": 87,
   "id": "9465a2a7",
   "metadata": {},
   "outputs": [
    {
     "data": {
      "text/html": [
       "<style>#sk-container-id-5 {color: black;background-color: white;}#sk-container-id-5 pre{padding: 0;}#sk-container-id-5 div.sk-toggleable {background-color: white;}#sk-container-id-5 label.sk-toggleable__label {cursor: pointer;display: block;width: 100%;margin-bottom: 0;padding: 0.3em;box-sizing: border-box;text-align: center;}#sk-container-id-5 label.sk-toggleable__label-arrow:before {content: \"▸\";float: left;margin-right: 0.25em;color: #696969;}#sk-container-id-5 label.sk-toggleable__label-arrow:hover:before {color: black;}#sk-container-id-5 div.sk-estimator:hover label.sk-toggleable__label-arrow:before {color: black;}#sk-container-id-5 div.sk-toggleable__content {max-height: 0;max-width: 0;overflow: hidden;text-align: left;background-color: #f0f8ff;}#sk-container-id-5 div.sk-toggleable__content pre {margin: 0.2em;color: black;border-radius: 0.25em;background-color: #f0f8ff;}#sk-container-id-5 input.sk-toggleable__control:checked~div.sk-toggleable__content {max-height: 200px;max-width: 100%;overflow: auto;}#sk-container-id-5 input.sk-toggleable__control:checked~label.sk-toggleable__label-arrow:before {content: \"▾\";}#sk-container-id-5 div.sk-estimator input.sk-toggleable__control:checked~label.sk-toggleable__label {background-color: #d4ebff;}#sk-container-id-5 div.sk-label input.sk-toggleable__control:checked~label.sk-toggleable__label {background-color: #d4ebff;}#sk-container-id-5 input.sk-hidden--visually {border: 0;clip: rect(1px 1px 1px 1px);clip: rect(1px, 1px, 1px, 1px);height: 1px;margin: -1px;overflow: hidden;padding: 0;position: absolute;width: 1px;}#sk-container-id-5 div.sk-estimator {font-family: monospace;background-color: #f0f8ff;border: 1px dotted black;border-radius: 0.25em;box-sizing: border-box;margin-bottom: 0.5em;}#sk-container-id-5 div.sk-estimator:hover {background-color: #d4ebff;}#sk-container-id-5 div.sk-parallel-item::after {content: \"\";width: 100%;border-bottom: 1px solid gray;flex-grow: 1;}#sk-container-id-5 div.sk-label:hover label.sk-toggleable__label {background-color: #d4ebff;}#sk-container-id-5 div.sk-serial::before {content: \"\";position: absolute;border-left: 1px solid gray;box-sizing: border-box;top: 0;bottom: 0;left: 50%;z-index: 0;}#sk-container-id-5 div.sk-serial {display: flex;flex-direction: column;align-items: center;background-color: white;padding-right: 0.2em;padding-left: 0.2em;position: relative;}#sk-container-id-5 div.sk-item {position: relative;z-index: 1;}#sk-container-id-5 div.sk-parallel {display: flex;align-items: stretch;justify-content: center;background-color: white;position: relative;}#sk-container-id-5 div.sk-item::before, #sk-container-id-5 div.sk-parallel-item::before {content: \"\";position: absolute;border-left: 1px solid gray;box-sizing: border-box;top: 0;bottom: 0;left: 50%;z-index: -1;}#sk-container-id-5 div.sk-parallel-item {display: flex;flex-direction: column;z-index: 1;position: relative;background-color: white;}#sk-container-id-5 div.sk-parallel-item:first-child::after {align-self: flex-end;width: 50%;}#sk-container-id-5 div.sk-parallel-item:last-child::after {align-self: flex-start;width: 50%;}#sk-container-id-5 div.sk-parallel-item:only-child::after {width: 0;}#sk-container-id-5 div.sk-dashed-wrapped {border: 1px dashed gray;margin: 0 0.4em 0.5em 0.4em;box-sizing: border-box;padding-bottom: 0.4em;background-color: white;}#sk-container-id-5 div.sk-label label {font-family: monospace;font-weight: bold;display: inline-block;line-height: 1.2em;}#sk-container-id-5 div.sk-label-container {text-align: center;}#sk-container-id-5 div.sk-container {/* jupyter's `normalize.less` sets `[hidden] { display: none; }` but bootstrap.min.css set `[hidden] { display: none !important; }` so we also need the `!important` here to be able to override the default hidden behavior on the sphinx rendered scikit-learn.org. See: https://github.com/scikit-learn/scikit-learn/issues/21755 */display: inline-block !important;position: relative;}#sk-container-id-5 div.sk-text-repr-fallback {display: none;}</style><div id=\"sk-container-id-5\" class=\"sk-top-container\"><div class=\"sk-text-repr-fallback\"><pre>RandomForestClassifier(max_depth=2, random_state=0)</pre><b>In a Jupyter environment, please rerun this cell to show the HTML representation or trust the notebook. <br />On GitHub, the HTML representation is unable to render, please try loading this page with nbviewer.org.</b></div><div class=\"sk-container\" hidden><div class=\"sk-item\"><div class=\"sk-estimator sk-toggleable\"><input class=\"sk-toggleable__control sk-hidden--visually\" id=\"sk-estimator-id-5\" type=\"checkbox\" checked><label for=\"sk-estimator-id-5\" class=\"sk-toggleable__label sk-toggleable__label-arrow\">RandomForestClassifier</label><div class=\"sk-toggleable__content\"><pre>RandomForestClassifier(max_depth=2, random_state=0)</pre></div></div></div></div></div>"
      ],
      "text/plain": [
       "RandomForestClassifier(max_depth=2, random_state=0)"
      ]
     },
     "execution_count": 87,
     "metadata": {},
     "output_type": "execute_result"
    }
   ],
   "source": [
    "model = RandomForestClassifier(max_depth=2, random_state=0)\n",
    "model.fit(df_cut[['Growth','Weight']].values.reshape(-1, 2), y = df_cut['Sex'].values)"
   ]
  },
  {
   "cell_type": "code",
   "execution_count": 89,
   "id": "923a81fb",
   "metadata": {},
   "outputs": [],
   "source": [
    "result = model.predict_proba(df_test_cut[['Growth','Weight']].values.reshape(-1, 2))"
   ]
  },
  {
   "cell_type": "code",
   "execution_count": 90,
   "id": "86ae109b",
   "metadata": {},
   "outputs": [
    {
     "data": {
      "text/html": [
       "<div>\n",
       "<style scoped>\n",
       "    .dataframe tbody tr th:only-of-type {\n",
       "        vertical-align: middle;\n",
       "    }\n",
       "\n",
       "    .dataframe tbody tr th {\n",
       "        vertical-align: top;\n",
       "    }\n",
       "\n",
       "    .dataframe thead th {\n",
       "        text-align: right;\n",
       "    }\n",
       "</style>\n",
       "<table border=\"1\" class=\"dataframe\">\n",
       "  <thead>\n",
       "    <tr style=\"text-align: right;\">\n",
       "      <th></th>\n",
       "      <th>Growth</th>\n",
       "      <th>Weight</th>\n",
       "      <th>Sex</th>\n",
       "      <th>pr 1</th>\n",
       "      <th>pr 0</th>\n",
       "    </tr>\n",
       "  </thead>\n",
       "  <tbody>\n",
       "    <tr>\n",
       "      <th>0</th>\n",
       "      <td>170</td>\n",
       "      <td>64.0</td>\n",
       "      <td>женский</td>\n",
       "      <td>0.310752</td>\n",
       "      <td>0.689248</td>\n",
       "    </tr>\n",
       "    <tr>\n",
       "      <th>1</th>\n",
       "      <td>191</td>\n",
       "      <td>73.0</td>\n",
       "      <td>мужской</td>\n",
       "      <td>0.811703</td>\n",
       "      <td>0.188297</td>\n",
       "    </tr>\n",
       "    <tr>\n",
       "      <th>2</th>\n",
       "      <td>172</td>\n",
       "      <td>60.0</td>\n",
       "      <td>мужской</td>\n",
       "      <td>0.516035</td>\n",
       "      <td>0.483965</td>\n",
       "    </tr>\n",
       "    <tr>\n",
       "      <th>3</th>\n",
       "      <td>168</td>\n",
       "      <td>59.0</td>\n",
       "      <td>женский</td>\n",
       "      <td>0.083691</td>\n",
       "      <td>0.916309</td>\n",
       "    </tr>\n",
       "    <tr>\n",
       "      <th>4</th>\n",
       "      <td>159</td>\n",
       "      <td>57.0</td>\n",
       "      <td>женский</td>\n",
       "      <td>0.076490</td>\n",
       "      <td>0.923510</td>\n",
       "    </tr>\n",
       "  </tbody>\n",
       "</table>\n",
       "</div>"
      ],
      "text/plain": [
       "   Growth  Weight      Sex      pr 1      pr 0\n",
       "0     170    64.0  женский  0.310752  0.689248\n",
       "1     191    73.0  мужской  0.811703  0.188297\n",
       "2     172    60.0  мужской  0.516035  0.483965\n",
       "3     168    59.0  женский  0.083691  0.916309\n",
       "4     159    57.0  женский  0.076490  0.923510"
      ]
     },
     "execution_count": 90,
     "metadata": {},
     "output_type": "execute_result"
    }
   ],
   "source": [
    "df_test_cut['pr 1'] = result[:, 1]\n",
    "df_test_cut['pr 0'] = result[:, 0]\n",
    "df_test_cut.head()"
   ]
  },
  {
   "cell_type": "code",
   "execution_count": 94,
   "id": "203f6ef8",
   "metadata": {},
   "outputs": [
    {
     "data": {
      "text/html": [
       "<div>\n",
       "<style scoped>\n",
       "    .dataframe tbody tr th:only-of-type {\n",
       "        vertical-align: middle;\n",
       "    }\n",
       "\n",
       "    .dataframe tbody tr th {\n",
       "        vertical-align: top;\n",
       "    }\n",
       "\n",
       "    .dataframe thead th {\n",
       "        text-align: right;\n",
       "    }\n",
       "</style>\n",
       "<table border=\"1\" class=\"dataframe\">\n",
       "  <thead>\n",
       "    <tr style=\"text-align: right;\">\n",
       "      <th></th>\n",
       "      <th>Growth</th>\n",
       "      <th>Weight</th>\n",
       "      <th>Sex</th>\n",
       "      <th>pr 1</th>\n",
       "      <th>pr 0</th>\n",
       "    </tr>\n",
       "  </thead>\n",
       "  <tbody>\n",
       "    <tr>\n",
       "      <th>103</th>\n",
       "      <td>197</td>\n",
       "      <td>100.0</td>\n",
       "      <td>мужской</td>\n",
       "      <td>0.914950</td>\n",
       "      <td>0.085050</td>\n",
       "    </tr>\n",
       "    <tr>\n",
       "      <th>73</th>\n",
       "      <td>187</td>\n",
       "      <td>100.0</td>\n",
       "      <td>мужской</td>\n",
       "      <td>0.914950</td>\n",
       "      <td>0.085050</td>\n",
       "    </tr>\n",
       "    <tr>\n",
       "      <th>105</th>\n",
       "      <td>187</td>\n",
       "      <td>98.0</td>\n",
       "      <td>мужской</td>\n",
       "      <td>0.914950</td>\n",
       "      <td>0.085050</td>\n",
       "    </tr>\n",
       "    <tr>\n",
       "      <th>20</th>\n",
       "      <td>186</td>\n",
       "      <td>93.0</td>\n",
       "      <td>мужской</td>\n",
       "      <td>0.914950</td>\n",
       "      <td>0.085050</td>\n",
       "    </tr>\n",
       "    <tr>\n",
       "      <th>33</th>\n",
       "      <td>188</td>\n",
       "      <td>95.0</td>\n",
       "      <td>мужской</td>\n",
       "      <td>0.914950</td>\n",
       "      <td>0.085050</td>\n",
       "    </tr>\n",
       "    <tr>\n",
       "      <th>125</th>\n",
       "      <td>187</td>\n",
       "      <td>92.0</td>\n",
       "      <td>мужской</td>\n",
       "      <td>0.911950</td>\n",
       "      <td>0.088050</td>\n",
       "    </tr>\n",
       "    <tr>\n",
       "      <th>11</th>\n",
       "      <td>183</td>\n",
       "      <td>98.0</td>\n",
       "      <td>мужской</td>\n",
       "      <td>0.909403</td>\n",
       "      <td>0.090597</td>\n",
       "    </tr>\n",
       "    <tr>\n",
       "      <th>69</th>\n",
       "      <td>181</td>\n",
       "      <td>105.0</td>\n",
       "      <td>мужской</td>\n",
       "      <td>0.909403</td>\n",
       "      <td>0.090597</td>\n",
       "    </tr>\n",
       "    <tr>\n",
       "      <th>145</th>\n",
       "      <td>184</td>\n",
       "      <td>92.0</td>\n",
       "      <td>мужской</td>\n",
       "      <td>0.906403</td>\n",
       "      <td>0.093597</td>\n",
       "    </tr>\n",
       "    <tr>\n",
       "      <th>55</th>\n",
       "      <td>180</td>\n",
       "      <td>92.0</td>\n",
       "      <td>мужской</td>\n",
       "      <td>0.884491</td>\n",
       "      <td>0.115509</td>\n",
       "    </tr>\n",
       "  </tbody>\n",
       "</table>\n",
       "</div>"
      ],
      "text/plain": [
       "     Growth  Weight      Sex      pr 1      pr 0\n",
       "103     197   100.0  мужской  0.914950  0.085050\n",
       "73      187   100.0  мужской  0.914950  0.085050\n",
       "105     187    98.0  мужской  0.914950  0.085050\n",
       "20      186    93.0  мужской  0.914950  0.085050\n",
       "33      188    95.0  мужской  0.914950  0.085050\n",
       "125     187    92.0  мужской  0.911950  0.088050\n",
       "11      183    98.0  мужской  0.909403  0.090597\n",
       "69      181   105.0  мужской  0.909403  0.090597\n",
       "145     184    92.0  мужской  0.906403  0.093597\n",
       "55      180    92.0  мужской  0.884491  0.115509"
      ]
     },
     "execution_count": 94,
     "metadata": {},
     "output_type": "execute_result"
    }
   ],
   "source": [
    "df_test_cut.sort_values(by='pr 1', ascending=False).head(10)"
   ]
  },
  {
   "cell_type": "code",
   "execution_count": 99,
   "id": "3afc360b",
   "metadata": {},
   "outputs": [
    {
     "data": {
      "text/html": [
       "<div>\n",
       "<style scoped>\n",
       "    .dataframe tbody tr th:only-of-type {\n",
       "        vertical-align: middle;\n",
       "    }\n",
       "\n",
       "    .dataframe tbody tr th {\n",
       "        vertical-align: top;\n",
       "    }\n",
       "\n",
       "    .dataframe thead th {\n",
       "        text-align: right;\n",
       "    }\n",
       "</style>\n",
       "<table border=\"1\" class=\"dataframe\">\n",
       "  <thead>\n",
       "    <tr style=\"text-align: right;\">\n",
       "      <th></th>\n",
       "      <th>Growth</th>\n",
       "      <th>Weight</th>\n",
       "      <th>Sex</th>\n",
       "      <th>pr 1</th>\n",
       "      <th>pr 0</th>\n",
       "    </tr>\n",
       "  </thead>\n",
       "  <tbody>\n",
       "    <tr>\n",
       "      <th>1</th>\n",
       "      <td>191</td>\n",
       "      <td>73.0</td>\n",
       "      <td>мужской</td>\n",
       "      <td>0.811703</td>\n",
       "      <td>0.188297</td>\n",
       "    </tr>\n",
       "    <tr>\n",
       "      <th>27</th>\n",
       "      <td>193</td>\n",
       "      <td>61.0</td>\n",
       "      <td>мужской</td>\n",
       "      <td>0.770215</td>\n",
       "      <td>0.229785</td>\n",
       "    </tr>\n",
       "    <tr>\n",
       "      <th>103</th>\n",
       "      <td>197</td>\n",
       "      <td>100.0</td>\n",
       "      <td>мужской</td>\n",
       "      <td>0.914950</td>\n",
       "      <td>0.085050</td>\n",
       "    </tr>\n",
       "  </tbody>\n",
       "</table>\n",
       "</div>"
      ],
      "text/plain": [
       "     Growth  Weight      Sex      pr 1      pr 0\n",
       "1       191    73.0  мужской  0.811703  0.188297\n",
       "27      193    61.0  мужской  0.770215  0.229785\n",
       "103     197   100.0  мужской  0.914950  0.085050"
      ]
     },
     "execution_count": 99,
     "metadata": {},
     "output_type": "execute_result"
    }
   ],
   "source": [
    "df_test_cut.loc[df_test_cut['Growth'] > 190]"
   ]
  },
  {
   "cell_type": "code",
   "execution_count": 100,
   "id": "0bb29f78",
   "metadata": {},
   "outputs": [
    {
     "data": {
      "text/html": [
       "<div>\n",
       "<style scoped>\n",
       "    .dataframe tbody tr th:only-of-type {\n",
       "        vertical-align: middle;\n",
       "    }\n",
       "\n",
       "    .dataframe tbody tr th {\n",
       "        vertical-align: top;\n",
       "    }\n",
       "\n",
       "    .dataframe thead th {\n",
       "        text-align: right;\n",
       "    }\n",
       "</style>\n",
       "<table border=\"1\" class=\"dataframe\">\n",
       "  <thead>\n",
       "    <tr style=\"text-align: right;\">\n",
       "      <th></th>\n",
       "      <th>Growth</th>\n",
       "      <th>Weight</th>\n",
       "      <th>Sex</th>\n",
       "      <th>pr 1</th>\n",
       "      <th>pr 0</th>\n",
       "    </tr>\n",
       "  </thead>\n",
       "  <tbody>\n",
       "    <tr>\n",
       "      <th>52</th>\n",
       "      <td>163</td>\n",
       "      <td>53.0</td>\n",
       "      <td>женский</td>\n",
       "      <td>0.05692</td>\n",
       "      <td>0.94308</td>\n",
       "    </tr>\n",
       "    <tr>\n",
       "      <th>171</th>\n",
       "      <td>162</td>\n",
       "      <td>50.0</td>\n",
       "      <td>женский</td>\n",
       "      <td>0.05692</td>\n",
       "      <td>0.94308</td>\n",
       "    </tr>\n",
       "    <tr>\n",
       "      <th>168</th>\n",
       "      <td>161</td>\n",
       "      <td>52.0</td>\n",
       "      <td>женский</td>\n",
       "      <td>0.05692</td>\n",
       "      <td>0.94308</td>\n",
       "    </tr>\n",
       "    <tr>\n",
       "      <th>166</th>\n",
       "      <td>161</td>\n",
       "      <td>53.0</td>\n",
       "      <td>женский</td>\n",
       "      <td>0.05692</td>\n",
       "      <td>0.94308</td>\n",
       "    </tr>\n",
       "    <tr>\n",
       "      <th>162</th>\n",
       "      <td>160</td>\n",
       "      <td>50.0</td>\n",
       "      <td>женский</td>\n",
       "      <td>0.05692</td>\n",
       "      <td>0.94308</td>\n",
       "    </tr>\n",
       "    <tr>\n",
       "      <th>38</th>\n",
       "      <td>162</td>\n",
       "      <td>53.0</td>\n",
       "      <td>женский</td>\n",
       "      <td>0.05692</td>\n",
       "      <td>0.94308</td>\n",
       "    </tr>\n",
       "    <tr>\n",
       "      <th>176</th>\n",
       "      <td>162</td>\n",
       "      <td>52.0</td>\n",
       "      <td>женский</td>\n",
       "      <td>0.05692</td>\n",
       "      <td>0.94308</td>\n",
       "    </tr>\n",
       "    <tr>\n",
       "      <th>143</th>\n",
       "      <td>160</td>\n",
       "      <td>52.0</td>\n",
       "      <td>женский</td>\n",
       "      <td>0.05692</td>\n",
       "      <td>0.94308</td>\n",
       "    </tr>\n",
       "    <tr>\n",
       "      <th>169</th>\n",
       "      <td>160</td>\n",
       "      <td>50.0</td>\n",
       "      <td>женский</td>\n",
       "      <td>0.05692</td>\n",
       "      <td>0.94308</td>\n",
       "    </tr>\n",
       "    <tr>\n",
       "      <th>131</th>\n",
       "      <td>162</td>\n",
       "      <td>52.0</td>\n",
       "      <td>женский</td>\n",
       "      <td>0.05692</td>\n",
       "      <td>0.94308</td>\n",
       "    </tr>\n",
       "  </tbody>\n",
       "</table>\n",
       "</div>"
      ],
      "text/plain": [
       "     Growth  Weight      Sex     pr 1     pr 0\n",
       "52      163    53.0  женский  0.05692  0.94308\n",
       "171     162    50.0  женский  0.05692  0.94308\n",
       "168     161    52.0  женский  0.05692  0.94308\n",
       "166     161    53.0  женский  0.05692  0.94308\n",
       "162     160    50.0  женский  0.05692  0.94308\n",
       "38      162    53.0  женский  0.05692  0.94308\n",
       "176     162    52.0  женский  0.05692  0.94308\n",
       "143     160    52.0  женский  0.05692  0.94308\n",
       "169     160    50.0  женский  0.05692  0.94308\n",
       "131     162    52.0  женский  0.05692  0.94308"
      ]
     },
     "execution_count": 100,
     "metadata": {},
     "output_type": "execute_result"
    }
   ],
   "source": [
    "df_test_cut.sort_values(by='pr 0', ascending=False).head(10)"
   ]
  },
  {
   "cell_type": "markdown",
   "id": "a97110a2",
   "metadata": {},
   "source": [
    "Селекция данных"
   ]
  },
  {
   "cell_type": "code",
   "execution_count": 127,
   "id": "2451a07a",
   "metadata": {},
   "outputs": [],
   "source": [
    "from sklearn import tree\n",
    "from sklearn import preprocessing"
   ]
  },
  {
   "cell_type": "code",
   "execution_count": 128,
   "id": "46665177",
   "metadata": {},
   "outputs": [],
   "source": [
    "coder = preprocessing.LabelEncoder()"
   ]
  },
  {
   "cell_type": "code",
   "execution_count": 129,
   "id": "fd6d5af4",
   "metadata": {},
   "outputs": [],
   "source": [
    "for name in ['Sex','Coin','Animal','Army','Glasses','Your rating in university',\n",
    "             'Fastfood','Hostel','Chocolate','Brother-sister','Plane seat','Problems in last semester',\n",
    "             'Rock paper scissors','Strange people','Your insitute']:\n",
    "  coder.fit(df[name])\n",
    "  df[name]=coder.transform(df[name])"
   ]
  },
  {
   "cell_type": "code",
   "execution_count": 130,
   "id": "99ed95d3",
   "metadata": {},
   "outputs": [
    {
     "name": "stdout",
     "output_type": "stream",
     "text": [
      "<class 'pandas.core.frame.DataFrame'>\n",
      "Int64Index: 118 entries, 0 to 185\n",
      "Data columns (total 48 columns):\n",
      " #   Column                       Non-Null Count  Dtype  \n",
      "---  ------                       --------------  -----  \n",
      " 0   Age                          118 non-null    int64  \n",
      " 1   Growth                       118 non-null    int64  \n",
      " 2   Shoe size                    118 non-null    int64  \n",
      " 3   Course number                118 non-null    int64  \n",
      " 4   Year of birth                118 non-null    int64  \n",
      " 5   Friend number                118 non-null    int64  \n",
      " 6   Russian rating               118 non-null    int64  \n",
      " 7   Maths rating                 118 non-null    int64  \n",
      " 8   Physics rating               118 non-null    int64  \n",
      " 9   Computer science rating      118 non-null    int64  \n",
      " 10  Chemistry rating             118 non-null    int64  \n",
      " 11  Literature rating            118 non-null    int64  \n",
      " 12  History rating               118 non-null    int64  \n",
      " 13  Geography rating             118 non-null    int64  \n",
      " 14  Biology rating               118 non-null    int64  \n",
      " 15  Foreign language rating      118 non-null    int64  \n",
      " 16  Social science rating        118 non-null    int64  \n",
      " 17  Distance to home km          118 non-null    int64  \n",
      " 18  Minutes to first class       118 non-null    int64  \n",
      " 19  Children number              118 non-null    float64\n",
      " 20  Removed teeth                118 non-null    float64\n",
      " 21  Weight                       118 non-null    float64\n",
      " 22  Glasses                      118 non-null    int32  \n",
      " 23  Sex                          118 non-null    int32  \n",
      " 24  Problems in last semester    118 non-null    int32  \n",
      " 25  Coin                         118 non-null    int32  \n",
      " 26  Rock paper scissors          118 non-null    int32  \n",
      " 27  Animal                       118 non-null    int32  \n",
      " 28  Month of birthday            118 non-null    int64  \n",
      " 29  Your rating in university    118 non-null    int32  \n",
      " 30  Fastfood                     118 non-null    int32  \n",
      " 31  Height of 5000 mm            118 non-null    int64  \n",
      " 32  Width of 5000 mm             118 non-null    int64  \n",
      " 33  Putin age                    118 non-null    int64  \n",
      " 34  Army                         118 non-null    int32  \n",
      " 35  Hostel                       118 non-null    int32  \n",
      " 36  Hair length                  118 non-null    float64\n",
      " 37  Floor number                 118 non-null    int64  \n",
      " 38  Social network duration min  118 non-null    int64  \n",
      " 39  Chocolate                    118 non-null    int32  \n",
      " 40  City population              118 non-null    float64\n",
      " 41  Strange people               118 non-null    int32  \n",
      " 42  Your insitute                118 non-null    int32  \n",
      " 43  Brother-sister               118 non-null    int32  \n",
      " 44  Plane seat                   118 non-null    int32  \n",
      " 45  MIddle and index finger      118 non-null    int64  \n",
      " 46  Middle and ring finger       118 non-null    float64\n",
      " 47  Middle and little finger     118 non-null    float64\n",
      "dtypes: float64(7), int32(15), int64(26)\n",
      "memory usage: 38.3 KB\n"
     ]
    }
   ],
   "source": [
    "df = df.dropna()\n",
    "df.info()"
   ]
  },
  {
   "cell_type": "markdown",
   "id": "d3037acb",
   "metadata": {},
   "source": [
    "Значимость признака"
   ]
  },
  {
   "cell_type": "code",
   "execution_count": 131,
   "id": "f769a643",
   "metadata": {},
   "outputs": [
    {
     "data": {
      "text/plain": [
       "array([0.01353437, 0.01683131, 0.01689986, 0.01077217, 0.01401292,\n",
       "       0.01463765, 0.01313791, 0.05964646, 0.00923425, 0.08852584,\n",
       "       0.00990317, 0.02340848, 0.04951711, 0.01419599, 0.014819  ,\n",
       "       0.02091177, 0.06574349, 0.01171137, 0.00924161, 0.01463376,\n",
       "       0.00697539, 0.01062283, 0.01270466, 0.01233572, 0.00674255,\n",
       "       0.01045419, 0.00900267, 0.00925301, 0.01268337, 0.00359416,\n",
       "       0.009652  , 0.01375877, 0.01535638, 0.01041356, 0.00640229,\n",
       "       0.00418196, 0.01658135, 0.0110332 , 0.01334112, 0.01653402,\n",
       "       0.01063536, 0.01427725, 0.21887554, 0.00928079, 0.00949079,\n",
       "       0.01348834, 0.01161028, 0.00939996])"
      ]
     },
     "execution_count": 131,
     "metadata": {},
     "output_type": "execute_result"
    }
   ],
   "source": [
    "from sklearn.ensemble import ExtraTreesClassifier\n",
    "selector=ExtraTreesClassifier()\n",
    "result=selector.fit(df[df.columns], df['Your insitute'])\n",
    "result.feature_importances_  "
   ]
  },
  {
   "cell_type": "code",
   "execution_count": 132,
   "id": "edd29ae9",
   "metadata": {},
   "outputs": [
    {
     "data": {
      "text/html": [
       "<div>\n",
       "<style scoped>\n",
       "    .dataframe tbody tr th:only-of-type {\n",
       "        vertical-align: middle;\n",
       "    }\n",
       "\n",
       "    .dataframe tbody tr th {\n",
       "        vertical-align: top;\n",
       "    }\n",
       "\n",
       "    .dataframe thead th {\n",
       "        text-align: right;\n",
       "    }\n",
       "</style>\n",
       "<table border=\"1\" class=\"dataframe\">\n",
       "  <thead>\n",
       "    <tr style=\"text-align: right;\">\n",
       "      <th></th>\n",
       "      <th>importance</th>\n",
       "    </tr>\n",
       "  </thead>\n",
       "  <tbody>\n",
       "    <tr>\n",
       "      <th>Your insitute</th>\n",
       "      <td>0.218876</td>\n",
       "    </tr>\n",
       "    <tr>\n",
       "      <th>Computer science rating</th>\n",
       "      <td>0.088526</td>\n",
       "    </tr>\n",
       "    <tr>\n",
       "      <th>Social science rating</th>\n",
       "      <td>0.065743</td>\n",
       "    </tr>\n",
       "    <tr>\n",
       "      <th>Maths rating</th>\n",
       "      <td>0.059646</td>\n",
       "    </tr>\n",
       "    <tr>\n",
       "      <th>History rating</th>\n",
       "      <td>0.049517</td>\n",
       "    </tr>\n",
       "    <tr>\n",
       "      <th>Literature rating</th>\n",
       "      <td>0.023408</td>\n",
       "    </tr>\n",
       "    <tr>\n",
       "      <th>Foreign language rating</th>\n",
       "      <td>0.020912</td>\n",
       "    </tr>\n",
       "    <tr>\n",
       "      <th>Shoe size</th>\n",
       "      <td>0.016900</td>\n",
       "    </tr>\n",
       "    <tr>\n",
       "      <th>Growth</th>\n",
       "      <td>0.016831</td>\n",
       "    </tr>\n",
       "    <tr>\n",
       "      <th>Hair length</th>\n",
       "      <td>0.016581</td>\n",
       "    </tr>\n",
       "    <tr>\n",
       "      <th>Chocolate</th>\n",
       "      <td>0.016534</td>\n",
       "    </tr>\n",
       "    <tr>\n",
       "      <th>Width of 5000 mm</th>\n",
       "      <td>0.015356</td>\n",
       "    </tr>\n",
       "    <tr>\n",
       "      <th>Biology rating</th>\n",
       "      <td>0.014819</td>\n",
       "    </tr>\n",
       "    <tr>\n",
       "      <th>Friend number</th>\n",
       "      <td>0.014638</td>\n",
       "    </tr>\n",
       "    <tr>\n",
       "      <th>Children number</th>\n",
       "      <td>0.014634</td>\n",
       "    </tr>\n",
       "    <tr>\n",
       "      <th>Strange people</th>\n",
       "      <td>0.014277</td>\n",
       "    </tr>\n",
       "    <tr>\n",
       "      <th>Geography rating</th>\n",
       "      <td>0.014196</td>\n",
       "    </tr>\n",
       "    <tr>\n",
       "      <th>Year of birth</th>\n",
       "      <td>0.014013</td>\n",
       "    </tr>\n",
       "    <tr>\n",
       "      <th>Height of 5000 mm</th>\n",
       "      <td>0.013759</td>\n",
       "    </tr>\n",
       "    <tr>\n",
       "      <th>Age</th>\n",
       "      <td>0.013534</td>\n",
       "    </tr>\n",
       "    <tr>\n",
       "      <th>MIddle and index finger</th>\n",
       "      <td>0.013488</td>\n",
       "    </tr>\n",
       "    <tr>\n",
       "      <th>Social network duration min</th>\n",
       "      <td>0.013341</td>\n",
       "    </tr>\n",
       "    <tr>\n",
       "      <th>Russian rating</th>\n",
       "      <td>0.013138</td>\n",
       "    </tr>\n",
       "    <tr>\n",
       "      <th>Glasses</th>\n",
       "      <td>0.012705</td>\n",
       "    </tr>\n",
       "    <tr>\n",
       "      <th>Month of birthday</th>\n",
       "      <td>0.012683</td>\n",
       "    </tr>\n",
       "    <tr>\n",
       "      <th>Sex</th>\n",
       "      <td>0.012336</td>\n",
       "    </tr>\n",
       "    <tr>\n",
       "      <th>Distance to home km</th>\n",
       "      <td>0.011711</td>\n",
       "    </tr>\n",
       "    <tr>\n",
       "      <th>Middle and ring finger</th>\n",
       "      <td>0.011610</td>\n",
       "    </tr>\n",
       "    <tr>\n",
       "      <th>Floor number</th>\n",
       "      <td>0.011033</td>\n",
       "    </tr>\n",
       "    <tr>\n",
       "      <th>Course number</th>\n",
       "      <td>0.010772</td>\n",
       "    </tr>\n",
       "    <tr>\n",
       "      <th>City population</th>\n",
       "      <td>0.010635</td>\n",
       "    </tr>\n",
       "    <tr>\n",
       "      <th>Weight</th>\n",
       "      <td>0.010623</td>\n",
       "    </tr>\n",
       "    <tr>\n",
       "      <th>Coin</th>\n",
       "      <td>0.010454</td>\n",
       "    </tr>\n",
       "    <tr>\n",
       "      <th>Putin age</th>\n",
       "      <td>0.010414</td>\n",
       "    </tr>\n",
       "    <tr>\n",
       "      <th>Chemistry rating</th>\n",
       "      <td>0.009903</td>\n",
       "    </tr>\n",
       "    <tr>\n",
       "      <th>Fastfood</th>\n",
       "      <td>0.009652</td>\n",
       "    </tr>\n",
       "    <tr>\n",
       "      <th>Plane seat</th>\n",
       "      <td>0.009491</td>\n",
       "    </tr>\n",
       "    <tr>\n",
       "      <th>Middle and little finger</th>\n",
       "      <td>0.009400</td>\n",
       "    </tr>\n",
       "    <tr>\n",
       "      <th>Brother-sister</th>\n",
       "      <td>0.009281</td>\n",
       "    </tr>\n",
       "    <tr>\n",
       "      <th>Animal</th>\n",
       "      <td>0.009253</td>\n",
       "    </tr>\n",
       "    <tr>\n",
       "      <th>Minutes to first class</th>\n",
       "      <td>0.009242</td>\n",
       "    </tr>\n",
       "    <tr>\n",
       "      <th>Physics rating</th>\n",
       "      <td>0.009234</td>\n",
       "    </tr>\n",
       "    <tr>\n",
       "      <th>Rock paper scissors</th>\n",
       "      <td>0.009003</td>\n",
       "    </tr>\n",
       "    <tr>\n",
       "      <th>Removed teeth</th>\n",
       "      <td>0.006975</td>\n",
       "    </tr>\n",
       "    <tr>\n",
       "      <th>Problems in last semester</th>\n",
       "      <td>0.006743</td>\n",
       "    </tr>\n",
       "    <tr>\n",
       "      <th>Army</th>\n",
       "      <td>0.006402</td>\n",
       "    </tr>\n",
       "    <tr>\n",
       "      <th>Hostel</th>\n",
       "      <td>0.004182</td>\n",
       "    </tr>\n",
       "    <tr>\n",
       "      <th>Your rating in university</th>\n",
       "      <td>0.003594</td>\n",
       "    </tr>\n",
       "  </tbody>\n",
       "</table>\n",
       "</div>"
      ],
      "text/plain": [
       "                             importance\n",
       "Your insitute                  0.218876\n",
       "Computer science rating        0.088526\n",
       "Social science rating          0.065743\n",
       "Maths rating                   0.059646\n",
       "History rating                 0.049517\n",
       "Literature rating              0.023408\n",
       "Foreign language rating        0.020912\n",
       "Shoe size                      0.016900\n",
       "Growth                         0.016831\n",
       "Hair length                    0.016581\n",
       "Chocolate                      0.016534\n",
       "Width of 5000 mm               0.015356\n",
       "Biology rating                 0.014819\n",
       "Friend number                  0.014638\n",
       "Children number                0.014634\n",
       "Strange people                 0.014277\n",
       "Geography rating               0.014196\n",
       "Year of birth                  0.014013\n",
       "Height of 5000 mm              0.013759\n",
       "Age                            0.013534\n",
       "MIddle and index finger        0.013488\n",
       "Social network duration min    0.013341\n",
       "Russian rating                 0.013138\n",
       "Glasses                        0.012705\n",
       "Month of birthday              0.012683\n",
       "Sex                            0.012336\n",
       "Distance to home km            0.011711\n",
       "Middle and ring finger         0.011610\n",
       "Floor number                   0.011033\n",
       "Course number                  0.010772\n",
       "City population                0.010635\n",
       "Weight                         0.010623\n",
       "Coin                           0.010454\n",
       "Putin age                      0.010414\n",
       "Chemistry rating               0.009903\n",
       "Fastfood                       0.009652\n",
       "Plane seat                     0.009491\n",
       "Middle and little finger       0.009400\n",
       "Brother-sister                 0.009281\n",
       "Animal                         0.009253\n",
       "Minutes to first class         0.009242\n",
       "Physics rating                 0.009234\n",
       "Rock paper scissors            0.009003\n",
       "Removed teeth                  0.006975\n",
       "Problems in last semester      0.006743\n",
       "Army                           0.006402\n",
       "Hostel                         0.004182\n",
       "Your rating in university      0.003594"
      ]
     },
     "execution_count": 132,
     "metadata": {},
     "output_type": "execute_result"
    }
   ],
   "source": [
    "features_table= pd.DataFrame(result.feature_importances_, index =df.columns,\n",
    "                                              columns =['importance'])\n",
    "features_table.sort_values(by='importance', ascending=False)"
   ]
  },
  {
   "cell_type": "code",
   "execution_count": null,
   "id": "c2ad574b",
   "metadata": {},
   "outputs": [],
   "source": []
  }
 ],
 "metadata": {
  "kernelspec": {
   "display_name": "Python 3 (ipykernel)",
   "language": "python",
   "name": "python3"
  },
  "language_info": {
   "codemirror_mode": {
    "name": "ipython",
    "version": 3
   },
   "file_extension": ".py",
   "mimetype": "text/x-python",
   "name": "python",
   "nbconvert_exporter": "python",
   "pygments_lexer": "ipython3",
   "version": "3.9.15"
  }
 },
 "nbformat": 4,
 "nbformat_minor": 5
}
