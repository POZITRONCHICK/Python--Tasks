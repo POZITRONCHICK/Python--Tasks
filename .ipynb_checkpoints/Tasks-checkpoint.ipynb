{
 "cells": [
  {
   "cell_type": "code",
   "execution_count": 38,
   "id": "15804511",
   "metadata": {},
   "outputs": [],
   "source": [
    "# запись в переменную status данных из списка с условием\n",
    "worker = ['Olya', 'Silyutina', 350000, 3]\n",
    "\n",
    "if worker[3] < 2:\n",
    "    position = 'junior'\n",
    "elif 2 <= worker[3] <= 5:\n",
    "    position = 'middle'\n",
    "else:\n",
    "    position = 'senior'\n",
    "\n",
    "status = worker[0] + ' ' + worker[1] + ' ' + 'is' + ' ' + position"
   ]
  },
  {
   "cell_type": "code",
   "execution_count": 37,
   "id": "69091962",
   "metadata": {},
   "outputs": [
    {
     "name": "stdout",
     "output_type": "stream",
     "text": [
      "Ivan Ivanov is middle\n",
      "Petr Petrov is middle\n",
      "Sidor Sidorov is middle\n"
     ]
    }
   ],
   "source": [
    "# запись в переменную status данных из матрицы с условием\n",
    "workers = [['Ivan', 'Ivanov', 100000, 2], ['Petr', 'Petrov', 150000, 2], ['Sidor', 'Sidorov', 200000, 3]]\n",
    "\n",
    "status = '{name} {family} is {position}'\n",
    "\n",
    "for i in workers:\n",
    "    if i[3] < 2:\n",
    "        pos = 'junior'\n",
    "    elif 2 <= i[3] <= 5:\n",
    "        pos = 'middle'\n",
    "    else:\n",
    "        pos = 'senior'\n",
    "    print(status.format(name=i[0], family=i[1], position=pos))"
   ]
  },
  {
   "cell_type": "code",
   "execution_count": null,
   "id": "6db5deda",
   "metadata": {},
   "outputs": [],
   "source": []
  }
 ],
 "metadata": {
  "kernelspec": {
   "display_name": "Python 3 (ipykernel)",
   "language": "python",
   "name": "python3"
  },
  "language_info": {
   "codemirror_mode": {
    "name": "ipython",
    "version": 3
   },
   "file_extension": ".py",
   "mimetype": "text/x-python",
   "name": "python",
   "nbconvert_exporter": "python",
   "pygments_lexer": "ipython3",
   "version": "3.9.15"
  }
 },
 "nbformat": 4,
 "nbformat_minor": 5
}
