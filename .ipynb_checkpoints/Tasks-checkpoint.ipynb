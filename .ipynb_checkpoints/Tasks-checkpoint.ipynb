{
 "cells": [
  {
   "cell_type": "code",
   "execution_count": 38,
   "id": "15804511",
   "metadata": {},
   "outputs": [],
   "source": [
    "# запись в переменную status данных из списка с условием\n",
    "worker = ['Olya', 'Silyutina', 350000, 3]\n",
    "\n",
    "if worker[3] < 2:\n",
    "    position = 'junior'\n",
    "elif 2 <= worker[3] <= 5:\n",
    "    position = 'middle'\n",
    "else:\n",
    "    position = 'senior'\n",
    "\n",
    "status = worker[0] + ' ' + worker[1] + ' ' + 'is' + ' ' + position"
   ]
  },
  {
   "cell_type": "code",
   "execution_count": 37,
   "id": "69091962",
   "metadata": {},
   "outputs": [
    {
     "name": "stdout",
     "output_type": "stream",
     "text": [
      "Ivan Ivanov is middle\n",
      "Petr Petrov is middle\n",
      "Sidor Sidorov is middle\n"
     ]
    }
   ],
   "source": [
    "# запись в переменную status данных из матрицы с условием\n",
    "workers = [['Ivan', 'Ivanov', 100000, 2], ['Petr', 'Petrov', 150000, 2], ['Sidor', 'Sidorov', 200000, 3]]\n",
    "\n",
    "status = '{name} {family} is {position}'\n",
    "\n",
    "for i in workers:\n",
    "    if i[3] < 2:\n",
    "        pos = 'junior'\n",
    "    elif 2 <= i[3] <= 5:\n",
    "        pos = 'middle'\n",
    "    else:\n",
    "        pos = 'senior'\n",
    "    print(status.format(name=i[0], family=i[1], position=pos))"
   ]
  },
  {
   "cell_type": "code",
   "execution_count": 1,
   "id": "6db5deda",
   "metadata": {},
   "outputs": [
    {
     "name": "stdout",
     "output_type": "stream",
     "text": [
      "2000\n",
      "Високосный\n"
     ]
    }
   ],
   "source": [
    "# Определение високосного года\n",
    "A = int(input())\n",
    "\n",
    "b = A%4\n",
    "c = A%100\n",
    "d = A%400\n",
    "\n",
    "if b == 0:\n",
    "    if d == 0:\n",
    "        print('Високосный')\n",
    "    elif c == 0:\n",
    "        print('Обычный')\n",
    "    else:\n",
    "        print('Високосный')\n",
    "else:\n",
    "    print('Обычный')"
   ]
  },
  {
   "cell_type": "code",
   "execution_count": 2,
   "id": "946782b7",
   "metadata": {},
   "outputs": [
    {
     "name": "stdout",
     "output_type": "stream",
     "text": [
      "2\n",
      "2\n",
      "*\n",
      "4.0\n"
     ]
    }
   ],
   "source": [
    "# Калькулятор, не очень хороший(\n",
    "a = float(input())\n",
    "b = float(input())\n",
    "c = input()\n",
    "\n",
    "if c == '+':\n",
    "    print(a + b)\n",
    "elif c == '-':\n",
    "    print(a - b)\n",
    "elif c == '*':\n",
    "    print(a * b)\n",
    "elif c == '/':\n",
    "    if b == 0:\n",
    "        print('Деление на 0!')\n",
    "    else:\n",
    "        print(a / b)\n",
    "elif c == 'mod':\n",
    "    if b == 0:\n",
    "        print('Деление на 0!')\n",
    "    else:\n",
    "        print(int(a % b))\n",
    "elif c == 'pow':\n",
    "    print(a ** b)\n",
    "elif c == 'div':\n",
    "    if b == 0:\n",
    "        print('Деление на 0!')\n",
    "    else:\n",
    "        print(a // b)"
   ]
  },
  {
   "cell_type": "code",
   "execution_count": 3,
   "id": "94e3c76d",
   "metadata": {},
   "outputs": [
    {
     "name": "stdout",
     "output_type": "stream",
     "text": [
      "треугольник\n",
      "4\n",
      "5\n",
      "7\n",
      "9.797958971132712\n"
     ]
    }
   ],
   "source": [
    "# Расчет площадей\n",
    "a = input()\n",
    "\n",
    "if a == 'треугольник':\n",
    "    b = float(input())\n",
    "    c = float(input())\n",
    "    d = float(input())\n",
    "    \n",
    "    p = (d + b + c)/2\n",
    "    s = (p*(p-d)*(p-b)*(p-c))**0.5\n",
    "    \n",
    "    print(s)\n",
    "elif a == 'прямоугольник':\n",
    "    b = float(input())\n",
    "    c = float(input())\n",
    "    \n",
    "    p = b*c\n",
    "    \n",
    "    print(p)\n",
    "elif a == 'круг':\n",
    "    b = float(input())\n",
    "    \n",
    "    p = b**2*3.14\n",
    "    \n",
    "    print(p)"
   ]
  },
  {
   "cell_type": "code",
   "execution_count": 4,
   "id": "7c37c4f3",
   "metadata": {},
   "outputs": [
    {
     "name": "stdout",
     "output_type": "stream",
     "text": [
      "3\n",
      "5\n",
      "6\n",
      "6\n",
      "3\n",
      "5\n"
     ]
    }
   ],
   "source": [
    "# Максимальное, минимальное числа и остаток(Никогда так делать нельзя!!!!!!)\n",
    "a = int(input())\n",
    "b = int(input())\n",
    "c = int(input())\n",
    "\n",
    "if a >= b >= c:\n",
    "    print(a)\n",
    "    if b == c:\n",
    "        print(b)\n",
    "        print(c)\n",
    "    elif b > c:\n",
    "        print(c)\n",
    "        print(b)\n",
    "    elif c > b:\n",
    "        print(b)\n",
    "        print(c)\n",
    "elif a >= c >= b:\n",
    "    print(a)\n",
    "    if b == c:\n",
    "        print(b)\n",
    "        print(c)\n",
    "    elif b > c:\n",
    "        print(c)\n",
    "        print(b)\n",
    "    elif c > b:\n",
    "        print(b)\n",
    "        print(c)\n",
    "elif b >= a >= c:\n",
    "    print(b)\n",
    "    if a == c:\n",
    "        print(a)\n",
    "        print(c)\n",
    "    elif a > c:\n",
    "        print(c)\n",
    "        print(a)\n",
    "    elif c > a:\n",
    "        print(a)\n",
    "        print(c)\n",
    "elif b >= c >= a:\n",
    "    print(b)\n",
    "    if a == c:\n",
    "        print(a)\n",
    "        print(c)\n",
    "    elif a > c:\n",
    "        print(c)\n",
    "        print(a)\n",
    "    elif c > a:\n",
    "        print(a)\n",
    "        print(c)\n",
    "elif c >= a >= b:\n",
    "    print(c)\n",
    "    if a == b:\n",
    "        print(a)\n",
    "        print(b)\n",
    "    elif a > b:\n",
    "        print(b)\n",
    "        print(a)\n",
    "    elif b > a:\n",
    "        print(a)\n",
    "        print(b)\n",
    "elif c >= b >= a:\n",
    "    print(c)\n",
    "    if a == b:\n",
    "        print(a)\n",
    "        print(b)\n",
    "    elif a > b:\n",
    "        print(b)\n",
    "        print(a)\n",
    "    elif b > a:\n",
    "        print(a)\n",
    "        print(b)\n"
   ]
  },
  {
   "cell_type": "code",
   "execution_count": 5,
   "id": "30b74d39",
   "metadata": {},
   "outputs": [
    {
     "name": "stdout",
     "output_type": "stream",
     "text": [
      "300\n",
      "300 программистов\n"
     ]
    }
   ],
   "source": [
    "# Окончание программистов ;)\n",
    "\n",
    "tp = int(input())\n",
    "\n",
    "if tp < 0:\n",
    "    print('Ошибка, введите положительное число')\n",
    "elif tp % 10 == 1 and tp % 100 != 11: # Формула 1\n",
    "    print(tp, 'программист')\n",
    "elif tp % 10 >= 2 and tp % 10 <= 4 and (tp % 100 < 10 or tp % 100 > 20): # Формула 2\n",
    "    print(tp, 'программиста')\n",
    "else:\n",
    "    print(tp, 'программистов')"
   ]
  },
  {
   "cell_type": "code",
   "execution_count": 6,
   "id": "a5c5ca2a",
   "metadata": {},
   "outputs": [
    {
     "name": "stdout",
     "output_type": "stream",
     "text": [
      "123321\n",
      "Счастливый\n"
     ]
    }
   ],
   "source": [
    "#счастливый билет\n",
    "a = int(input())\n",
    "\n",
    "b = a // 100000 #первое число\n",
    "c = (((((a // 10) % 10000) // 1000) % 100) % 10)\n",
    "d = (((a // 10) % 1000) // 100) % 10\n",
    "e = ((a // 10) % 100) // 10\n",
    "f = (a // 10) % 10\n",
    "g = a % 10 #последнее число\n",
    "\n",
    "h = b + c + d\n",
    "s = e + f + g\n",
    "\n",
    "if h == s:\n",
    "    print('Счастливый')\n",
    "else:\n",
    "    print('Обычный')"
   ]
  },
  {
   "cell_type": "code",
   "execution_count": 7,
   "id": "91cab54d",
   "metadata": {},
   "outputs": [
    {
     "name": "stdout",
     "output_type": "stream",
     "text": [
      "1\n",
      "2\n",
      "3\n",
      "4\n",
      "\t3\t4\n",
      "1\t3\t4\t\n",
      "2\t6\t8\t\n"
     ]
    }
   ],
   "source": [
    "# матрица перемножения\n",
    "a, b, c, d = int(input()), int(input()), int(input()), int(input())\n",
    "\n",
    "for i in range(c, d + 1):\n",
    "    print(\"\\t\" + str(i), end=\"\")\n",
    "\n",
    "print()\n",
    "\n",
    "for i in range(a, b + 1):\n",
    "    print(i, end=\"\\t\")\n",
    "    for n in range(c, d + 1):\n",
    "        print(i * n, end=\"\\t\")\n",
    "    print()"
   ]
  },
  {
   "cell_type": "code",
   "execution_count": 9,
   "id": "45d054fd",
   "metadata": {},
   "outputs": [
    {
     "name": "stdout",
     "output_type": "stream",
     "text": [
      "gsjsmckallf\n",
      "18.181818181818183\n"
     ]
    }
   ],
   "source": [
    "#подсчет процента букв С и G в строке\n",
    "a = input()\n",
    "\n",
    "b = len(a)\n",
    "n = 0\n",
    "\n",
    "for i in a.upper():\n",
    "    if i == 'G' or i == 'C':\n",
    "        n += 1\n",
    "print(n / b * 100)"
   ]
  },
  {
   "cell_type": "code",
   "execution_count": 10,
   "id": "6a1f1eb2",
   "metadata": {},
   "outputs": [
    {
     "name": "stdout",
     "output_type": "stream",
     "text": [
      "asmsnanaa\n",
      "No\n"
     ]
    }
   ],
   "source": [
    "#полиндром\n",
    "a = input()\n",
    "\n",
    "if a == a[::-1]:\n",
    "    print('Yes')\n",
    "else:\n",
    "    print('No')"
   ]
  },
  {
   "cell_type": "code",
   "execution_count": 11,
   "id": "8eaa1e45",
   "metadata": {},
   "outputs": [
    {
     "name": "stdout",
     "output_type": "stream",
     "text": [
      "уоочфббвф\n",
      "у1о2ч1ф1б2в1ф1\n"
     ]
    }
   ],
   "source": [
    "# кодировка букв по принципу: 'буква''количество'\n",
    "s = input()\n",
    "lett = s[0]\n",
    "c = 1\n",
    "result = ''\n",
    "for i in range(1, len(s)):\n",
    "    if s[i] == lett:\n",
    "        c += 1\n",
    "    else:\n",
    "        result += lett + str(c)\n",
    "        c = 1\n",
    "        lett = s[i]\n",
    "               \n",
    "print(result + lett + str(c))"
   ]
  },
  {
   "cell_type": "code",
   "execution_count": 13,
   "id": "d12fd80a",
   "metadata": {},
   "outputs": [
    {
     "name": "stdout",
     "output_type": "stream",
     "text": [
      "1 2\n",
      "4 2 "
     ]
    }
   ],
   "source": [
    "# создание нового массива, путем расчета числа по двум крайним числам\n",
    "a = [int(item) for item in input().split()]\n",
    "a2 = []\n",
    "for i in range(len(a)):\n",
    "    if len(a) == 1:\n",
    "        print(a[0])\n",
    "        break\n",
    "    else:\n",
    "        if i == 0:\n",
    "            a2.append(a[-1] + a[i + 1])\n",
    "        elif i > 0  and i != len(a) - 1:\n",
    "            a2.append(a[i - 1] + a[i + 1])\n",
    "        else:\n",
    "            a2.append(a[i - 1] + a[0])\n",
    "if a2 != 0:\n",
    "    for i in a2:\n",
    "        print(i, end=' ')"
   ]
  },
  {
   "cell_type": "code",
   "execution_count": 14,
   "id": "62fd1742",
   "metadata": {},
   "outputs": [
    {
     "name": "stdout",
     "output_type": "stream",
     "text": [
      "7 2 1 3 6 2 6 9 5 3\n",
      "2 3 6 "
     ]
    }
   ],
   "source": [
    "# вывод повторяющихся значений\n",
    "s = [int(i) for i in input().split()]\n",
    "s.sort()\n",
    "cnt = 1\n",
    "l = len(s)\n",
    "\n",
    "for i in range(l-1):\n",
    "    if i == l-2 or s[i + 1] != s[i + 2]:\n",
    "        if s[i] == s[i + 1]:\n",
    "            print(s[i], end=\" \")"
   ]
  },
  {
   "cell_type": "code",
   "execution_count": 15,
   "id": "c0b5fb17",
   "metadata": {},
   "outputs": [
    {
     "name": "stdout",
     "output_type": "stream",
     "text": [
      "11\n",
      "1 2 2 3 3 3 4 4 4 4 5\n"
     ]
    }
   ],
   "source": [
    "# вывод последовательных значений от 1, по количеству этого значения, в заданном размере\n",
    "n = int(input())\n",
    "lst = []\n",
    "i = 1\n",
    "while True:\n",
    "    lst += [i] * i\n",
    "    if len(lst) >= n:\n",
    "        print(*lst[0:n])\n",
    "        break\n",
    "    i += 1"
   ]
  },
  {
   "cell_type": "code",
   "execution_count": 17,
   "id": "3526eede",
   "metadata": {
    "scrolled": true
   },
   "outputs": [
    {
     "name": "stdout",
     "output_type": "stream",
     "text": [
      "BBBBBBBBBBBBBBBBBBnnnnnnnnnnnnnnnnfffffffffJJJJJJJJllllllllllllllllllZZZggggRRRRRRRRRRRRRRRRRRRRIIIIIIIIIIIIIIIIICCCCCCCCCCCCCCCCCCCsssssssUUUUUUUUUUUUUUUOOxaaaaaaaaaaaaaaaaaaQQQQQQQQQQxxxxxxxxxxxxxxxxxxxxzzzzzzzzzzzzzzzzzzzMMMMMMMMMMMMMMMMSSSSSSSSSSXXXXXXXXXXXXXXXXXXEEEEEEEEEEEIIIIIIhhhhhhhhhhhhhhhhhvvvvvvvvvvvCCCCCCCCCMMllllll"
     ]
    },
    {
     "ename": "KeyboardInterrupt",
     "evalue": "",
     "output_type": "error",
     "traceback": [
      "\u001b[1;31m---------------------------------------------------------------------------\u001b[0m",
      "\u001b[1;31mKeyboardInterrupt\u001b[0m                         Traceback (most recent call last)",
      "Cell \u001b[1;32mIn[17], line 7\u001b[0m\n\u001b[0;32m      5\u001b[0m i \u001b[38;5;241m=\u001b[39m \u001b[38;5;241m0\u001b[39m\n\u001b[0;32m      6\u001b[0m \u001b[38;5;28;01mwhile\u001b[39;00m i \u001b[38;5;241m<\u001b[39m \u001b[38;5;28mlen\u001b[39m(s):\n\u001b[1;32m----> 7\u001b[0m     \u001b[38;5;28miter\u001b[39m \u001b[38;5;241m=\u001b[39m \u001b[38;5;124m'\u001b[39m\u001b[38;5;124m'\u001b[39m\n\u001b[0;32m      8\u001b[0m     \u001b[38;5;28;01mif\u001b[39;00m s[i]\u001b[38;5;241m.\u001b[39misalpha():\n\u001b[0;32m      9\u001b[0m         symbol \u001b[38;5;241m=\u001b[39m s[i]\n",
      "\u001b[1;31mKeyboardInterrupt\u001b[0m: "
     ]
    }
   ],
   "source": [
    "# декодировка по принципу: 'буква''количество'\n",
    "with open('D:/dataset_3363_2.txt') as t:\n",
    "    s = t.readline().strip()\n",
    "def rep(symbol, iter): return symbol*int(iter)\n",
    "i = 0\n",
    "while i < len(s):\n",
    "    iter = ''\n",
    "    if s[i].isalpha():\n",
    "        symbol = s[i]\n",
    "        i += 1\n",
    "        while s[i].isdigit():\n",
    "            iter += s[i]\n",
    "            if i == len(s)-1: break\n",
    "            i += 1\n",
    "        print(rep(symbol, iter),end='')"
   ]
  },
  {
   "cell_type": "code",
   "execution_count": 18,
   "id": "a0e9faca",
   "metadata": {},
   "outputs": [
    {
     "name": "stdout",
     "output_type": "stream",
     "text": [
      "2 2 4 1 \n",
      "2 3 4 5\n",
      "end\n",
      "7 12 11 16 \n",
      "12 10 16 8 \n"
     ]
    }
   ],
   "source": [
    "# создание матрицы по заданной произвольной, путем суммации всех соседних членов данной матрицы\n",
    "matrix = []\n",
    "while True:\n",
    "    a = list(i for i in input().split())    #создаем неограниченный ввод данных\n",
    "    if 'end' in a:                          #прекращаем ввод ключевым словом\n",
    "        break\n",
    "    matrix.append(a)                        #сохраняем вводимые данные\n",
    "\n",
    "imatrix = []                                #создаем список который будет хранить числовые значения\n",
    "\n",
    "for i in matrix:                            #перечиляем вложенные списки\n",
    "    c = list(map(int, i))                   #элементы каждого вложенного списка преобразуем в числовое значение\n",
    "    imatrix.append(c)                       #добавляем в список\n",
    "\n",
    "for i, item in enumerate(imatrix):          #определяем индекс(i) и значение(item)\n",
    "    for x, spis in enumerate(item):         #определяем индекс(x) и число, из списка item\n",
    "        c = imatrix[i-1][x] + imatrix[(i+1)%len(imatrix)][x] + imatrix[i][x-1] + imatrix[i][(x+1)%len(matrix[i])]   #расчитываем сумму значений(сверху, снизу, справа и слева)\n",
    "        print(c, end=' ')\n",
    "    print()"
   ]
  },
  {
   "cell_type": "code",
   "execution_count": null,
   "id": "d25a0f8e",
   "metadata": {},
   "outputs": [],
   "source": []
  }
 ],
 "metadata": {
  "kernelspec": {
   "display_name": "Python 3 (ipykernel)",
   "language": "python",
   "name": "python3"
  },
  "language_info": {
   "codemirror_mode": {
    "name": "ipython",
    "version": 3
   },
   "file_extension": ".py",
   "mimetype": "text/x-python",
   "name": "python",
   "nbconvert_exporter": "python",
   "pygments_lexer": "ipython3",
   "version": "3.9.15"
  }
 },
 "nbformat": 4,
 "nbformat_minor": 5
}
